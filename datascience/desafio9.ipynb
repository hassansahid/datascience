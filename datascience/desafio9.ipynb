{
  "cells": [
    {
      "cell_type": "markdown",
      "metadata": {
        "id": "STAJ6V0lfr0y"
      },
      "source": [
        "#ABANDONO DE LAS TARJETAS DE CRÉDITO POR CLIENTES\n"
      ]
    },
    {
      "cell_type": "code",
      "execution_count": 1,
      "metadata": {
        "id": "BAgfe6vbjCvu"
      },
      "outputs": [],
      "source": [
        "import pandas as pd\n",
        "import matplotlib.pyplot as plt\n",
        "import seaborn as sns"
      ]
    },
    {
      "cell_type": "markdown",
      "metadata": {
        "id": "T-NDXOrAJr-U"
      },
      "source": [
        "# 1- OBJETIVOS\n",
        "\n",
        "**Objetivos principales**\n",
        "\n",
        "- Descubrir la causa por la cual hay deserción de clientes en las tarjetas de crédito\n",
        "-Pronosticar cuales son los posibles clientes que abandonaran las tarjetas de crédito\n",
        "\n",
        "**Objetivos secuendarios**\n",
        "\n",
        "- Determinar que Modelo se adapta de mejor manera a las necesidades del problema\n",
        "- Utilizar modelo para predecir grupos de clientes que abandonarian el banco\n",
        "- Testear modelos generados"
      ]
    },
    {
      "cell_type": "markdown",
      "metadata": {
        "id": "TdkPVFpdKOAs"
      },
      "source": [
        "# 2-Contexto comercial\n",
        "\n",
        "El Gerente comercial de un banco frente a una cartera de tarjetas de crédito de consumo se enfrenta al problema de la deserción de clientes. Quieren analizar los datos para descubrir la razón detrás de esto y aprovechar lo mismo para predecir los clientes que probablemente abandonarán para poder tomar medidas sobre esto."
      ]
    },
    {
      "cell_type": "markdown",
      "metadata": {
        "id": "2OOwu9-mKoWm"
      },
      "source": [
        "# 3- Problema comercial\n",
        "\n",
        "### Hipótesis 1\n",
        "H1 = La media del monto total de transacciones (Total_Trans_Amt) es igual para clientes activos y retirados\n",
        "\n",
        "H0 = La media del monto total de transacciones (Total_Trans_Amt) es diferente para clientes activos y retirados\n",
        "\n",
        "### Hipótesis 2\n",
        "\n",
        "\n",
        "H2 = La media de la cantidad total de transacciones (Total_Trans_Ct) es **igual** para clientes activos y retirados\n",
        "\n",
        "H0 = La media de la cantidad total de transacciones (Total_Trans_Ct) es **diferente** para clientes activos y retirados\n",
        "\n",
        "## Hipótesis 3\n",
        "\n",
        "H3 = La media de la variacion en cantidad de transacciones Q4 -Q1 (1) es **igual** para clientes activos y retirados \n",
        "\n",
        "H0 = La media de la variacion en cantidad de transacciones Q4 -Q1 (Total_Ct_Chng_Q4_Q1) es **diferente** para clientes activos y retirados\n",
        "\n",
        "## Pregunta 1\n",
        " ¿Cúal es el género que más abandona la tarjeta de crédito?\n",
        "\n",
        "## Pregunta 2\n",
        " Los que abandonan la tarjeta de crédito, ¿Cúal es su estado civil?\n",
        "\n",
        "## Pregunta 3\n",
        " ¿Que edades promedio tienen las personas que abandonan las tarjetas de crédito?\n",
        "\n",
        "## Pregunta 4\n",
        "¿Cuanto tiempo en promedio llevan las tarjetas sin utilizar de las personas que abandonan la tarjeta de crédito?\n",
        "\n"
      ]
    },
    {
      "cell_type": "markdown",
      "metadata": {
        "id": "KObgH7ZENamU"
      },
      "source": [
        "# 4- Contexto Análitico\n"
      ]
    },
    {
      "cell_type": "code",
      "execution_count": 2,
      "metadata": {
        "id": "qjT8n_3KjLyI"
      },
      "outputs": [],
      "source": [
        "bank_df = pd.read_csv(\"./archivos/BankChurners.csv\")"
      ]
    },
    {
      "cell_type": "markdown",
      "metadata": {
        "id": "bjiCC8nrJmIz"
      },
      "source": [
        "\n",
        "**Diccionario de Variables**\n",
        "\n",
        "CLIENTNUM Client number. Unique identifier for the customer holding the account\n",
        "\n",
        "Attrition_FlagInternal event (customer activity) variable - if the account is closed then 1 else 0\n",
        "\n",
        "Customer_Age Demographic variable - Customer's Age in Years\n",
        "\n",
        "Gender Demographic variable - M=Male, F=Female\n",
        "\n",
        "Dependent_count Demographic variable - Number of dependents\n",
        "\n",
        "Education_Level Demographic variable - Educational Qualification of the account holder (example: high school, college graduate, etc.)\n",
        "\n",
        "Marital_Status Demographic variable - Married, Single, Divorced, Unknown\n",
        "\n",
        "Income_Category Demographic variable - Annual Income Category of the account holder (< 40K, 40K - 60K, $60K - 80K, 80K-120K, > 120K, Unknown)\n",
        "\n",
        "Card_Category Product Variable - Type of Card (Blue, Silver, Gold, Platinum)\n",
        "\n",
        "Months_on_book Period of relationship with bank\n",
        "\n",
        "Total_Relationship_Count Total no. of products held by the customer\n",
        "\n",
        "Months_Inactive_12_mon No. of months inactive in the last 12 months\n",
        "\n",
        "Contacts_Count_12_mon No. of Contacts in the last 12 months\n",
        "\n",
        "Credit_Limit Credit Limit on the Credit Card\n",
        "\n",
        "Total_Revolving_Bal Total Revolving Balance on the Credit Card\n",
        "\n",
        "Avg_Open_To_Buy Open to Buy Credit Line (Average of last 12 months)\n",
        "\n",
        "Total_Amt_Chng_Q4_Q1 Change in Transaction Amount (Q4 over Q1)\n",
        "\n",
        "Total_Trans_Amt Total Transaction Amount (Last 12 months)\n",
        "\n",
        "Total_Trans_Ct Total Transaction Count (Last 12 months)\n",
        "\n",
        "Total_Ct_Chng_Q4_Q1 Change in Transaction Count (Q4 over Q1)\n",
        "\n",
        "Avg_Utilization_Ratio Average Card Utilization Ratio\n"
      ]
    },
    {
      "cell_type": "code",
      "execution_count": 3,
      "metadata": {
        "colab": {
          "base_uri": "https://localhost:8080/",
          "height": 386
        },
        "id": "TSyWtakXjfsQ",
        "outputId": "3d2e8fe3-bcad-463d-f52c-791034868c51"
      },
      "outputs": [
        {
          "data": {
            "text/html": [
              "<div>\n",
              "<style scoped>\n",
              "    .dataframe tbody tr th:only-of-type {\n",
              "        vertical-align: middle;\n",
              "    }\n",
              "\n",
              "    .dataframe tbody tr th {\n",
              "        vertical-align: top;\n",
              "    }\n",
              "\n",
              "    .dataframe thead th {\n",
              "        text-align: right;\n",
              "    }\n",
              "</style>\n",
              "<table border=\"1\" class=\"dataframe\">\n",
              "  <thead>\n",
              "    <tr style=\"text-align: right;\">\n",
              "      <th></th>\n",
              "      <th>CLIENTNUM</th>\n",
              "      <th>Attrition_Flag</th>\n",
              "      <th>Customer_Age</th>\n",
              "      <th>Gender</th>\n",
              "      <th>Dependent_count</th>\n",
              "      <th>Education_Level</th>\n",
              "      <th>Marital_Status</th>\n",
              "      <th>Income_Category</th>\n",
              "      <th>Card_Category</th>\n",
              "      <th>Months_on_book</th>\n",
              "      <th>...</th>\n",
              "      <th>Credit_Limit</th>\n",
              "      <th>Total_Revolving_Bal</th>\n",
              "      <th>Avg_Open_To_Buy</th>\n",
              "      <th>Total_Amt_Chng_Q4_Q1</th>\n",
              "      <th>Total_Trans_Amt</th>\n",
              "      <th>Total_Trans_Ct</th>\n",
              "      <th>Total_Ct_Chng_Q4_Q1</th>\n",
              "      <th>Avg_Utilization_Ratio</th>\n",
              "      <th>Naive_Bayes_Classifier_Attrition_Flag_Card_Category_Contacts_Count_12_mon_Dependent_count_Education_Level_Months_Inactive_12_mon_1</th>\n",
              "      <th>Naive_Bayes_Classifier_Attrition_Flag_Card_Category_Contacts_Count_12_mon_Dependent_count_Education_Level_Months_Inactive_12_mon_2</th>\n",
              "    </tr>\n",
              "  </thead>\n",
              "  <tbody>\n",
              "    <tr>\n",
              "      <th>0</th>\n",
              "      <td>768805383</td>\n",
              "      <td>Existing Customer</td>\n",
              "      <td>45</td>\n",
              "      <td>M</td>\n",
              "      <td>3</td>\n",
              "      <td>High School</td>\n",
              "      <td>Married</td>\n",
              "      <td>$60K - $80K</td>\n",
              "      <td>Blue</td>\n",
              "      <td>39</td>\n",
              "      <td>...</td>\n",
              "      <td>12691.0</td>\n",
              "      <td>777</td>\n",
              "      <td>11914.0</td>\n",
              "      <td>1.335</td>\n",
              "      <td>1144</td>\n",
              "      <td>42</td>\n",
              "      <td>1.625</td>\n",
              "      <td>0.061</td>\n",
              "      <td>0.000093</td>\n",
              "      <td>0.99991</td>\n",
              "    </tr>\n",
              "    <tr>\n",
              "      <th>1</th>\n",
              "      <td>818770008</td>\n",
              "      <td>Existing Customer</td>\n",
              "      <td>49</td>\n",
              "      <td>F</td>\n",
              "      <td>5</td>\n",
              "      <td>Graduate</td>\n",
              "      <td>Single</td>\n",
              "      <td>Less than $40K</td>\n",
              "      <td>Blue</td>\n",
              "      <td>44</td>\n",
              "      <td>...</td>\n",
              "      <td>8256.0</td>\n",
              "      <td>864</td>\n",
              "      <td>7392.0</td>\n",
              "      <td>1.541</td>\n",
              "      <td>1291</td>\n",
              "      <td>33</td>\n",
              "      <td>3.714</td>\n",
              "      <td>0.105</td>\n",
              "      <td>0.000057</td>\n",
              "      <td>0.99994</td>\n",
              "    </tr>\n",
              "    <tr>\n",
              "      <th>2</th>\n",
              "      <td>713982108</td>\n",
              "      <td>Existing Customer</td>\n",
              "      <td>51</td>\n",
              "      <td>M</td>\n",
              "      <td>3</td>\n",
              "      <td>Graduate</td>\n",
              "      <td>Married</td>\n",
              "      <td>$80K - $120K</td>\n",
              "      <td>Blue</td>\n",
              "      <td>36</td>\n",
              "      <td>...</td>\n",
              "      <td>3418.0</td>\n",
              "      <td>0</td>\n",
              "      <td>3418.0</td>\n",
              "      <td>2.594</td>\n",
              "      <td>1887</td>\n",
              "      <td>20</td>\n",
              "      <td>2.333</td>\n",
              "      <td>0.000</td>\n",
              "      <td>0.000021</td>\n",
              "      <td>0.99998</td>\n",
              "    </tr>\n",
              "    <tr>\n",
              "      <th>3</th>\n",
              "      <td>769911858</td>\n",
              "      <td>Existing Customer</td>\n",
              "      <td>40</td>\n",
              "      <td>F</td>\n",
              "      <td>4</td>\n",
              "      <td>High School</td>\n",
              "      <td>Unknown</td>\n",
              "      <td>Less than $40K</td>\n",
              "      <td>Blue</td>\n",
              "      <td>34</td>\n",
              "      <td>...</td>\n",
              "      <td>3313.0</td>\n",
              "      <td>2517</td>\n",
              "      <td>796.0</td>\n",
              "      <td>1.405</td>\n",
              "      <td>1171</td>\n",
              "      <td>20</td>\n",
              "      <td>2.333</td>\n",
              "      <td>0.760</td>\n",
              "      <td>0.000134</td>\n",
              "      <td>0.99987</td>\n",
              "    </tr>\n",
              "    <tr>\n",
              "      <th>4</th>\n",
              "      <td>709106358</td>\n",
              "      <td>Existing Customer</td>\n",
              "      <td>40</td>\n",
              "      <td>M</td>\n",
              "      <td>3</td>\n",
              "      <td>Uneducated</td>\n",
              "      <td>Married</td>\n",
              "      <td>$60K - $80K</td>\n",
              "      <td>Blue</td>\n",
              "      <td>21</td>\n",
              "      <td>...</td>\n",
              "      <td>4716.0</td>\n",
              "      <td>0</td>\n",
              "      <td>4716.0</td>\n",
              "      <td>2.175</td>\n",
              "      <td>816</td>\n",
              "      <td>28</td>\n",
              "      <td>2.500</td>\n",
              "      <td>0.000</td>\n",
              "      <td>0.000022</td>\n",
              "      <td>0.99998</td>\n",
              "    </tr>\n",
              "  </tbody>\n",
              "</table>\n",
              "<p>5 rows × 23 columns</p>\n",
              "</div>"
            ],
            "text/plain": [
              "   CLIENTNUM     Attrition_Flag  Customer_Age Gender  Dependent_count  \\\n",
              "0  768805383  Existing Customer            45      M                3   \n",
              "1  818770008  Existing Customer            49      F                5   \n",
              "2  713982108  Existing Customer            51      M                3   \n",
              "3  769911858  Existing Customer            40      F                4   \n",
              "4  709106358  Existing Customer            40      M                3   \n",
              "\n",
              "  Education_Level Marital_Status Income_Category Card_Category  \\\n",
              "0     High School        Married     $60K - $80K          Blue   \n",
              "1        Graduate         Single  Less than $40K          Blue   \n",
              "2        Graduate        Married    $80K - $120K          Blue   \n",
              "3     High School        Unknown  Less than $40K          Blue   \n",
              "4      Uneducated        Married     $60K - $80K          Blue   \n",
              "\n",
              "   Months_on_book  ...  Credit_Limit  Total_Revolving_Bal  Avg_Open_To_Buy  \\\n",
              "0              39  ...       12691.0                  777          11914.0   \n",
              "1              44  ...        8256.0                  864           7392.0   \n",
              "2              36  ...        3418.0                    0           3418.0   \n",
              "3              34  ...        3313.0                 2517            796.0   \n",
              "4              21  ...        4716.0                    0           4716.0   \n",
              "\n",
              "   Total_Amt_Chng_Q4_Q1  Total_Trans_Amt  Total_Trans_Ct  Total_Ct_Chng_Q4_Q1  \\\n",
              "0                 1.335             1144              42                1.625   \n",
              "1                 1.541             1291              33                3.714   \n",
              "2                 2.594             1887              20                2.333   \n",
              "3                 1.405             1171              20                2.333   \n",
              "4                 2.175              816              28                2.500   \n",
              "\n",
              "   Avg_Utilization_Ratio  \\\n",
              "0                  0.061   \n",
              "1                  0.105   \n",
              "2                  0.000   \n",
              "3                  0.760   \n",
              "4                  0.000   \n",
              "\n",
              "   Naive_Bayes_Classifier_Attrition_Flag_Card_Category_Contacts_Count_12_mon_Dependent_count_Education_Level_Months_Inactive_12_mon_1  \\\n",
              "0                                           0.000093                                                                                    \n",
              "1                                           0.000057                                                                                    \n",
              "2                                           0.000021                                                                                    \n",
              "3                                           0.000134                                                                                    \n",
              "4                                           0.000022                                                                                    \n",
              "\n",
              "   Naive_Bayes_Classifier_Attrition_Flag_Card_Category_Contacts_Count_12_mon_Dependent_count_Education_Level_Months_Inactive_12_mon_2  \n",
              "0                                            0.99991                                                                                   \n",
              "1                                            0.99994                                                                                   \n",
              "2                                            0.99998                                                                                   \n",
              "3                                            0.99987                                                                                   \n",
              "4                                            0.99998                                                                                   \n",
              "\n",
              "[5 rows x 23 columns]"
            ]
          },
          "execution_count": 3,
          "metadata": {},
          "output_type": "execute_result"
        }
      ],
      "source": [
        "bank_df.head(5)"
      ]
    },
    {
      "cell_type": "markdown",
      "metadata": {
        "id": "ywem_yL6jx_A"
      },
      "source": [
        "**La fuente de donde se obtuvo el dataset recomienda eliminar las ultimas dos columnas, por lo que se procede a hacer un drop de las mismas**"
      ]
    },
    {
      "cell_type": "code",
      "execution_count": 4,
      "metadata": {
        "id": "QdgClQtsj5JC"
      },
      "outputs": [],
      "source": [
        "bank_df = bank_df.drop(columns=[\"Naive_Bayes_Classifier_Attrition_Flag_Card_Category_Contacts_Count_12_mon_Dependent_count_Education_Level_Months_Inactive_12_mon_1\",\"Naive_Bayes_Classifier_Attrition_Flag_Card_Category_Contacts_Count_12_mon_Dependent_count_Education_Level_Months_Inactive_12_mon_2\"])"
      ]
    },
    {
      "cell_type": "code",
      "execution_count": 5,
      "metadata": {
        "colab": {
          "base_uri": "https://localhost:8080/"
        },
        "id": "1KILFzK0kJx6",
        "outputId": "43ac9045-7209-4c3a-c3ee-25c9c7dc0b61"
      },
      "outputs": [
        {
          "name": "stdout",
          "output_type": "stream",
          "text": [
            "<class 'pandas.core.frame.DataFrame'>\n",
            "RangeIndex: 10127 entries, 0 to 10126\n",
            "Data columns (total 21 columns):\n",
            " #   Column                    Non-Null Count  Dtype  \n",
            "---  ------                    --------------  -----  \n",
            " 0   CLIENTNUM                 10127 non-null  int64  \n",
            " 1   Attrition_Flag            10127 non-null  object \n",
            " 2   Customer_Age              10127 non-null  int64  \n",
            " 3   Gender                    10127 non-null  object \n",
            " 4   Dependent_count           10127 non-null  int64  \n",
            " 5   Education_Level           10127 non-null  object \n",
            " 6   Marital_Status            10127 non-null  object \n",
            " 7   Income_Category           10127 non-null  object \n",
            " 8   Card_Category             10127 non-null  object \n",
            " 9   Months_on_book            10127 non-null  int64  \n",
            " 10  Total_Relationship_Count  10127 non-null  int64  \n",
            " 11  Months_Inactive_12_mon    10127 non-null  int64  \n",
            " 12  Contacts_Count_12_mon     10127 non-null  int64  \n",
            " 13  Credit_Limit              10127 non-null  float64\n",
            " 14  Total_Revolving_Bal       10127 non-null  int64  \n",
            " 15  Avg_Open_To_Buy           10127 non-null  float64\n",
            " 16  Total_Amt_Chng_Q4_Q1      10127 non-null  float64\n",
            " 17  Total_Trans_Amt           10127 non-null  int64  \n",
            " 18  Total_Trans_Ct            10127 non-null  int64  \n",
            " 19  Total_Ct_Chng_Q4_Q1       10127 non-null  float64\n",
            " 20  Avg_Utilization_Ratio     10127 non-null  float64\n",
            "dtypes: float64(5), int64(10), object(6)\n",
            "memory usage: 1.6+ MB\n"
          ]
        }
      ],
      "source": [
        "bank_df.info()"
      ]
    },
    {
      "cell_type": "markdown",
      "metadata": {
        "id": "T06EiiHukU1p"
      },
      "source": [
        "Se puede observar, que el dataset cuenta con 21 columnas, de las cuales 15 son numericas y 6 son objetos, es decir categoricas."
      ]
    },
    {
      "cell_type": "markdown",
      "metadata": {
        "id": "pJtg4hOnlaYF"
      },
      "source": [
        "# 5-Análisis Exploratorio de Datos (EDA)"
      ]
    },
    {
      "cell_type": "code",
      "execution_count": 6,
      "metadata": {
        "id": "xbiYvhIjPnKb"
      },
      "outputs": [],
      "source": [
        "columns_name = list(bank_df.columns.values)  \n",
        "#  Se arma una lista con los nombres de las columnas para usarla a continuacion"
      ]
    },
    {
      "cell_type": "markdown",
      "metadata": {
        "id": "E7DXCYO_PwLA"
      },
      "source": [
        "**Se realiza una serie de histogramas para cada una de las columnas con el objetivo de ver si se puede apreciar algun patrón interesante a ser analizado. Como el objetivo de este analisis es predecir el \"Attrition_Flag\" se realizo una agrupacon por esta categoria.**"
      ]
    },
    {
      "cell_type": "code",
      "execution_count": 7,
      "metadata": {
        "colab": {
          "base_uri": "https://localhost:8080/",
          "height": 1000
        },
        "id": "2DZ5Oy-QP8HD",
        "outputId": "be004851-2856-47df-ae5e-5dce1f2f9713"
      },
      "outputs": [
        {
          "data": {
            "image/png": "[encoded data removed]",
            "text/plain": [
              "<Figure size 2160x2520 with 24 Axes>"
            ]
          },
          "metadata": {
            "needs_background": "light"
          },
          "output_type": "display_data"
        }
      ],
      "source": [
        "fig , axes = plt.subplots(6,4,figsize = (30,35))\n",
        "i = 0\n",
        "for fil in range(6):\n",
        "  for col in range(4):\n",
        "    if i <=20:                     #esta condicion se plantea ya que las ultimas 2 columnas del dataset no hay que usarlas para analisi segun la pagina\n",
        "        sns.histplot(data=bank_df,\n",
        "              ax=axes[fil,col],\n",
        "              x=columns_name[i],\n",
        "              hue = 'Attrition_Flag'\n",
        "              )\n",
        "        i = i + 1\n",
        "plt.show()"
      ]
    },
    {
      "cell_type": "markdown",
      "metadata": {
        "id": "o325E5SCScmk"
      },
      "source": [
        "## Análisis de las hipótesis planteadas\n",
        "\n"
      ]
    },
    {
      "cell_type": "markdown",
      "metadata": {
        "id": "a2CxEiJH8Sxy"
      },
      "source": [
        "### Hipótesis 1"
      ]
    },
    {
      "cell_type": "markdown",
      "metadata": {
        "id": "A_AhbT2KQkpi"
      },
      "source": [
        "\n",
        "H1 = La media del monto total de transacciones (Total_Trans_Amt) es igual para clientes activos y retirados\n",
        "\n",
        "H0 = La media del monto total de transacciones (Total_Trans_Amt) es diferente para clientes activos y retirados"
      ]
    },
    {
      "cell_type": "code",
      "execution_count": 8,
      "metadata": {
        "colab": {
          "base_uri": "https://localhost:8080/"
        },
        "id": "SLRyDuNVQrI8",
        "outputId": "e66f0659-4ee3-4c3f-aa49-2d539aab892f"
      },
      "outputs": [
        {
          "name": "stdout",
          "output_type": "stream",
          "text": [
            "Media de montos de transferencia de clientes ACTIVOS 4654.655882352941\n",
            "Media de montos de transferencias de clientes INACTIVOS 3095.025814382299\n"
          ]
        }
      ],
      "source": [
        "Retirados = bank_df['Attrition_Flag'] == \"Attrited Customer\" \n",
        "Activos = bank_df['Attrition_Flag'] != \"Attrited Customer\" \n",
        "print(\"Media de montos de transferencia de clientes ACTIVOS\" ,bank_df[Activos].Total_Trans_Amt.mean())  # Mediana de clientes activos\n",
        "print(\"Media de montos de transferencias de clientes INACTIVOS\" ,bank_df[Retirados].Total_Trans_Amt.mean()) # Mediana de clientes retirados"
      ]
    },
    {
      "cell_type": "markdown",
      "metadata": {
        "id": "4Co2QovT5jML"
      },
      "source": [
        "Analisis de la media con groupby"
      ]
    },
    {
      "cell_type": "code",
      "execution_count": 9,
      "metadata": {
        "id": "7STlKcAj4ceW"
      },
      "outputs": [],
      "source": [
        "media_tta = bank_df['Total_Trans_Amt'].groupby(bank_df['Attrition_Flag']).mean()\n",
        "sum_tta = bank_df['Total_Trans_Amt'].groupby(bank_df['Attrition_Flag']).sum()"
      ]
    },
    {
      "cell_type": "code",
      "execution_count": 10,
      "metadata": {
        "colab": {
          "base_uri": "https://localhost:8080/"
        },
        "id": "51Nnb1Pb5E5G",
        "outputId": "82ac6e73-1f0b-45aa-877f-57382e86e645"
      },
      "outputs": [
        {
          "name": "stdout",
          "output_type": "stream",
          "text": [
            "media del monto total de transacciones por Attrition Flag\n",
            "Attrition_Flag\n",
            "Attrited Customer    3095.025814\n",
            "Existing Customer    4654.655882\n",
            "Name: Total_Trans_Amt, dtype: float64\n",
            "_ _ _ _ _ _ _ _ _ _ _ _ _ _ _ _ _ _ _ _ _ _ _ _ _ _ _ _ _ _ \n",
            " \n",
            "suma del monto total de transacciones por Attrition Flag\n",
            "Attrition_Flag\n",
            "Attrited Customer     5035607\n",
            "Existing Customer    39564575\n",
            "Name: Total_Trans_Amt, dtype: int64\n"
          ]
        }
      ],
      "source": [
        "print('media del monto total de transacciones por Attrition Flag')\n",
        "print(media_tta)\n",
        "print('_ '*30)\n",
        "print(' ')\n",
        "print('suma del monto total de transacciones por Attrition Flag')\n",
        "print(sum_tta)"
      ]
    },
    {
      "cell_type": "markdown",
      "metadata": {
        "id": "1IIEQ6EZQ1vu"
      },
      "source": [
        "Se nota que los valores de las medias son diferentes. Por lo que se descarta la H1 y se validaria la H0.\n",
        "\n",
        "En función de esto, se procede a analizar mas a detalle. Para ello se realizan 2 graficos, un histograma y un boxplot con el objetivo de determinar que tipo de distribucion siguen los datos y para determinar la existencia de outliers. En caso de que se encuentren outliers la media no es una medida muy representativa, por lo que se analizara con la mediana."
      ]
    },
    {
      "cell_type": "code",
      "execution_count": 11,
      "metadata": {
        "colab": {
          "base_uri": "https://localhost:8080/",
          "height": 933
        },
        "id": "Hd5kuuMVQ8ME",
        "outputId": "8ab1cdc5-e483-4c38-ad7c-3913f82b33e3"
      },
      "outputs": [
        {
          "data": {
            "image/png": "[encoded data removed]",
            "text/plain": [
              "<Figure size 1080x1152 with 2 Axes>"
            ]
          },
          "metadata": {
            "needs_background": "light"
          },
          "output_type": "display_data"
        }
      ],
      "source": [
        "fig,axes = plt.subplots(2,1,figsize=(15,16))\n",
        "sns.histplot(ax = axes[0],\n",
        "             data  =bank_df,\n",
        "             x = \"Total_Trans_Amt\",\n",
        "             hue = \"Attrition_Flag\",\n",
        "             kde = True\n",
        "             )\n",
        "sns.boxplot(ax = axes[1],\n",
        "            data = bank_df,\n",
        "            x = \"Total_Trans_Amt\",\n",
        "            y = \"Attrition_Flag\"\n",
        "            )\n",
        "plt.show()"
      ]
    },
    {
      "cell_type": "markdown",
      "metadata": {
        "id": "YlRkW8xiRFdW"
      },
      "source": [
        "Se observa gran cantidad de outliers, por lo que se analizara la mediana."
      ]
    },
    {
      "cell_type": "code",
      "execution_count": 12,
      "metadata": {
        "colab": {
          "base_uri": "https://localhost:8080/"
        },
        "id": "ORmFelSNRH7k",
        "outputId": "68f1ff3a-e541-43b3-d708-7a4f53092609"
      },
      "outputs": [
        {
          "name": "stdout",
          "output_type": "stream",
          "text": [
            "Mediana de montos de transferencia de clientes ACTIVOS 4100.0\n",
            "Mediana de montos de transferencias de clientes INACTIVOS 2329.0\n"
          ]
        }
      ],
      "source": [
        "print(\"Mediana de montos de transferencia de clientes ACTIVOS\" ,bank_df[Activos].Total_Trans_Amt.median())  # Mediana de clientes activos\n",
        "print(\"Mediana de montos de transferencias de clientes INACTIVOS\" ,bank_df[Retirados].Total_Trans_Amt.median()) # Mediana de clientes retirados"
      ]
    },
    {
      "cell_type": "code",
      "execution_count": 13,
      "metadata": {
        "colab": {
          "base_uri": "https://localhost:8080/"
        },
        "id": "VXumJg8XRM9b",
        "outputId": "bf9fc789-7c66-4f23-d631-95cdfaebd616"
      },
      "outputs": [
        {
          "data": {
            "text/plain": [
              "2329.0"
            ]
          },
          "execution_count": 13,
          "metadata": {},
          "output_type": "execute_result"
        }
      ],
      "source": [
        "bank_df[bank_df['Attrition_Flag'] == \"Attrited Customer\"].Total_Trans_Amt.median() # LO MISMO PERO EN UNA SOLA LINEA"
      ]
    },
    {
      "cell_type": "markdown",
      "metadata": {
        "id": "lEdQ8uG050dm"
      },
      "source": [
        "Analisis de la mediana con groupby"
      ]
    },
    {
      "cell_type": "code",
      "execution_count": 14,
      "metadata": {
        "id": "YMW5xeiw549Z"
      },
      "outputs": [],
      "source": [
        "mediana_tta = bank_df['Total_Trans_Amt'].groupby(bank_df['Attrition_Flag']).median()"
      ]
    },
    {
      "cell_type": "code",
      "execution_count": 15,
      "metadata": {
        "colab": {
          "base_uri": "https://localhost:8080/"
        },
        "id": "cXP7LP5W751q",
        "outputId": "aee07816-d230-42dc-bf9b-510aa962eb87"
      },
      "outputs": [
        {
          "name": "stdout",
          "output_type": "stream",
          "text": [
            "mediana del monto total de transacciones por Attrition Flag\n",
            "Attrition_Flag\n",
            "Attrited Customer    2329.0\n",
            "Existing Customer    4100.0\n",
            "Name: Total_Trans_Amt, dtype: float64\n"
          ]
        }
      ],
      "source": [
        "print('mediana del monto total de transacciones por Attrition Flag')\n",
        "print(mediana_tta)"
      ]
    },
    {
      "cell_type": "markdown",
      "metadata": {
        "id": "mMSgZSYMRRJe"
      },
      "source": [
        "Ahora se calculan los Q1 y Q3 para sacar el IQR \n",
        "Vamos a usar una A para referirnos a los clientes ACTIVOS y una R para los clientes RETIRADOS"
      ]
    },
    {
      "cell_type": "code",
      "execution_count": 16,
      "metadata": {
        "colab": {
          "base_uri": "https://localhost:8080/"
        },
        "id": "PJLidlZfRVAH",
        "outputId": "4f147bcd-28f3-416c-9e7d-a5289e490cb1"
      },
      "outputs": [
        {
          "name": "stdout",
          "output_type": "stream",
          "text": [
            "Q1R =  1903.5\n",
            "Q3R =  2772.0\n",
            "IQR Retirados =  868.5\n",
            "Q1A =  2384.75\n",
            "Q3A =  4781.25\n",
            "IQR Activos =  2396.5\n"
          ]
        }
      ],
      "source": [
        "Q1R = bank_df[bank_df['Attrition_Flag'] == \"Attrited Customer\"].Total_Trans_Amt.quantile(0.25)\n",
        "Q3R = bank_df[bank_df['Attrition_Flag'] == \"Attrited Customer\"].Total_Trans_Amt.quantile(0.75)\n",
        "print(\"Q1R = \",Q1R)\n",
        "print(\"Q3R = \",Q3R)\n",
        "print(\"IQR Retirados = \", Q3R-Q1R)\n",
        "\n",
        "Q1A = bank_df[bank_df['Attrition_Flag'] != \"Attrited Customer\"].Total_Trans_Amt.quantile(0.25)\n",
        "Q3A = bank_df[bank_df['Attrition_Flag'] != \"Attrited Customer\"].Total_Trans_Amt.quantile(0.75)\n",
        "print(\"Q1A = \",Q1A)\n",
        "print(\"Q3A = \",Q3A)\n",
        "print(\"IQR Activos = \", Q3A-Q1A)"
      ]
    },
    {
      "cell_type": "markdown",
      "metadata": {
        "id": "eSU4rZldRX7n"
      },
      "source": [
        "Podemos observar que los montos de las transferencias realizadas por clientes activos se concentran entre los 2384 y 4781 USD. Mientras que los montos de las transferencias realizadas por clientes retirados se encuentran entre los 1903 y 2772 USD"
      ]
    },
    {
      "cell_type": "markdown",
      "metadata": {
        "id": "uroQ5Dj4848G"
      },
      "source": [
        "### Hipótesis 2"
      ]
    },
    {
      "cell_type": "markdown",
      "metadata": {
        "id": "2KjPHdI1Rbal"
      },
      "source": [
        "\n",
        "\n",
        "H2 = La media de la cantidad total de transacciones (Total_Trans_Ct) es igual para clientes activos y retirados\n",
        "\n",
        "H0 = La media de la cantidad total de transacciones (Total_Trans_Ct) es diferente para clientes activos y retirados\n",
        "\n"
      ]
    },
    {
      "cell_type": "code",
      "execution_count": 17,
      "metadata": {
        "colab": {
          "base_uri": "https://localhost:8080/"
        },
        "id": "3sMKQxt8Rh6d",
        "outputId": "f3d71287-52bd-4d59-be06-64a3bbf554ad"
      },
      "outputs": [
        {
          "name": "stdout",
          "output_type": "stream",
          "text": [
            "Media de cantidad de transferencia de clientes ACTIVOS 68.67258823529411\n",
            "Media de cantidad de transferencias de clientes INACTIVOS 44.93362015980332\n"
          ]
        }
      ],
      "source": [
        "print(\"Media de cantidad de transferencia de clientes ACTIVOS\" ,bank_df[bank_df['Attrition_Flag'] != \"Attrited Customer\"].Total_Trans_Ct.mean())\n",
        "print(\"Media de cantidad de transferencias de clientes INACTIVOS\" ,bank_df[bank_df['Attrition_Flag'] == \"Attrited Customer\"].Total_Trans_Ct.mean())"
      ]
    },
    {
      "cell_type": "markdown",
      "metadata": {
        "id": "_N1KB9cb9Ala"
      },
      "source": [
        "Analisis de la media con groupby"
      ]
    },
    {
      "cell_type": "code",
      "execution_count": 18,
      "metadata": {
        "id": "eEdwJgp78_2p"
      },
      "outputs": [],
      "source": [
        "media_ttc = bank_df['Total_Trans_Ct'].groupby(bank_df['Attrition_Flag']).mean()\n",
        "sum_ttc = bank_df['Total_Trans_Ct'].groupby(bank_df['Attrition_Flag']).sum()"
      ]
    },
    {
      "cell_type": "code",
      "execution_count": 19,
      "metadata": {
        "colab": {
          "base_uri": "https://localhost:8080/"
        },
        "id": "lNZS7DSY9RKp",
        "outputId": "67562cc8-a18c-4045-b242-0c3b12ee8078"
      },
      "outputs": [
        {
          "name": "stdout",
          "output_type": "stream",
          "text": [
            "media del conteo total de transacciones por Attrition Flag\n",
            "Attrition_Flag\n",
            "Attrited Customer    44.933620\n",
            "Existing Customer    68.672588\n",
            "Name: Total_Trans_Ct, dtype: float64\n",
            "_ _ _ _ _ _ _ _ _ _ _ _ _ _ _ _ _ _ _ _ _ _ _ _ _ _ _ _ _ _ \n",
            " \n",
            "suma del conteo total de transacciones por Attrition Flag\n",
            "Attrition_Flag\n",
            "Attrited Customer     73107\n",
            "Existing Customer    583717\n",
            "Name: Total_Trans_Ct, dtype: int64\n"
          ]
        }
      ],
      "source": [
        "print('media del conteo total de transacciones por Attrition Flag')\n",
        "print(media_ttc)\n",
        "print('_ '*30)\n",
        "print(' ')\n",
        "print('suma del conteo total de transacciones por Attrition Flag')\n",
        "print(sum_ttc)"
      ]
    },
    {
      "cell_type": "markdown",
      "metadata": {
        "id": "lFW9sj31RmIv"
      },
      "source": [
        "Se nota que los valores de las medias son diferentes. Por lo que se descarta la H2 y se validaria la H0."
      ]
    },
    {
      "cell_type": "code",
      "execution_count": 20,
      "metadata": {
        "colab": {
          "base_uri": "https://localhost:8080/",
          "height": 933
        },
        "id": "dMVYScj5RqSW",
        "outputId": "233da6cf-c45f-4cb8-870a-2d003316736e"
      },
      "outputs": [
        {
          "data": {
            "image/png": "[encoded data removed]",
            "text/plain": [
              "<Figure size 1080x1152 with 2 Axes>"
            ]
          },
          "metadata": {
            "needs_background": "light"
          },
          "output_type": "display_data"
        }
      ],
      "source": [
        "fig,axes = plt.subplots(2,1,figsize=(15,16))\n",
        "sns.histplot(ax = axes[0],\n",
        "             data  =bank_df,\n",
        "             x = \"Total_Trans_Ct\",\n",
        "             hue = \"Attrition_Flag\",\n",
        "             kde = True\n",
        "             )\n",
        "sns.boxplot(ax = axes[1],\n",
        "            data = bank_df,\n",
        "            x = \"Total_Trans_Ct\",\n",
        "            y = \"Attrition_Flag\"\n",
        "            )\n",
        "plt.show()"
      ]
    },
    {
      "cell_type": "code",
      "execution_count": 21,
      "metadata": {
        "colab": {
          "base_uri": "https://localhost:8080/"
        },
        "id": "Ao9q_ZPmRuF2",
        "outputId": "ab772aa9-873f-4bba-8402-483b7c4fe34a"
      },
      "outputs": [
        {
          "name": "stdout",
          "output_type": "stream",
          "text": [
            "Mediana de cantidad de transferencia de clientes ACTIVOS 71.0\n",
            "Mediana de cantidad de transferencias de clientes INACTIVOS 43.0\n"
          ]
        }
      ],
      "source": [
        "print(\"Mediana de cantidad de transferencia de clientes ACTIVOS\" ,bank_df[bank_df['Attrition_Flag'] != \"Attrited Customer\"].Total_Trans_Ct.median())  # Mediana de clientes activos\n",
        "print(\"Mediana de cantidad de transferencias de clientes INACTIVOS\" ,bank_df[bank_df['Attrition_Flag'] == \"Attrited Customer\"].Total_Trans_Ct.median()) # Mediana de clientes retirados"
      ]
    },
    {
      "cell_type": "markdown",
      "metadata": {
        "id": "itIQYMof9kwn"
      },
      "source": [
        "Analisis de la mediana con groupby"
      ]
    },
    {
      "cell_type": "code",
      "execution_count": 22,
      "metadata": {
        "id": "eFkXEwV99mpI"
      },
      "outputs": [],
      "source": [
        "mediana_ttc = bank_df['Total_Trans_Ct'].groupby(bank_df['Attrition_Flag']).median()"
      ]
    },
    {
      "cell_type": "code",
      "execution_count": 23,
      "metadata": {
        "colab": {
          "base_uri": "https://localhost:8080/"
        },
        "id": "UgbFJ9x69p73",
        "outputId": "bd5f5a01-2ee4-4203-d5ed-39c0ba291669"
      },
      "outputs": [
        {
          "name": "stdout",
          "output_type": "stream",
          "text": [
            "Mediana del conteo total de transacciones por Attrition Flag\n",
            "Attrition_Flag\n",
            "Attrited Customer    43.0\n",
            "Existing Customer    71.0\n",
            "Name: Total_Trans_Ct, dtype: float64\n"
          ]
        }
      ],
      "source": [
        "print('Mediana del conteo total de transacciones por Attrition Flag')\n",
        "print(mediana_ttc)"
      ]
    },
    {
      "cell_type": "markdown",
      "metadata": {
        "id": "pjXTLLXDAUGH"
      },
      "source": [
        "Ahora se calculan los Q1 y Q3 para sacar el IQR Vamos a usar una A para referirnos a los clientes ACTIVOS y una R para los clientes RETIRADOS"
      ]
    },
    {
      "cell_type": "code",
      "execution_count": 24,
      "metadata": {
        "colab": {
          "base_uri": "https://localhost:8080/"
        },
        "id": "8xDMovJjRw9u",
        "outputId": "1d109af4-459c-4baf-cb0d-e99289969b54"
      },
      "outputs": [
        {
          "name": "stdout",
          "output_type": "stream",
          "text": [
            "Q1R =  37.0\n",
            "Q3R =  51.0\n",
            "IQR Retirados =  14.0\n",
            "Q1A =  54.0\n",
            "Q3A =  82.0\n",
            "IQR Activos =  28.0\n"
          ]
        }
      ],
      "source": [
        "Q3R = bank_df[bank_df['Attrition_Flag'] == \"Attrited Customer\"].Total_Trans_Ct.quantile(0.75)\n",
        "Q1R = bank_df[bank_df['Attrition_Flag'] == \"Attrited Customer\"].Total_Trans_Ct.quantile(0.25)\n",
        "print(\"Q1R = \",Q1R)\n",
        "print(\"Q3R = \",Q3R)\n",
        "print(\"IQR Retirados = \", Q3R-Q1R)\n",
        "\n",
        "Q1A = bank_df[bank_df['Attrition_Flag'] != \"Attrited Customer\"].Total_Trans_Ct.quantile(0.25)\n",
        "Q3A = bank_df[bank_df['Attrition_Flag'] != \"Attrited Customer\"].Total_Trans_Ct.quantile(0.75)\n",
        "print(\"Q1A = \",Q1A)\n",
        "print(\"Q3A = \",Q3A)\n",
        "print(\"IQR Activos = \", Q3A-Q1A)"
      ]
    },
    {
      "cell_type": "markdown",
      "metadata": {
        "id": "WSdMSlp7RzpQ"
      },
      "source": [
        "Podemos observar que la cantiad de transferencias realizada por clientes activos se encunentra entre 54 y 82. Mientras que la cantidad de transferencias realizadas por clientes retirados se concentra entre 37 y 51."
      ]
    },
    {
      "cell_type": "markdown",
      "metadata": {
        "id": "Nex66V2A94zW"
      },
      "source": [
        "### Hipótesis 3"
      ]
    },
    {
      "cell_type": "markdown",
      "metadata": {
        "id": "5yRVTjZqR24A"
      },
      "source": [
        "\n",
        "H3 = La media de la variacion en cantidad de transacciones Q4 -Q1 (1) es igual para clientes activos y retirados\n",
        "\n",
        "H0 = La media de la variacion en cantidad de transacciones Q4 -Q1 (Total_Ct_Chng_Q4_Q1) es diferente para clientes activos y retirados"
      ]
    },
    {
      "cell_type": "code",
      "execution_count": 25,
      "metadata": {
        "colab": {
          "base_uri": "https://localhost:8080/"
        },
        "id": "bvitMc9CR68Y",
        "outputId": "88bd1353-7ce7-4f5e-95e9-ac89746c8842"
      },
      "outputs": [
        {
          "name": "stdout",
          "output_type": "stream",
          "text": [
            "Media de la variacion de cantidad de transferencias realizadas por clientes ACTIVOS 0.7424341176470571\n",
            "Media de la variacion de cantidad de transferencias realizadas por clientes INACTIVOS 0.5543859864781803\n"
          ]
        }
      ],
      "source": [
        "print(\"Media de la variacion de cantidad de transferencias realizadas por clientes ACTIVOS\" ,bank_df[bank_df['Attrition_Flag'] != \"Attrited Customer\"].Total_Ct_Chng_Q4_Q1.mean())\n",
        "print(\"Media de la variacion de cantidad de transferencias realizadas por clientes INACTIVOS\" ,bank_df[bank_df['Attrition_Flag'] == \"Attrited Customer\"].Total_Ct_Chng_Q4_Q1.mean())"
      ]
    },
    {
      "cell_type": "markdown",
      "metadata": {
        "id": "3c6SRfxP-L6k"
      },
      "source": [
        "Analisis de la media con groupby"
      ]
    },
    {
      "cell_type": "code",
      "execution_count": 26,
      "metadata": {
        "id": "oIS-iqSb-MWo"
      },
      "outputs": [],
      "source": [
        "media_tcc_Q4Q1= bank_df['Total_Ct_Chng_Q4_Q1'].groupby(bank_df['Attrition_Flag']).mean()\n",
        "sum_tcc_Q4Q1 = bank_df['Total_Ct_Chng_Q4_Q1'].groupby(bank_df['Attrition_Flag']).sum()"
      ]
    },
    {
      "cell_type": "code",
      "execution_count": 27,
      "metadata": {
        "colab": {
          "base_uri": "https://localhost:8080/"
        },
        "id": "nGuLqajF-dD9",
        "outputId": "7931ce95-cca4-4ad9-dd47-f03748e70256"
      },
      "outputs": [
        {
          "name": "stdout",
          "output_type": "stream",
          "text": [
            "Media de cantidad de transferencias realizadas por Attrition Flag\n",
            "Attrition_Flag\n",
            "Attrited Customer    0.554386\n",
            "Existing Customer    0.742434\n",
            "Name: Total_Ct_Chng_Q4_Q1, dtype: float64\n",
            "_ _ _ _ _ _ _ _ _ _ _ _ _ _ _ _ _ _ _ _ _ _ _ _ _ _ _ _ _ _ _ _ _ \n",
            " \n",
            "Suma de cantidad de transferencias realizadas por Attrition Flag\n",
            "Attrition_Flag\n",
            "Attrited Customer     901.986\n",
            "Existing Customer    6310.690\n",
            "Name: Total_Ct_Chng_Q4_Q1, dtype: float64\n"
          ]
        }
      ],
      "source": [
        "print('Media de cantidad de transferencias realizadas por Attrition Flag')\n",
        "print(media_tcc_Q4Q1)\n",
        "print('_ '*33)\n",
        "print(' ')\n",
        "print('Suma de cantidad de transferencias realizadas por Attrition Flag')\n",
        "print(sum_tcc_Q4Q1)"
      ]
    },
    {
      "cell_type": "markdown",
      "metadata": {
        "id": "3xlqZGn5R-V6"
      },
      "source": [
        "Se nota que los valores de las medias son diferentes. Por lo que se descarta la H3 y se validaria la H0."
      ]
    },
    {
      "cell_type": "code",
      "execution_count": 28,
      "metadata": {
        "colab": {
          "base_uri": "https://localhost:8080/",
          "height": 933
        },
        "id": "lbm-qD8CSAy-",
        "outputId": "c225ecaf-f2c1-4c58-d04c-06e2f2ab07ac"
      },
      "outputs": [
        {
          "data": {
            "image/png": "[encoded data removed]",
            "text/plain": [
              "<Figure size 1080x1152 with 2 Axes>"
            ]
          },
          "metadata": {
            "needs_background": "light"
          },
          "output_type": "display_data"
        }
      ],
      "source": [
        "fig,axes = plt.subplots(2,1,figsize=(15,16))\n",
        "sns.histplot(ax = axes[0],\n",
        "             data  =bank_df,\n",
        "             x = \"Total_Ct_Chng_Q4_Q1\",\n",
        "             hue = \"Attrition_Flag\",\n",
        "             kde = True\n",
        "             )\n",
        "sns.boxplot(ax = axes[1],\n",
        "            data = bank_df,\n",
        "            x = \"Total_Ct_Chng_Q4_Q1\",\n",
        "            y = \"Attrition_Flag\"\n",
        "            )\n",
        "plt.show()"
      ]
    },
    {
      "cell_type": "code",
      "execution_count": 29,
      "metadata": {
        "colab": {
          "base_uri": "https://localhost:8080/"
        },
        "id": "oBoIpOybSG1N",
        "outputId": "7f26dd66-2ba4-4b4c-fab0-21b396df712c"
      },
      "outputs": [
        {
          "name": "stdout",
          "output_type": "stream",
          "text": [
            "Media de la variacion de cantidad de transferencias realizadas por clientes ACTIVOS 0.721\n",
            "Media de la variacion de cantidad de transferencias realizadas por clientes INACTIVOS 0.531\n"
          ]
        }
      ],
      "source": [
        "print(\"Media de la variacion de cantidad de transferencias realizadas por clientes ACTIVOS\" ,bank_df[bank_df['Attrition_Flag'] != \"Attrited Customer\"].Total_Ct_Chng_Q4_Q1.median())\n",
        "print(\"Media de la variacion de cantidad de transferencias realizadas por clientes INACTIVOS\" ,bank_df[bank_df['Attrition_Flag'] == \"Attrited Customer\"].Total_Ct_Chng_Q4_Q1.median())"
      ]
    },
    {
      "cell_type": "markdown",
      "metadata": {
        "id": "2HTpWIbe_Wcx"
      },
      "source": [
        "Analisis de la mediana con groupby"
      ]
    },
    {
      "cell_type": "code",
      "execution_count": 30,
      "metadata": {
        "id": "70dI3uI__OzN"
      },
      "outputs": [],
      "source": [
        "mediana_tcc_Q4Q1= bank_df['Total_Ct_Chng_Q4_Q1'].groupby(bank_df['Attrition_Flag']).median()"
      ]
    },
    {
      "cell_type": "code",
      "execution_count": 31,
      "metadata": {
        "colab": {
          "base_uri": "https://localhost:8080/"
        },
        "id": "ZncayaZo_TNl",
        "outputId": "eafd9db0-d932-40de-f2f6-1711d5688e89"
      },
      "outputs": [
        {
          "name": "stdout",
          "output_type": "stream",
          "text": [
            "Mediana de cantidad de transferencias realizadas por Attrition Flag\n",
            "Attrition_Flag\n",
            "Attrited Customer    0.531\n",
            "Existing Customer    0.721\n",
            "Name: Total_Ct_Chng_Q4_Q1, dtype: float64\n"
          ]
        }
      ],
      "source": [
        "print('Mediana de cantidad de transferencias realizadas por Attrition Flag')\n",
        "print(mediana_tcc_Q4Q1)"
      ]
    },
    {
      "cell_type": "markdown",
      "metadata": {
        "id": "XIqEyWA3AWYp"
      },
      "source": [
        "Ahora se calculan los Q1 y Q3 para sacar el IQR Vamos a usar una A para referirnos a los clientes ACTIVOS y una R para los clientes RETIRADOS"
      ]
    },
    {
      "cell_type": "code",
      "execution_count": 32,
      "metadata": {
        "colab": {
          "base_uri": "https://localhost:8080/"
        },
        "id": "j4-aA35ySJxZ",
        "outputId": "307569b2-bfe4-4e3c-b07d-d4f94d728407"
      },
      "outputs": [
        {
          "name": "stdout",
          "output_type": "stream",
          "text": [
            "Q1R =  0.4\n",
            "Q3R =  0.692\n",
            "IQR Retirados =  0.2919999999999999\n",
            "Q1A =  0.617\n",
            "Q3A =  0.833\n",
            "IQR Activos =  0.21599999999999997\n"
          ]
        }
      ],
      "source": [
        "Q3R = bank_df[bank_df['Attrition_Flag'] == \"Attrited Customer\"].Total_Ct_Chng_Q4_Q1.quantile(0.75)\n",
        "Q1R = bank_df[bank_df['Attrition_Flag'] == \"Attrited Customer\"].Total_Ct_Chng_Q4_Q1.quantile(0.25)\n",
        "print(\"Q1R = \",Q1R)\n",
        "print(\"Q3R = \",Q3R)\n",
        "print(\"IQR Retirados = \", Q3R-Q1R)\n",
        "\n",
        "Q1A = bank_df[bank_df['Attrition_Flag'] != \"Attrited Customer\"].Total_Ct_Chng_Q4_Q1.quantile(0.25)\n",
        "Q3A = bank_df[bank_df['Attrition_Flag'] != \"Attrited Customer\"].Total_Ct_Chng_Q4_Q1.quantile(0.75)\n",
        "print(\"Q1A = \",Q1A)\n",
        "print(\"Q3A = \",Q3A)\n",
        "print(\"IQR Activos = \", Q3A-Q1A)"
      ]
    },
    {
      "cell_type": "markdown",
      "metadata": {
        "id": "Yox4ghD2SNJn"
      },
      "source": [
        "Podemos observar que la variación de la cantidad de transferencias realizadas por clientes activos se encuentra entre 0,61 y 0,833. Mientras que la cantidad de transferencias realizadas por clientes retirados se concentra entre 0,4 y 0,692.."
      ]
    },
    {
      "cell_type": "markdown",
      "metadata": {
        "id": "fzFXEg8zStrq"
      },
      "source": [
        "## Correlación de variables"
      ]
    },
    {
      "cell_type": "markdown",
      "metadata": {
        "id": "789fHWC_Sx_A"
      },
      "source": [
        "Se procede a realizar una matriz de correlación para poder determinar si existe o no una relación entre las diferentes variables\n",
        "\n",
        "Para evitar confusion en los datos, se hace la matriz de correlacion pero con los valores absoltuos. De esta forma, todos los coeficientes seran positivos."
      ]
    },
    {
      "cell_type": "code",
      "execution_count": 33,
      "metadata": {
        "colab": {
          "base_uri": "https://localhost:8080/",
          "height": 583
        },
        "id": "x0ivne80S2CX",
        "outputId": "a1ea5516-0cad-4d4e-fdd4-f46378d9a778"
      },
      "outputs": [
        {
          "data": {
            "text/html": [
              "<div>\n",
              "<style scoped>\n",
              "    .dataframe tbody tr th:only-of-type {\n",
              "        vertical-align: middle;\n",
              "    }\n",
              "\n",
              "    .dataframe tbody tr th {\n",
              "        vertical-align: top;\n",
              "    }\n",
              "\n",
              "    .dataframe thead th {\n",
              "        text-align: right;\n",
              "    }\n",
              "</style>\n",
              "<table border=\"1\" class=\"dataframe\">\n",
              "  <thead>\n",
              "    <tr style=\"text-align: right;\">\n",
              "      <th></th>\n",
              "      <th>CLIENTNUM</th>\n",
              "      <th>Customer_Age</th>\n",
              "      <th>Dependent_count</th>\n",
              "      <th>Months_on_book</th>\n",
              "      <th>Total_Relationship_Count</th>\n",
              "      <th>Months_Inactive_12_mon</th>\n",
              "      <th>Contacts_Count_12_mon</th>\n",
              "      <th>Credit_Limit</th>\n",
              "      <th>Total_Revolving_Bal</th>\n",
              "      <th>Avg_Open_To_Buy</th>\n",
              "      <th>Total_Amt_Chng_Q4_Q1</th>\n",
              "      <th>Total_Trans_Amt</th>\n",
              "      <th>Total_Trans_Ct</th>\n",
              "      <th>Total_Ct_Chng_Q4_Q1</th>\n",
              "      <th>Avg_Utilization_Ratio</th>\n",
              "    </tr>\n",
              "  </thead>\n",
              "  <tbody>\n",
              "    <tr>\n",
              "      <th>CLIENTNUM</th>\n",
              "      <td>1.000000</td>\n",
              "      <td>0.007613</td>\n",
              "      <td>0.006772</td>\n",
              "      <td>0.134588</td>\n",
              "      <td>0.006907</td>\n",
              "      <td>0.005729</td>\n",
              "      <td>0.005694</td>\n",
              "      <td>0.005708</td>\n",
              "      <td>0.000825</td>\n",
              "      <td>0.005633</td>\n",
              "      <td>0.017369</td>\n",
              "      <td>0.019692</td>\n",
              "      <td>0.002961</td>\n",
              "      <td>0.007696</td>\n",
              "      <td>0.000266</td>\n",
              "    </tr>\n",
              "    <tr>\n",
              "      <th>Customer_Age</th>\n",
              "      <td>0.007613</td>\n",
              "      <td>1.000000</td>\n",
              "      <td>0.122254</td>\n",
              "      <td>0.788912</td>\n",
              "      <td>0.010931</td>\n",
              "      <td>0.054361</td>\n",
              "      <td>0.018452</td>\n",
              "      <td>0.002476</td>\n",
              "      <td>0.014780</td>\n",
              "      <td>0.001151</td>\n",
              "      <td>0.062042</td>\n",
              "      <td>0.046446</td>\n",
              "      <td>0.067097</td>\n",
              "      <td>0.012143</td>\n",
              "      <td>0.007114</td>\n",
              "    </tr>\n",
              "    <tr>\n",
              "      <th>Dependent_count</th>\n",
              "      <td>0.006772</td>\n",
              "      <td>0.122254</td>\n",
              "      <td>1.000000</td>\n",
              "      <td>0.103062</td>\n",
              "      <td>0.039076</td>\n",
              "      <td>0.010768</td>\n",
              "      <td>0.040505</td>\n",
              "      <td>0.068065</td>\n",
              "      <td>0.002688</td>\n",
              "      <td>0.068291</td>\n",
              "      <td>0.035439</td>\n",
              "      <td>0.025046</td>\n",
              "      <td>0.049912</td>\n",
              "      <td>0.011087</td>\n",
              "      <td>0.037135</td>\n",
              "    </tr>\n",
              "    <tr>\n",
              "      <th>Months_on_book</th>\n",
              "      <td>0.134588</td>\n",
              "      <td>0.788912</td>\n",
              "      <td>0.103062</td>\n",
              "      <td>1.000000</td>\n",
              "      <td>0.009203</td>\n",
              "      <td>0.074164</td>\n",
              "      <td>0.010774</td>\n",
              "      <td>0.007507</td>\n",
              "      <td>0.008623</td>\n",
              "      <td>0.006732</td>\n",
              "      <td>0.048959</td>\n",
              "      <td>0.038591</td>\n",
              "      <td>0.049819</td>\n",
              "      <td>0.014072</td>\n",
              "      <td>0.007541</td>\n",
              "    </tr>\n",
              "    <tr>\n",
              "      <th>Total_Relationship_Count</th>\n",
              "      <td>0.006907</td>\n",
              "      <td>0.010931</td>\n",
              "      <td>0.039076</td>\n",
              "      <td>0.009203</td>\n",
              "      <td>1.000000</td>\n",
              "      <td>0.003675</td>\n",
              "      <td>0.055203</td>\n",
              "      <td>0.071386</td>\n",
              "      <td>0.013726</td>\n",
              "      <td>0.072601</td>\n",
              "      <td>0.050119</td>\n",
              "      <td>0.347229</td>\n",
              "      <td>0.241891</td>\n",
              "      <td>0.040831</td>\n",
              "      <td>0.067663</td>\n",
              "    </tr>\n",
              "    <tr>\n",
              "      <th>Months_Inactive_12_mon</th>\n",
              "      <td>0.005729</td>\n",
              "      <td>0.054361</td>\n",
              "      <td>0.010768</td>\n",
              "      <td>0.074164</td>\n",
              "      <td>0.003675</td>\n",
              "      <td>1.000000</td>\n",
              "      <td>0.029493</td>\n",
              "      <td>0.020394</td>\n",
              "      <td>0.042210</td>\n",
              "      <td>0.016605</td>\n",
              "      <td>0.032247</td>\n",
              "      <td>0.036982</td>\n",
              "      <td>0.042787</td>\n",
              "      <td>0.038989</td>\n",
              "      <td>0.007503</td>\n",
              "    </tr>\n",
              "    <tr>\n",
              "      <th>Contacts_Count_12_mon</th>\n",
              "      <td>0.005694</td>\n",
              "      <td>0.018452</td>\n",
              "      <td>0.040505</td>\n",
              "      <td>0.010774</td>\n",
              "      <td>0.055203</td>\n",
              "      <td>0.029493</td>\n",
              "      <td>1.000000</td>\n",
              "      <td>0.020817</td>\n",
              "      <td>0.053913</td>\n",
              "      <td>0.025646</td>\n",
              "      <td>0.024445</td>\n",
              "      <td>0.112774</td>\n",
              "      <td>0.152213</td>\n",
              "      <td>0.094997</td>\n",
              "      <td>0.055471</td>\n",
              "    </tr>\n",
              "    <tr>\n",
              "      <th>Credit_Limit</th>\n",
              "      <td>0.005708</td>\n",
              "      <td>0.002476</td>\n",
              "      <td>0.068065</td>\n",
              "      <td>0.007507</td>\n",
              "      <td>0.071386</td>\n",
              "      <td>0.020394</td>\n",
              "      <td>0.020817</td>\n",
              "      <td>1.000000</td>\n",
              "      <td>0.042493</td>\n",
              "      <td>0.995981</td>\n",
              "      <td>0.012813</td>\n",
              "      <td>0.171730</td>\n",
              "      <td>0.075927</td>\n",
              "      <td>0.002020</td>\n",
              "      <td>0.482965</td>\n",
              "    </tr>\n",
              "    <tr>\n",
              "      <th>Total_Revolving_Bal</th>\n",
              "      <td>0.000825</td>\n",
              "      <td>0.014780</td>\n",
              "      <td>0.002688</td>\n",
              "      <td>0.008623</td>\n",
              "      <td>0.013726</td>\n",
              "      <td>0.042210</td>\n",
              "      <td>0.053913</td>\n",
              "      <td>0.042493</td>\n",
              "      <td>1.000000</td>\n",
              "      <td>0.047167</td>\n",
              "      <td>0.058174</td>\n",
              "      <td>0.064370</td>\n",
              "      <td>0.056060</td>\n",
              "      <td>0.089861</td>\n",
              "      <td>0.624022</td>\n",
              "    </tr>\n",
              "    <tr>\n",
              "      <th>Avg_Open_To_Buy</th>\n",
              "      <td>0.005633</td>\n",
              "      <td>0.001151</td>\n",
              "      <td>0.068291</td>\n",
              "      <td>0.006732</td>\n",
              "      <td>0.072601</td>\n",
              "      <td>0.016605</td>\n",
              "      <td>0.025646</td>\n",
              "      <td>0.995981</td>\n",
              "      <td>0.047167</td>\n",
              "      <td>1.000000</td>\n",
              "      <td>0.007595</td>\n",
              "      <td>0.165923</td>\n",
              "      <td>0.070885</td>\n",
              "      <td>0.010076</td>\n",
              "      <td>0.538808</td>\n",
              "    </tr>\n",
              "    <tr>\n",
              "      <th>Total_Amt_Chng_Q4_Q1</th>\n",
              "      <td>0.017369</td>\n",
              "      <td>0.062042</td>\n",
              "      <td>0.035439</td>\n",
              "      <td>0.048959</td>\n",
              "      <td>0.050119</td>\n",
              "      <td>0.032247</td>\n",
              "      <td>0.024445</td>\n",
              "      <td>0.012813</td>\n",
              "      <td>0.058174</td>\n",
              "      <td>0.007595</td>\n",
              "      <td>1.000000</td>\n",
              "      <td>0.039678</td>\n",
              "      <td>0.005469</td>\n",
              "      <td>0.384189</td>\n",
              "      <td>0.035235</td>\n",
              "    </tr>\n",
              "    <tr>\n",
              "      <th>Total_Trans_Amt</th>\n",
              "      <td>0.019692</td>\n",
              "      <td>0.046446</td>\n",
              "      <td>0.025046</td>\n",
              "      <td>0.038591</td>\n",
              "      <td>0.347229</td>\n",
              "      <td>0.036982</td>\n",
              "      <td>0.112774</td>\n",
              "      <td>0.171730</td>\n",
              "      <td>0.064370</td>\n",
              "      <td>0.165923</td>\n",
              "      <td>0.039678</td>\n",
              "      <td>1.000000</td>\n",
              "      <td>0.807192</td>\n",
              "      <td>0.085581</td>\n",
              "      <td>0.083034</td>\n",
              "    </tr>\n",
              "    <tr>\n",
              "      <th>Total_Trans_Ct</th>\n",
              "      <td>0.002961</td>\n",
              "      <td>0.067097</td>\n",
              "      <td>0.049912</td>\n",
              "      <td>0.049819</td>\n",
              "      <td>0.241891</td>\n",
              "      <td>0.042787</td>\n",
              "      <td>0.152213</td>\n",
              "      <td>0.075927</td>\n",
              "      <td>0.056060</td>\n",
              "      <td>0.070885</td>\n",
              "      <td>0.005469</td>\n",
              "      <td>0.807192</td>\n",
              "      <td>1.000000</td>\n",
              "      <td>0.112324</td>\n",
              "      <td>0.002838</td>\n",
              "    </tr>\n",
              "    <tr>\n",
              "      <th>Total_Ct_Chng_Q4_Q1</th>\n",
              "      <td>0.007696</td>\n",
              "      <td>0.012143</td>\n",
              "      <td>0.011087</td>\n",
              "      <td>0.014072</td>\n",
              "      <td>0.040831</td>\n",
              "      <td>0.038989</td>\n",
              "      <td>0.094997</td>\n",
              "      <td>0.002020</td>\n",
              "      <td>0.089861</td>\n",
              "      <td>0.010076</td>\n",
              "      <td>0.384189</td>\n",
              "      <td>0.085581</td>\n",
              "      <td>0.112324</td>\n",
              "      <td>1.000000</td>\n",
              "      <td>0.074143</td>\n",
              "    </tr>\n",
              "    <tr>\n",
              "      <th>Avg_Utilization_Ratio</th>\n",
              "      <td>0.000266</td>\n",
              "      <td>0.007114</td>\n",
              "      <td>0.037135</td>\n",
              "      <td>0.007541</td>\n",
              "      <td>0.067663</td>\n",
              "      <td>0.007503</td>\n",
              "      <td>0.055471</td>\n",
              "      <td>0.482965</td>\n",
              "      <td>0.624022</td>\n",
              "      <td>0.538808</td>\n",
              "      <td>0.035235</td>\n",
              "      <td>0.083034</td>\n",
              "      <td>0.002838</td>\n",
              "      <td>0.074143</td>\n",
              "      <td>1.000000</td>\n",
              "    </tr>\n",
              "  </tbody>\n",
              "</table>\n",
              "</div>"
            ],
            "text/plain": [
              "                          CLIENTNUM  Customer_Age  Dependent_count  \\\n",
              "CLIENTNUM                  1.000000      0.007613         0.006772   \n",
              "Customer_Age               0.007613      1.000000         0.122254   \n",
              "Dependent_count            0.006772      0.122254         1.000000   \n",
              "Months_on_book             0.134588      0.788912         0.103062   \n",
              "Total_Relationship_Count   0.006907      0.010931         0.039076   \n",
              "Months_Inactive_12_mon     0.005729      0.054361         0.010768   \n",
              "Contacts_Count_12_mon      0.005694      0.018452         0.040505   \n",
              "Credit_Limit               0.005708      0.002476         0.068065   \n",
              "Total_Revolving_Bal        0.000825      0.014780         0.002688   \n",
              "Avg_Open_To_Buy            0.005633      0.001151         0.068291   \n",
              "Total_Amt_Chng_Q4_Q1       0.017369      0.062042         0.035439   \n",
              "Total_Trans_Amt            0.019692      0.046446         0.025046   \n",
              "Total_Trans_Ct             0.002961      0.067097         0.049912   \n",
              "Total_Ct_Chng_Q4_Q1        0.007696      0.012143         0.011087   \n",
              "Avg_Utilization_Ratio      0.000266      0.007114         0.037135   \n",
              "\n",
              "                          Months_on_book  Total_Relationship_Count  \\\n",
              "CLIENTNUM                       0.134588                  0.006907   \n",
              "Customer_Age                    0.788912                  0.010931   \n",
              "Dependent_count                 0.103062                  0.039076   \n",
              "Months_on_book                  1.000000                  0.009203   \n",
              "Total_Relationship_Count        0.009203                  1.000000   \n",
              "Months_Inactive_12_mon          0.074164                  0.003675   \n",
              "Contacts_Count_12_mon           0.010774                  0.055203   \n",
              "Credit_Limit                    0.007507                  0.071386   \n",
              "Total_Revolving_Bal             0.008623                  0.013726   \n",
              "Avg_Open_To_Buy                 0.006732                  0.072601   \n",
              "Total_Amt_Chng_Q4_Q1            0.048959                  0.050119   \n",
              "Total_Trans_Amt                 0.038591                  0.347229   \n",
              "Total_Trans_Ct                  0.049819                  0.241891   \n",
              "Total_Ct_Chng_Q4_Q1             0.014072                  0.040831   \n",
              "Avg_Utilization_Ratio           0.007541                  0.067663   \n",
              "\n",
              "                          Months_Inactive_12_mon  Contacts_Count_12_mon  \\\n",
              "CLIENTNUM                               0.005729               0.005694   \n",
              "Customer_Age                            0.054361               0.018452   \n",
              "Dependent_count                         0.010768               0.040505   \n",
              "Months_on_book                          0.074164               0.010774   \n",
              "Total_Relationship_Count                0.003675               0.055203   \n",
              "Months_Inactive_12_mon                  1.000000               0.029493   \n",
              "Contacts_Count_12_mon                   0.029493               1.000000   \n",
              "Credit_Limit                            0.020394               0.020817   \n",
              "Total_Revolving_Bal                     0.042210               0.053913   \n",
              "Avg_Open_To_Buy                         0.016605               0.025646   \n",
              "Total_Amt_Chng_Q4_Q1                    0.032247               0.024445   \n",
              "Total_Trans_Amt                         0.036982               0.112774   \n",
              "Total_Trans_Ct                          0.042787               0.152213   \n",
              "Total_Ct_Chng_Q4_Q1                     0.038989               0.094997   \n",
              "Avg_Utilization_Ratio                   0.007503               0.055471   \n",
              "\n",
              "                          Credit_Limit  Total_Revolving_Bal  Avg_Open_To_Buy  \\\n",
              "CLIENTNUM                     0.005708             0.000825         0.005633   \n",
              "Customer_Age                  0.002476             0.014780         0.001151   \n",
              "Dependent_count               0.068065             0.002688         0.068291   \n",
              "Months_on_book                0.007507             0.008623         0.006732   \n",
              "Total_Relationship_Count      0.071386             0.013726         0.072601   \n",
              "Months_Inactive_12_mon        0.020394             0.042210         0.016605   \n",
              "Contacts_Count_12_mon         0.020817             0.053913         0.025646   \n",
              "Credit_Limit                  1.000000             0.042493         0.995981   \n",
              "Total_Revolving_Bal           0.042493             1.000000         0.047167   \n",
              "Avg_Open_To_Buy               0.995981             0.047167         1.000000   \n",
              "Total_Amt_Chng_Q4_Q1          0.012813             0.058174         0.007595   \n",
              "Total_Trans_Amt               0.171730             0.064370         0.165923   \n",
              "Total_Trans_Ct                0.075927             0.056060         0.070885   \n",
              "Total_Ct_Chng_Q4_Q1           0.002020             0.089861         0.010076   \n",
              "Avg_Utilization_Ratio         0.482965             0.624022         0.538808   \n",
              "\n",
              "                          Total_Amt_Chng_Q4_Q1  Total_Trans_Amt  \\\n",
              "CLIENTNUM                             0.017369         0.019692   \n",
              "Customer_Age                          0.062042         0.046446   \n",
              "Dependent_count                       0.035439         0.025046   \n",
              "Months_on_book                        0.048959         0.038591   \n",
              "Total_Relationship_Count              0.050119         0.347229   \n",
              "Months_Inactive_12_mon                0.032247         0.036982   \n",
              "Contacts_Count_12_mon                 0.024445         0.112774   \n",
              "Credit_Limit                          0.012813         0.171730   \n",
              "Total_Revolving_Bal                   0.058174         0.064370   \n",
              "Avg_Open_To_Buy                       0.007595         0.165923   \n",
              "Total_Amt_Chng_Q4_Q1                  1.000000         0.039678   \n",
              "Total_Trans_Amt                       0.039678         1.000000   \n",
              "Total_Trans_Ct                        0.005469         0.807192   \n",
              "Total_Ct_Chng_Q4_Q1                   0.384189         0.085581   \n",
              "Avg_Utilization_Ratio                 0.035235         0.083034   \n",
              "\n",
              "                          Total_Trans_Ct  Total_Ct_Chng_Q4_Q1  \\\n",
              "CLIENTNUM                       0.002961             0.007696   \n",
              "Customer_Age                    0.067097             0.012143   \n",
              "Dependent_count                 0.049912             0.011087   \n",
              "Months_on_book                  0.049819             0.014072   \n",
              "Total_Relationship_Count        0.241891             0.040831   \n",
              "Months_Inactive_12_mon          0.042787             0.038989   \n",
              "Contacts_Count_12_mon           0.152213             0.094997   \n",
              "Credit_Limit                    0.075927             0.002020   \n",
              "Total_Revolving_Bal             0.056060             0.089861   \n",
              "Avg_Open_To_Buy                 0.070885             0.010076   \n",
              "Total_Amt_Chng_Q4_Q1            0.005469             0.384189   \n",
              "Total_Trans_Amt                 0.807192             0.085581   \n",
              "Total_Trans_Ct                  1.000000             0.112324   \n",
              "Total_Ct_Chng_Q4_Q1             0.112324             1.000000   \n",
              "Avg_Utilization_Ratio           0.002838             0.074143   \n",
              "\n",
              "                          Avg_Utilization_Ratio  \n",
              "CLIENTNUM                              0.000266  \n",
              "Customer_Age                           0.007114  \n",
              "Dependent_count                        0.037135  \n",
              "Months_on_book                         0.007541  \n",
              "Total_Relationship_Count               0.067663  \n",
              "Months_Inactive_12_mon                 0.007503  \n",
              "Contacts_Count_12_mon                  0.055471  \n",
              "Credit_Limit                           0.482965  \n",
              "Total_Revolving_Bal                    0.624022  \n",
              "Avg_Open_To_Buy                        0.538808  \n",
              "Total_Amt_Chng_Q4_Q1                   0.035235  \n",
              "Total_Trans_Amt                        0.083034  \n",
              "Total_Trans_Ct                         0.002838  \n",
              "Total_Ct_Chng_Q4_Q1                    0.074143  \n",
              "Avg_Utilization_Ratio                  1.000000  "
            ]
          },
          "execution_count": 33,
          "metadata": {},
          "output_type": "execute_result"
        }
      ],
      "source": [
        "bank_df.corr().abs()"
      ]
    },
    {
      "cell_type": "markdown",
      "metadata": {
        "id": "uDP9iKicS5fM"
      },
      "source": [
        "Podemos observar que la matriz de correlacion solo se calcula sobre valores numericos. Los valores categoricos fueron quitados de los datos de forma automatica.\n",
        "\n",
        "Visualmente en el dataset, es dificil determinar si existe o no una relación entre las variables, por lo que se procede a graficarla."
      ]
    },
    {
      "cell_type": "code",
      "execution_count": 34,
      "metadata": {
        "colab": {
          "base_uri": "https://localhost:8080/",
          "height": 512
        },
        "id": "ZuvYv7-cTAr5",
        "outputId": "c64e885a-faee-4106-82b0-6cc4fdd58810"
      },
      "outputs": [
        {
          "data": {
            "text/plain": [
              "<AxesSubplot:>"
            ]
          },
          "execution_count": 34,
          "metadata": {},
          "output_type": "execute_result"
        },
        {
          "data": {
            "image/png": "[encoded data removed]",
            "text/plain": [
              "<Figure size 720x432 with 2 Axes>"
            ]
          },
          "metadata": {
            "needs_background": "light"
          },
          "output_type": "display_data"
        }
      ],
      "source": [
        "plt.figure(figsize=(10,6))\n",
        "sns.heatmap(data=bank_df.corr().abs(), cmap='jet')"
      ]
    },
    {
      "cell_type": "code",
      "execution_count": 35,
      "metadata": {
        "colab": {
          "base_uri": "https://localhost:8080/"
        },
        "id": "PnEcYTWtTE6g",
        "outputId": "9e84d65f-0179-4da2-ba4d-697f42018e7d"
      },
      "outputs": [
        {
          "data": {
            "text/plain": [
              "CLIENTNUM              CLIENTNUM                   1.000000\n",
              "                       Customer_Age                0.007613\n",
              "                       Dependent_count             0.006772\n",
              "                       Months_on_book              0.134588\n",
              "                       Total_Relationship_Count    0.006907\n",
              "                                                     ...   \n",
              "Avg_Utilization_Ratio  Total_Amt_Chng_Q4_Q1        0.035235\n",
              "                       Total_Trans_Amt             0.083034\n",
              "                       Total_Trans_Ct              0.002838\n",
              "                       Total_Ct_Chng_Q4_Q1         0.074143\n",
              "                       Avg_Utilization_Ratio       1.000000\n",
              "Length: 225, dtype: float64"
            ]
          },
          "execution_count": 35,
          "metadata": {},
          "output_type": "execute_result"
        }
      ],
      "source": [
        "bank_df.corr().abs().unstack()"
      ]
    },
    {
      "cell_type": "markdown",
      "metadata": {
        "id": "McXT-ob-PdSa"
      },
      "source": [
        "Se puede obvservar que en la matriz de correlación faltan algunas variables. Esto se debe a lo explicado anteriormente, ya que no considera variables categoricas"
      ]
    },
    {
      "cell_type": "code",
      "execution_count": 36,
      "metadata": {
        "colab": {
          "base_uri": "https://localhost:8080/"
        },
        "id": "iyjOcG_JTUn4",
        "outputId": "e1b886ee-e0e0-45c8-e168-bf624ec75dc1"
      },
      "outputs": [
        {
          "name": "stdout",
          "output_type": "stream",
          "text": [
            "<class 'pandas.core.frame.DataFrame'>\n",
            "RangeIndex: 10127 entries, 0 to 10126\n",
            "Data columns (total 21 columns):\n",
            " #   Column                    Non-Null Count  Dtype  \n",
            "---  ------                    --------------  -----  \n",
            " 0   CLIENTNUM                 10127 non-null  int64  \n",
            " 1   Attrition_Flag            10127 non-null  object \n",
            " 2   Customer_Age              10127 non-null  int64  \n",
            " 3   Gender                    10127 non-null  object \n",
            " 4   Dependent_count           10127 non-null  int64  \n",
            " 5   Education_Level           10127 non-null  object \n",
            " 6   Marital_Status            10127 non-null  object \n",
            " 7   Income_Category           10127 non-null  object \n",
            " 8   Card_Category             10127 non-null  object \n",
            " 9   Months_on_book            10127 non-null  int64  \n",
            " 10  Total_Relationship_Count  10127 non-null  int64  \n",
            " 11  Months_Inactive_12_mon    10127 non-null  int64  \n",
            " 12  Contacts_Count_12_mon     10127 non-null  int64  \n",
            " 13  Credit_Limit              10127 non-null  float64\n",
            " 14  Total_Revolving_Bal       10127 non-null  int64  \n",
            " 15  Avg_Open_To_Buy           10127 non-null  float64\n",
            " 16  Total_Amt_Chng_Q4_Q1      10127 non-null  float64\n",
            " 17  Total_Trans_Amt           10127 non-null  int64  \n",
            " 18  Total_Trans_Ct            10127 non-null  int64  \n",
            " 19  Total_Ct_Chng_Q4_Q1       10127 non-null  float64\n",
            " 20  Avg_Utilization_Ratio     10127 non-null  float64\n",
            "dtypes: float64(5), int64(10), object(6)\n",
            "memory usage: 1.6+ MB\n"
          ]
        }
      ],
      "source": [
        "bank_df.info()"
      ]
    },
    {
      "cell_type": "markdown",
      "metadata": {
        "id": "qPxSUrU2TL39"
      },
      "source": [
        "Tal y como se planteo unos pasos mas arriba, tenemos valores categoricos o del tipo \"object\" por lo que no podremos sacar mayores conclusiones sin antes quitarlos."
      ]
    },
    {
      "cell_type": "code",
      "execution_count": 37,
      "metadata": {
        "id": "OVlzwKmsTJBB"
      },
      "outputs": [],
      "source": [
        "def parejas(df):\n",
        "    '''Obtiene diagonal inferior de parejas en matriz de correlacion'''\n",
        "    pairs_to_drop = set()\n",
        "    cols = df.columns\n",
        "    for i in range(0, df.shape[1]):\n",
        "        for j in range(0, i+1):\n",
        "            pairs_to_drop.add((cols[i], cols[j]))\n",
        "    return pairs_to_drop\n",
        "\n",
        "def correlaciones(data, n=5):\n",
        "    au_corr = data.corr().abs().unstack()\n",
        "    labels_to_drop = parejas(data)\n",
        "    au_corr = au_corr.drop(labels=labels_to_drop).sort_values(ascending=False)\n",
        "    return au_corr[0:n]\n"
      ]
    },
    {
      "cell_type": "code",
      "execution_count": 38,
      "metadata": {
        "id": "4V2WGySETXwL"
      },
      "outputs": [],
      "source": [
        "df = bank_df.drop(columns=['Card_Category','Marital_Status','Income_Category','Education_Level','Gender','Attrition_Flag'])   \n",
        "# Aqui quitamos todas las columnas categoricas"
      ]
    },
    {
      "cell_type": "code",
      "execution_count": 39,
      "metadata": {
        "colab": {
          "base_uri": "https://localhost:8080/",
          "height": 270
        },
        "id": "ONwzZaBtTbWZ",
        "outputId": "73d6536c-10b1-45a7-e4bd-9f1b9e73b1b2"
      },
      "outputs": [
        {
          "data": {
            "text/html": [
              "<div>\n",
              "<style scoped>\n",
              "    .dataframe tbody tr th:only-of-type {\n",
              "        vertical-align: middle;\n",
              "    }\n",
              "\n",
              "    .dataframe tbody tr th {\n",
              "        vertical-align: top;\n",
              "    }\n",
              "\n",
              "    .dataframe thead th {\n",
              "        text-align: right;\n",
              "    }\n",
              "</style>\n",
              "<table border=\"1\" class=\"dataframe\">\n",
              "  <thead>\n",
              "    <tr style=\"text-align: right;\">\n",
              "      <th></th>\n",
              "      <th>CLIENTNUM</th>\n",
              "      <th>Customer_Age</th>\n",
              "      <th>Dependent_count</th>\n",
              "      <th>Months_on_book</th>\n",
              "      <th>Total_Relationship_Count</th>\n",
              "      <th>Months_Inactive_12_mon</th>\n",
              "      <th>Contacts_Count_12_mon</th>\n",
              "      <th>Credit_Limit</th>\n",
              "      <th>Total_Revolving_Bal</th>\n",
              "      <th>Avg_Open_To_Buy</th>\n",
              "      <th>Total_Amt_Chng_Q4_Q1</th>\n",
              "      <th>Total_Trans_Amt</th>\n",
              "      <th>Total_Trans_Ct</th>\n",
              "      <th>Total_Ct_Chng_Q4_Q1</th>\n",
              "      <th>Avg_Utilization_Ratio</th>\n",
              "    </tr>\n",
              "  </thead>\n",
              "  <tbody>\n",
              "    <tr>\n",
              "      <th>0</th>\n",
              "      <td>768805383</td>\n",
              "      <td>45</td>\n",
              "      <td>3</td>\n",
              "      <td>39</td>\n",
              "      <td>5</td>\n",
              "      <td>1</td>\n",
              "      <td>3</td>\n",
              "      <td>12691.0</td>\n",
              "      <td>777</td>\n",
              "      <td>11914.0</td>\n",
              "      <td>1.335</td>\n",
              "      <td>1144</td>\n",
              "      <td>42</td>\n",
              "      <td>1.625</td>\n",
              "      <td>0.061</td>\n",
              "    </tr>\n",
              "    <tr>\n",
              "      <th>1</th>\n",
              "      <td>818770008</td>\n",
              "      <td>49</td>\n",
              "      <td>5</td>\n",
              "      <td>44</td>\n",
              "      <td>6</td>\n",
              "      <td>1</td>\n",
              "      <td>2</td>\n",
              "      <td>8256.0</td>\n",
              "      <td>864</td>\n",
              "      <td>7392.0</td>\n",
              "      <td>1.541</td>\n",
              "      <td>1291</td>\n",
              "      <td>33</td>\n",
              "      <td>3.714</td>\n",
              "      <td>0.105</td>\n",
              "    </tr>\n",
              "    <tr>\n",
              "      <th>2</th>\n",
              "      <td>713982108</td>\n",
              "      <td>51</td>\n",
              "      <td>3</td>\n",
              "      <td>36</td>\n",
              "      <td>4</td>\n",
              "      <td>1</td>\n",
              "      <td>0</td>\n",
              "      <td>3418.0</td>\n",
              "      <td>0</td>\n",
              "      <td>3418.0</td>\n",
              "      <td>2.594</td>\n",
              "      <td>1887</td>\n",
              "      <td>20</td>\n",
              "      <td>2.333</td>\n",
              "      <td>0.000</td>\n",
              "    </tr>\n",
              "    <tr>\n",
              "      <th>3</th>\n",
              "      <td>769911858</td>\n",
              "      <td>40</td>\n",
              "      <td>4</td>\n",
              "      <td>34</td>\n",
              "      <td>3</td>\n",
              "      <td>4</td>\n",
              "      <td>1</td>\n",
              "      <td>3313.0</td>\n",
              "      <td>2517</td>\n",
              "      <td>796.0</td>\n",
              "      <td>1.405</td>\n",
              "      <td>1171</td>\n",
              "      <td>20</td>\n",
              "      <td>2.333</td>\n",
              "      <td>0.760</td>\n",
              "    </tr>\n",
              "    <tr>\n",
              "      <th>4</th>\n",
              "      <td>709106358</td>\n",
              "      <td>40</td>\n",
              "      <td>3</td>\n",
              "      <td>21</td>\n",
              "      <td>5</td>\n",
              "      <td>1</td>\n",
              "      <td>0</td>\n",
              "      <td>4716.0</td>\n",
              "      <td>0</td>\n",
              "      <td>4716.0</td>\n",
              "      <td>2.175</td>\n",
              "      <td>816</td>\n",
              "      <td>28</td>\n",
              "      <td>2.500</td>\n",
              "      <td>0.000</td>\n",
              "    </tr>\n",
              "  </tbody>\n",
              "</table>\n",
              "</div>"
            ],
            "text/plain": [
              "   CLIENTNUM  Customer_Age  Dependent_count  Months_on_book  \\\n",
              "0  768805383            45                3              39   \n",
              "1  818770008            49                5              44   \n",
              "2  713982108            51                3              36   \n",
              "3  769911858            40                4              34   \n",
              "4  709106358            40                3              21   \n",
              "\n",
              "   Total_Relationship_Count  Months_Inactive_12_mon  Contacts_Count_12_mon  \\\n",
              "0                         5                       1                      3   \n",
              "1                         6                       1                      2   \n",
              "2                         4                       1                      0   \n",
              "3                         3                       4                      1   \n",
              "4                         5                       1                      0   \n",
              "\n",
              "   Credit_Limit  Total_Revolving_Bal  Avg_Open_To_Buy  Total_Amt_Chng_Q4_Q1  \\\n",
              "0       12691.0                  777          11914.0                 1.335   \n",
              "1        8256.0                  864           7392.0                 1.541   \n",
              "2        3418.0                    0           3418.0                 2.594   \n",
              "3        3313.0                 2517            796.0                 1.405   \n",
              "4        4716.0                    0           4716.0                 2.175   \n",
              "\n",
              "   Total_Trans_Amt  Total_Trans_Ct  Total_Ct_Chng_Q4_Q1  Avg_Utilization_Ratio  \n",
              "0             1144              42                1.625                  0.061  \n",
              "1             1291              33                3.714                  0.105  \n",
              "2             1887              20                2.333                  0.000  \n",
              "3             1171              20                2.333                  0.760  \n",
              "4              816              28                2.500                  0.000  "
            ]
          },
          "execution_count": 39,
          "metadata": {},
          "output_type": "execute_result"
        }
      ],
      "source": [
        "df.head()"
      ]
    },
    {
      "cell_type": "code",
      "execution_count": 40,
      "metadata": {
        "colab": {
          "base_uri": "https://localhost:8080/"
        },
        "id": "Uu-bSl4iTd88",
        "outputId": "24624762-a4f8-4164-c494-65f027efa1a7"
      },
      "outputs": [
        {
          "data": {
            "text/plain": [
              "{('Avg_Open_To_Buy', 'Avg_Open_To_Buy'),\n",
              " ('Avg_Open_To_Buy', 'CLIENTNUM'),\n",
              " ('Avg_Open_To_Buy', 'Contacts_Count_12_mon'),\n",
              " ('Avg_Open_To_Buy', 'Credit_Limit'),\n",
              " ('Avg_Open_To_Buy', 'Customer_Age'),\n",
              " ('Avg_Open_To_Buy', 'Dependent_count'),\n",
              " ('Avg_Open_To_Buy', 'Months_Inactive_12_mon'),\n",
              " ('Avg_Open_To_Buy', 'Months_on_book'),\n",
              " ('Avg_Open_To_Buy', 'Total_Relationship_Count'),\n",
              " ('Avg_Open_To_Buy', 'Total_Revolving_Bal'),\n",
              " ('Avg_Utilization_Ratio', 'Avg_Open_To_Buy'),\n",
              " ('Avg_Utilization_Ratio', 'Avg_Utilization_Ratio'),\n",
              " ('Avg_Utilization_Ratio', 'CLIENTNUM'),\n",
              " ('Avg_Utilization_Ratio', 'Contacts_Count_12_mon'),\n",
              " ('Avg_Utilization_Ratio', 'Credit_Limit'),\n",
              " ('Avg_Utilization_Ratio', 'Customer_Age'),\n",
              " ('Avg_Utilization_Ratio', 'Dependent_count'),\n",
              " ('Avg_Utilization_Ratio', 'Months_Inactive_12_mon'),\n",
              " ('Avg_Utilization_Ratio', 'Months_on_book'),\n",
              " ('Avg_Utilization_Ratio', 'Total_Amt_Chng_Q4_Q1'),\n",
              " ('Avg_Utilization_Ratio', 'Total_Ct_Chng_Q4_Q1'),\n",
              " ('Avg_Utilization_Ratio', 'Total_Relationship_Count'),\n",
              " ('Avg_Utilization_Ratio', 'Total_Revolving_Bal'),\n",
              " ('Avg_Utilization_Ratio', 'Total_Trans_Amt'),\n",
              " ('Avg_Utilization_Ratio', 'Total_Trans_Ct'),\n",
              " ('CLIENTNUM', 'CLIENTNUM'),\n",
              " ('Contacts_Count_12_mon', 'CLIENTNUM'),\n",
              " ('Contacts_Count_12_mon', 'Contacts_Count_12_mon'),\n",
              " ('Contacts_Count_12_mon', 'Customer_Age'),\n",
              " ('Contacts_Count_12_mon', 'Dependent_count'),\n",
              " ('Contacts_Count_12_mon', 'Months_Inactive_12_mon'),\n",
              " ('Contacts_Count_12_mon', 'Months_on_book'),\n",
              " ('Contacts_Count_12_mon', 'Total_Relationship_Count'),\n",
              " ('Credit_Limit', 'CLIENTNUM'),\n",
              " ('Credit_Limit', 'Contacts_Count_12_mon'),\n",
              " ('Credit_Limit', 'Credit_Limit'),\n",
              " ('Credit_Limit', 'Customer_Age'),\n",
              " ('Credit_Limit', 'Dependent_count'),\n",
              " ('Credit_Limit', 'Months_Inactive_12_mon'),\n",
              " ('Credit_Limit', 'Months_on_book'),\n",
              " ('Credit_Limit', 'Total_Relationship_Count'),\n",
              " ('Customer_Age', 'CLIENTNUM'),\n",
              " ('Customer_Age', 'Customer_Age'),\n",
              " ('Dependent_count', 'CLIENTNUM'),\n",
              " ('Dependent_count', 'Customer_Age'),\n",
              " ('Dependent_count', 'Dependent_count'),\n",
              " ('Months_Inactive_12_mon', 'CLIENTNUM'),\n",
              " ('Months_Inactive_12_mon', 'Customer_Age'),\n",
              " ('Months_Inactive_12_mon', 'Dependent_count'),\n",
              " ('Months_Inactive_12_mon', 'Months_Inactive_12_mon'),\n",
              " ('Months_Inactive_12_mon', 'Months_on_book'),\n",
              " ('Months_Inactive_12_mon', 'Total_Relationship_Count'),\n",
              " ('Months_on_book', 'CLIENTNUM'),\n",
              " ('Months_on_book', 'Customer_Age'),\n",
              " ('Months_on_book', 'Dependent_count'),\n",
              " ('Months_on_book', 'Months_on_book'),\n",
              " ('Total_Amt_Chng_Q4_Q1', 'Avg_Open_To_Buy'),\n",
              " ('Total_Amt_Chng_Q4_Q1', 'CLIENTNUM'),\n",
              " ('Total_Amt_Chng_Q4_Q1', 'Contacts_Count_12_mon'),\n",
              " ('Total_Amt_Chng_Q4_Q1', 'Credit_Limit'),\n",
              " ('Total_Amt_Chng_Q4_Q1', 'Customer_Age'),\n",
              " ('Total_Amt_Chng_Q4_Q1', 'Dependent_count'),\n",
              " ('Total_Amt_Chng_Q4_Q1', 'Months_Inactive_12_mon'),\n",
              " ('Total_Amt_Chng_Q4_Q1', 'Months_on_book'),\n",
              " ('Total_Amt_Chng_Q4_Q1', 'Total_Amt_Chng_Q4_Q1'),\n",
              " ('Total_Amt_Chng_Q4_Q1', 'Total_Relationship_Count'),\n",
              " ('Total_Amt_Chng_Q4_Q1', 'Total_Revolving_Bal'),\n",
              " ('Total_Ct_Chng_Q4_Q1', 'Avg_Open_To_Buy'),\n",
              " ('Total_Ct_Chng_Q4_Q1', 'CLIENTNUM'),\n",
              " ('Total_Ct_Chng_Q4_Q1', 'Contacts_Count_12_mon'),\n",
              " ('Total_Ct_Chng_Q4_Q1', 'Credit_Limit'),\n",
              " ('Total_Ct_Chng_Q4_Q1', 'Customer_Age'),\n",
              " ('Total_Ct_Chng_Q4_Q1', 'Dependent_count'),\n",
              " ('Total_Ct_Chng_Q4_Q1', 'Months_Inactive_12_mon'),\n",
              " ('Total_Ct_Chng_Q4_Q1', 'Months_on_book'),\n",
              " ('Total_Ct_Chng_Q4_Q1', 'Total_Amt_Chng_Q4_Q1'),\n",
              " ('Total_Ct_Chng_Q4_Q1', 'Total_Ct_Chng_Q4_Q1'),\n",
              " ('Total_Ct_Chng_Q4_Q1', 'Total_Relationship_Count'),\n",
              " ('Total_Ct_Chng_Q4_Q1', 'Total_Revolving_Bal'),\n",
              " ('Total_Ct_Chng_Q4_Q1', 'Total_Trans_Amt'),\n",
              " ('Total_Ct_Chng_Q4_Q1', 'Total_Trans_Ct'),\n",
              " ('Total_Relationship_Count', 'CLIENTNUM'),\n",
              " ('Total_Relationship_Count', 'Customer_Age'),\n",
              " ('Total_Relationship_Count', 'Dependent_count'),\n",
              " ('Total_Relationship_Count', 'Months_on_book'),\n",
              " ('Total_Relationship_Count', 'Total_Relationship_Count'),\n",
              " ('Total_Revolving_Bal', 'CLIENTNUM'),\n",
              " ('Total_Revolving_Bal', 'Contacts_Count_12_mon'),\n",
              " ('Total_Revolving_Bal', 'Credit_Limit'),\n",
              " ('Total_Revolving_Bal', 'Customer_Age'),\n",
              " ('Total_Revolving_Bal', 'Dependent_count'),\n",
              " ('Total_Revolving_Bal', 'Months_Inactive_12_mon'),\n",
              " ('Total_Revolving_Bal', 'Months_on_book'),\n",
              " ('Total_Revolving_Bal', 'Total_Relationship_Count'),\n",
              " ('Total_Revolving_Bal', 'Total_Revolving_Bal'),\n",
              " ('Total_Trans_Amt', 'Avg_Open_To_Buy'),\n",
              " ('Total_Trans_Amt', 'CLIENTNUM'),\n",
              " ('Total_Trans_Amt', 'Contacts_Count_12_mon'),\n",
              " ('Total_Trans_Amt', 'Credit_Limit'),\n",
              " ('Total_Trans_Amt', 'Customer_Age'),\n",
              " ('Total_Trans_Amt', 'Dependent_count'),\n",
              " ('Total_Trans_Amt', 'Months_Inactive_12_mon'),\n",
              " ('Total_Trans_Amt', 'Months_on_book'),\n",
              " ('Total_Trans_Amt', 'Total_Amt_Chng_Q4_Q1'),\n",
              " ('Total_Trans_Amt', 'Total_Relationship_Count'),\n",
              " ('Total_Trans_Amt', 'Total_Revolving_Bal'),\n",
              " ('Total_Trans_Amt', 'Total_Trans_Amt'),\n",
              " ('Total_Trans_Ct', 'Avg_Open_To_Buy'),\n",
              " ('Total_Trans_Ct', 'CLIENTNUM'),\n",
              " ('Total_Trans_Ct', 'Contacts_Count_12_mon'),\n",
              " ('Total_Trans_Ct', 'Credit_Limit'),\n",
              " ('Total_Trans_Ct', 'Customer_Age'),\n",
              " ('Total_Trans_Ct', 'Dependent_count'),\n",
              " ('Total_Trans_Ct', 'Months_Inactive_12_mon'),\n",
              " ('Total_Trans_Ct', 'Months_on_book'),\n",
              " ('Total_Trans_Ct', 'Total_Amt_Chng_Q4_Q1'),\n",
              " ('Total_Trans_Ct', 'Total_Relationship_Count'),\n",
              " ('Total_Trans_Ct', 'Total_Revolving_Bal'),\n",
              " ('Total_Trans_Ct', 'Total_Trans_Amt'),\n",
              " ('Total_Trans_Ct', 'Total_Trans_Ct')}"
            ]
          },
          "execution_count": 40,
          "metadata": {},
          "output_type": "execute_result"
        }
      ],
      "source": [
        "parejas(df)"
      ]
    },
    {
      "cell_type": "code",
      "execution_count": 41,
      "metadata": {
        "colab": {
          "base_uri": "https://localhost:8080/"
        },
        "id": "tVLIvUx9Tlr-",
        "outputId": "67b4202f-5960-43f5-db7e-b3bbf292cdb8"
      },
      "outputs": [
        {
          "data": {
            "text/plain": [
              "Credit_Limit              Avg_Open_To_Buy          0.995981\n",
              "Total_Trans_Amt           Total_Trans_Ct           0.807192\n",
              "Customer_Age              Months_on_book           0.788912\n",
              "Total_Revolving_Bal       Avg_Utilization_Ratio    0.624022\n",
              "Avg_Open_To_Buy           Avg_Utilization_Ratio    0.538808\n",
              "Credit_Limit              Avg_Utilization_Ratio    0.482965\n",
              "Total_Amt_Chng_Q4_Q1      Total_Ct_Chng_Q4_Q1      0.384189\n",
              "Total_Relationship_Count  Total_Trans_Amt          0.347229\n",
              "                          Total_Trans_Ct           0.241891\n",
              "Credit_Limit              Total_Trans_Amt          0.171730\n",
              "dtype: float64"
            ]
          },
          "execution_count": 41,
          "metadata": {},
          "output_type": "execute_result"
        }
      ],
      "source": [
        "correlaciones(df,10)"
      ]
    },
    {
      "cell_type": "markdown",
      "metadata": {
        "id": "VMkd0YY2TqZB"
      },
      "source": [
        "Las unicas relaciones que podemos notar como importantes gracias a la matriz son las siguientes\n",
        "\n",
        "Credit_Limit / Avg_Open_To_Buy = 0.995981\n",
        "\n",
        "Total_Trans_Amt / Total_Trans_Ct = 0.807192\n",
        "\n",
        "Customer_Age / Months_on_book = 0.788912\n",
        "\n",
        "Total_Revolving_Bal / Avg_Utilization_Ratio = 0.624022"
      ]
    },
    {
      "cell_type": "markdown",
      "metadata": {
        "id": "ld8xHOuTSGSJ"
      },
      "source": [
        "## Analisis de variables categoricas"
      ]
    },
    {
      "cell_type": "markdown",
      "metadata": {
        "id": "txb1axY2BlVa"
      },
      "source": [
        "Vamos a hacer un analisis de los valores tipo object de forma manual pero solo en funcion de la variable target denominada Attrition_Flag\n"
      ]
    },
    {
      "cell_type": "code",
      "execution_count": 42,
      "metadata": {
        "colab": {
          "base_uri": "https://localhost:8080/"
        },
        "id": "MRdu5Hs1Bp8D",
        "outputId": "3f46115b-ec6b-47b7-a678-98986432faf9"
      },
      "outputs": [
        {
          "name": "stdout",
          "output_type": "stream",
          "text": [
            "Card_category_count \n",
            " Blue        9436\n",
            "Silver       555\n",
            "Gold         116\n",
            "Platinum      20\n",
            "Name: Card_Category, dtype: int64 \n",
            " - - - - - - - - - - - - - - - - - - - - \n",
            "Marital_statuts_count \n",
            " Married     4687\n",
            "Single      3943\n",
            "Unknown      749\n",
            "Divorced     748\n",
            "Name: Marital_Status, dtype: int64 \n",
            " - - - - - - - - - - - - - - - - - - - - \n",
            "Education_level_count \n",
            " Graduate         3128\n",
            "High School      2013\n",
            "Unknown          1519\n",
            "Uneducated       1487\n",
            "College          1013\n",
            "Post-Graduate     516\n",
            "Doctorate         451\n",
            "Name: Education_Level, dtype: int64 \n",
            " - - - - - - - - - - - - - - - - - - - - \n",
            "Gender_count \n",
            " F    5358\n",
            "M    4769\n",
            "Name: Gender, dtype: int64 \n",
            " - - - - - - - - - - - - - - - - - - - - \n",
            "Attrition_Flag_count \n",
            " Existing Customer    8500\n",
            "Attrited Customer    1627\n",
            "Name: Attrition_Flag, dtype: int64 \n",
            "\n"
          ]
        }
      ],
      "source": [
        "card_category_count = bank_df['Card_Category'].value_counts()\n",
        "marital_statuts_count = bank_df['Marital_Status'].value_counts()\n",
        "education_level_count = bank_df['Education_Level'].value_counts()\n",
        "gender_count = bank_df['Gender'].value_counts()\n",
        "atf_count = bank_df['Attrition_Flag'].value_counts()\n",
        "\n",
        "print('Card_category_count \\n',card_category_count,'\\n','- '*20)\n",
        "print('Marital_statuts_count \\n',marital_statuts_count,'\\n','- '*20)\n",
        "print('Education_level_count \\n',education_level_count,'\\n','- '*20)\n",
        "print('Gender_count \\n',gender_count,'\\n','- '*20)\n",
        "print('Attrition_Flag_count \\n',atf_count,'\\n')"
      ]
    },
    {
      "cell_type": "code",
      "execution_count": 43,
      "metadata": {
        "colab": {
          "base_uri": "https://localhost:8080/",
          "height": 206
        },
        "id": "55mW-s9mDrMm",
        "outputId": "29dd2a7e-ba09-4041-8a9d-468de73ce9fc"
      },
      "outputs": [
        {
          "data": {
            "text/html": [
              "<div>\n",
              "<style scoped>\n",
              "    .dataframe tbody tr th:only-of-type {\n",
              "        vertical-align: middle;\n",
              "    }\n",
              "\n",
              "    .dataframe tbody tr th {\n",
              "        vertical-align: top;\n",
              "    }\n",
              "\n",
              "    .dataframe thead th {\n",
              "        text-align: right;\n",
              "    }\n",
              "</style>\n",
              "<table border=\"1\" class=\"dataframe\">\n",
              "  <thead>\n",
              "    <tr style=\"text-align: right;\">\n",
              "      <th>Attrition_Flag</th>\n",
              "      <th>Attrited Customer</th>\n",
              "      <th>Existing Customer</th>\n",
              "      <th>%_out</th>\n",
              "    </tr>\n",
              "    <tr>\n",
              "      <th>Card_Category</th>\n",
              "      <th></th>\n",
              "      <th></th>\n",
              "      <th></th>\n",
              "    </tr>\n",
              "  </thead>\n",
              "  <tbody>\n",
              "    <tr>\n",
              "      <th>Blue</th>\n",
              "      <td>1519</td>\n",
              "      <td>7917</td>\n",
              "      <td>0.160979</td>\n",
              "    </tr>\n",
              "    <tr>\n",
              "      <th>Gold</th>\n",
              "      <td>21</td>\n",
              "      <td>95</td>\n",
              "      <td>0.181034</td>\n",
              "    </tr>\n",
              "    <tr>\n",
              "      <th>Platinum</th>\n",
              "      <td>5</td>\n",
              "      <td>15</td>\n",
              "      <td>0.250000</td>\n",
              "    </tr>\n",
              "    <tr>\n",
              "      <th>Silver</th>\n",
              "      <td>82</td>\n",
              "      <td>473</td>\n",
              "      <td>0.147748</td>\n",
              "    </tr>\n",
              "  </tbody>\n",
              "</table>\n",
              "</div>"
            ],
            "text/plain": [
              "Attrition_Flag  Attrited Customer  Existing Customer     %_out\n",
              "Card_Category                                                 \n",
              "Blue                         1519               7917  0.160979\n",
              "Gold                           21                 95  0.181034\n",
              "Platinum                        5                 15  0.250000\n",
              "Silver                         82                473  0.147748"
            ]
          },
          "execution_count": 43,
          "metadata": {},
          "output_type": "execute_result"
        }
      ],
      "source": [
        "cuenta_tipo_tarjeta = bank_df['Attrition_Flag'].groupby(bank_df['Card_Category']).value_counts().unstack()\n",
        "cuenta_tipo_tarjeta['%_out'] = cuenta_tipo_tarjeta['Attrited Customer'] / (cuenta_tipo_tarjeta['Attrited Customer'] + cuenta_tipo_tarjeta['Existing Customer'])\n",
        "cuenta_tipo_tarjeta"
      ]
    },
    {
      "cell_type": "code",
      "execution_count": 44,
      "metadata": {
        "colab": {
          "base_uri": "https://localhost:8080/",
          "height": 206
        },
        "id": "i3SP-g9XNOUJ",
        "outputId": "e4bdefdd-f7c6-4a5b-c20a-394c2ff549d2"
      },
      "outputs": [
        {
          "data": {
            "text/html": [
              "<div>\n",
              "<style scoped>\n",
              "    .dataframe tbody tr th:only-of-type {\n",
              "        vertical-align: middle;\n",
              "    }\n",
              "\n",
              "    .dataframe tbody tr th {\n",
              "        vertical-align: top;\n",
              "    }\n",
              "\n",
              "    .dataframe thead th {\n",
              "        text-align: right;\n",
              "    }\n",
              "</style>\n",
              "<table border=\"1\" class=\"dataframe\">\n",
              "  <thead>\n",
              "    <tr style=\"text-align: right;\">\n",
              "      <th>Attrition_Flag</th>\n",
              "      <th>Attrited Customer</th>\n",
              "      <th>Existing Customer</th>\n",
              "      <th>%_out</th>\n",
              "    </tr>\n",
              "    <tr>\n",
              "      <th>Marital_Status</th>\n",
              "      <th></th>\n",
              "      <th></th>\n",
              "      <th></th>\n",
              "    </tr>\n",
              "  </thead>\n",
              "  <tbody>\n",
              "    <tr>\n",
              "      <th>Divorced</th>\n",
              "      <td>121</td>\n",
              "      <td>627</td>\n",
              "      <td>0.161765</td>\n",
              "    </tr>\n",
              "    <tr>\n",
              "      <th>Married</th>\n",
              "      <td>709</td>\n",
              "      <td>3978</td>\n",
              "      <td>0.151269</td>\n",
              "    </tr>\n",
              "    <tr>\n",
              "      <th>Single</th>\n",
              "      <td>668</td>\n",
              "      <td>3275</td>\n",
              "      <td>0.169414</td>\n",
              "    </tr>\n",
              "    <tr>\n",
              "      <th>Unknown</th>\n",
              "      <td>129</td>\n",
              "      <td>620</td>\n",
              "      <td>0.172230</td>\n",
              "    </tr>\n",
              "  </tbody>\n",
              "</table>\n",
              "</div>"
            ],
            "text/plain": [
              "Attrition_Flag  Attrited Customer  Existing Customer     %_out\n",
              "Marital_Status                                                \n",
              "Divorced                      121                627  0.161765\n",
              "Married                       709               3978  0.151269\n",
              "Single                        668               3275  0.169414\n",
              "Unknown                       129                620  0.172230"
            ]
          },
          "execution_count": 44,
          "metadata": {},
          "output_type": "execute_result"
        }
      ],
      "source": [
        "cuenta_marital_status = bank_df['Attrition_Flag'].groupby(bank_df['Marital_Status']).value_counts().unstack()\n",
        "cuenta_marital_status['%_out'] = cuenta_marital_status['Attrited Customer'] / (cuenta_marital_status['Attrited Customer'] + cuenta_marital_status['Existing Customer'])\n",
        "cuenta_marital_status"
      ]
    },
    {
      "cell_type": "code",
      "execution_count": 45,
      "metadata": {
        "colab": {
          "base_uri": "https://localhost:8080/",
          "height": 301
        },
        "id": "V9dY-ltHOKmr",
        "outputId": "00db8786-de19-40de-e102-dfc0613a296e"
      },
      "outputs": [
        {
          "data": {
            "text/html": [
              "<div>\n",
              "<style scoped>\n",
              "    .dataframe tbody tr th:only-of-type {\n",
              "        vertical-align: middle;\n",
              "    }\n",
              "\n",
              "    .dataframe tbody tr th {\n",
              "        vertical-align: top;\n",
              "    }\n",
              "\n",
              "    .dataframe thead th {\n",
              "        text-align: right;\n",
              "    }\n",
              "</style>\n",
              "<table border=\"1\" class=\"dataframe\">\n",
              "  <thead>\n",
              "    <tr style=\"text-align: right;\">\n",
              "      <th>Attrition_Flag</th>\n",
              "      <th>Attrited Customer</th>\n",
              "      <th>Existing Customer</th>\n",
              "      <th>%_out</th>\n",
              "    </tr>\n",
              "    <tr>\n",
              "      <th>Education_Level</th>\n",
              "      <th></th>\n",
              "      <th></th>\n",
              "      <th></th>\n",
              "    </tr>\n",
              "  </thead>\n",
              "  <tbody>\n",
              "    <tr>\n",
              "      <th>College</th>\n",
              "      <td>154</td>\n",
              "      <td>859</td>\n",
              "      <td>0.152024</td>\n",
              "    </tr>\n",
              "    <tr>\n",
              "      <th>Doctorate</th>\n",
              "      <td>95</td>\n",
              "      <td>356</td>\n",
              "      <td>0.210643</td>\n",
              "    </tr>\n",
              "    <tr>\n",
              "      <th>Graduate</th>\n",
              "      <td>487</td>\n",
              "      <td>2641</td>\n",
              "      <td>0.155691</td>\n",
              "    </tr>\n",
              "    <tr>\n",
              "      <th>High School</th>\n",
              "      <td>306</td>\n",
              "      <td>1707</td>\n",
              "      <td>0.152012</td>\n",
              "    </tr>\n",
              "    <tr>\n",
              "      <th>Post-Graduate</th>\n",
              "      <td>92</td>\n",
              "      <td>424</td>\n",
              "      <td>0.178295</td>\n",
              "    </tr>\n",
              "    <tr>\n",
              "      <th>Uneducated</th>\n",
              "      <td>237</td>\n",
              "      <td>1250</td>\n",
              "      <td>0.159381</td>\n",
              "    </tr>\n",
              "    <tr>\n",
              "      <th>Unknown</th>\n",
              "      <td>256</td>\n",
              "      <td>1263</td>\n",
              "      <td>0.168532</td>\n",
              "    </tr>\n",
              "  </tbody>\n",
              "</table>\n",
              "</div>"
            ],
            "text/plain": [
              "Attrition_Flag   Attrited Customer  Existing Customer     %_out\n",
              "Education_Level                                                \n",
              "College                        154                859  0.152024\n",
              "Doctorate                       95                356  0.210643\n",
              "Graduate                       487               2641  0.155691\n",
              "High School                    306               1707  0.152012\n",
              "Post-Graduate                   92                424  0.178295\n",
              "Uneducated                     237               1250  0.159381\n",
              "Unknown                        256               1263  0.168532"
            ]
          },
          "execution_count": 45,
          "metadata": {},
          "output_type": "execute_result"
        }
      ],
      "source": [
        "cuenta_Education_level = bank_df['Attrition_Flag'].groupby(bank_df['Education_Level']).value_counts().unstack()\n",
        "cuenta_Education_level['%_out'] = cuenta_Education_level['Attrited Customer'] / (cuenta_Education_level['Attrited Customer'] + cuenta_Education_level['Existing Customer'])\n",
        "cuenta_Education_level"
      ]
    },
    {
      "cell_type": "code",
      "execution_count": 46,
      "metadata": {
        "colab": {
          "base_uri": "https://localhost:8080/",
          "height": 144
        },
        "id": "CHEs2c9XQDzS",
        "outputId": "3001cae4-bf78-4497-de8e-bbc9166e5fc4"
      },
      "outputs": [
        {
          "data": {
            "text/html": [
              "<div>\n",
              "<style scoped>\n",
              "    .dataframe tbody tr th:only-of-type {\n",
              "        vertical-align: middle;\n",
              "    }\n",
              "\n",
              "    .dataframe tbody tr th {\n",
              "        vertical-align: top;\n",
              "    }\n",
              "\n",
              "    .dataframe thead th {\n",
              "        text-align: right;\n",
              "    }\n",
              "</style>\n",
              "<table border=\"1\" class=\"dataframe\">\n",
              "  <thead>\n",
              "    <tr style=\"text-align: right;\">\n",
              "      <th>Attrition_Flag</th>\n",
              "      <th>Attrited Customer</th>\n",
              "      <th>Existing Customer</th>\n",
              "      <th>%_out</th>\n",
              "    </tr>\n",
              "    <tr>\n",
              "      <th>Gender</th>\n",
              "      <th></th>\n",
              "      <th></th>\n",
              "      <th></th>\n",
              "    </tr>\n",
              "  </thead>\n",
              "  <tbody>\n",
              "    <tr>\n",
              "      <th>F</th>\n",
              "      <td>930</td>\n",
              "      <td>4428</td>\n",
              "      <td>0.173572</td>\n",
              "    </tr>\n",
              "    <tr>\n",
              "      <th>M</th>\n",
              "      <td>697</td>\n",
              "      <td>4072</td>\n",
              "      <td>0.146152</td>\n",
              "    </tr>\n",
              "  </tbody>\n",
              "</table>\n",
              "</div>"
            ],
            "text/plain": [
              "Attrition_Flag  Attrited Customer  Existing Customer     %_out\n",
              "Gender                                                        \n",
              "F                             930               4428  0.173572\n",
              "M                             697               4072  0.146152"
            ]
          },
          "execution_count": 46,
          "metadata": {},
          "output_type": "execute_result"
        }
      ],
      "source": [
        "cuenta_Gender = bank_df['Attrition_Flag'].groupby(bank_df['Gender']).value_counts().unstack()\n",
        "cuenta_Gender['%_out'] = cuenta_Gender['Attrited Customer'] / (cuenta_Gender['Attrited Customer'] + cuenta_Gender['Existing Customer'])\n",
        "cuenta_Gender"
      ]
    },
    {
      "cell_type": "markdown",
      "metadata": {
        "id": "VX7UH_nJQlPu"
      },
      "source": [
        "De este analisis de variables categorias podemos sacar las siguientes conclusiones:\n",
        "\n",
        "- Card_Category:  Existe una mayor cantidad de clientes tipo \"Platinum\" que dejan de usar los servicios.\n",
        "- Marital_Status: No hay diferencias significativas en el abandono de clientes segun esta categoria.\n",
        "- Education_Level: Existe una mayor cantidad de clientes con un nivel de educacion \"Doctorate\" que dejan de usar los servicios.\n",
        "- Gender: No hay diferencias significativas en el abandono de clientes segun esta categoria"
      ]
    },
    {
      "cell_type": "code",
      "execution_count": 47,
      "metadata": {
        "colab": {
          "base_uri": "https://localhost:8080/"
        },
        "id": "eO_IBeULSnkp",
        "outputId": "ed36827f-2cf9-4a43-e885-c2229d3f4c63"
      },
      "outputs": [
        {
          "name": "stdout",
          "output_type": "stream",
          "text": [
            "Porcentaje promedio de clientes que abandonan segun Card_Category\n",
            "18.494036474825382 %\n",
            "Porcentaje de clientes segun categoria Platinum que abandonan los servicios\n",
            "25.0 %\n",
            "Diferencia\n",
            "6.505963525174618 %\n",
            "- - - - - - - - - - - - - - - - - - - - - - - - - - - - - - - - - - - - - - - - - - \n",
            "Porcentaje promedio de clientes que abandonan segun categoria Education_Level\n",
            "16.80824248996223 %\n",
            "Porcentaje de clientes con nivel de educacion Doctorate que abandonan los servicios\n",
            "21.06430155210643 %\n",
            "Diferencia\n",
            "4.256059062144199 %\n"
          ]
        }
      ],
      "source": [
        "print('Porcentaje promedio de clientes que abandonan segun Card_Category')\n",
        "print(cuenta_tipo_tarjeta['%_out'].mean()*100 ,'%')\n",
        "print('Porcentaje de clientes segun categoria Platinum que abandonan los servicios')\n",
        "print(cuenta_tipo_tarjeta['%_out']['Platinum']*100,'%')\n",
        "print('Diferencia')\n",
        "print((cuenta_tipo_tarjeta['%_out']['Platinum'] - cuenta_tipo_tarjeta['%_out'].mean())*100,'%' )\n",
        "print('- '*42)\n",
        "print('Porcentaje promedio de clientes que abandonan segun categoria Education_Level')\n",
        "print(cuenta_Education_level['%_out'].mean()*100 ,'%')\n",
        "print('Porcentaje de clientes con nivel de educacion Doctorate que abandonan los servicios')\n",
        "print(cuenta_Education_level['%_out']['Doctorate']*100,'%')\n",
        "print('Diferencia')\n",
        "print((cuenta_Education_level['%_out']['Doctorate'] - cuenta_Education_level['%_out'].mean())*100,'%' )"
      ]
    },
    {
      "cell_type": "markdown",
      "metadata": {
        "id": "oYtOBr21UA50"
      },
      "source": [
        "## Prueba de modelos"
      ]
    },
    {
      "cell_type": "markdown",
      "metadata": {
        "id": "X_s0a3I0TwoS"
      },
      "source": [
        "Para empezar a probar modelos y evaluar su desempeño es necesario realizar algunas transformaciones en nuestros datos. Ya que tenemos muchas variables categoricas que no pueden ser analizadas por los modelos.\n",
        "\n",
        "Debido a esto, se aplicaran tecnicas para codificar estas variables categoricas como puede ser un Label Encoder o dummy\n"
      ]
    },
    {
      "cell_type": "code",
      "execution_count": 48,
      "metadata": {
        "id": "eOs5rgniUPQJ"
      },
      "outputs": [],
      "source": [
        "df_e2 = bank_df\n",
        "# total de columnas categoricas ['Card_Category','Marital_Status','Income_Category','Education_Level','Gender','Attrition_Flag']\n",
        "lista = ['Marital_Status','Gender'] # lista de columnas categoricas a codificar con LE\n",
        "lista2 = ['Card_Category','Income_Category','Education_Level','Attrition_Flag'] # lista de columnas categoricas a codificar con OHE o dummy\n",
        "\n",
        "from sklearn.preprocessing import LabelEncoder\n",
        "labelencoder = LabelEncoder()\n",
        "\n",
        "for i in lista:\n",
        "  df_e2[i+'_cat'] = labelencoder.fit_transform(df_e2[i]) # creo una nueva columna con el nombre de la columna categorica anterior + _cat para la codificacion\n",
        "df_e2 = df_e2.drop(columns=lista) # creo un nuevo df eliminando las columnas categoricas, dejando en su lugar las columnas codificadas\n",
        "\n",
        "df_e2 = pd.get_dummies(df_e2, columns = lista2)\n"
      ]
    },
    {
      "cell_type": "markdown",
      "metadata": {
        "id": "4jmgfrCoUaRm"
      },
      "source": [
        "Le cambio el nombre a la columna Attrition_Flag_Attrited Customer por Target y eliminamos las columnas que no son utiles para el analisis. Por ejemplo la columna Attrition_Flag_Existing Customer que es inversa a nuestro Target.\n",
        "Por otro lado tambien elminiamos la columna CLIENTNUM que es un ID de cliente que no aporta informacion al modelo. "
      ]
    },
    {
      "cell_type": "code",
      "execution_count": 49,
      "metadata": {
        "id": "6evPSfoTUXP2"
      },
      "outputs": [],
      "source": [
        "df_e2 = df_e2.rename(columns={'Attrition_Flag_Attrited Customer':'Target'})\n",
        "df_e2 = df_e2.drop(columns=['Attrition_Flag_Existing Customer','CLIENTNUM'])"
      ]
    },
    {
      "cell_type": "code",
      "execution_count": 50,
      "metadata": {
        "colab": {
          "base_uri": "https://localhost:8080/"
        },
        "id": "34bE3zZhU3C8",
        "outputId": "5a127a39-0b0f-448d-b63b-b01b890b89aa"
      },
      "outputs": [
        {
          "data": {
            "text/plain": [
              "0    8500\n",
              "1    1627\n",
              "Name: Target, dtype: int64"
            ]
          },
          "execution_count": 50,
          "metadata": {},
          "output_type": "execute_result"
        }
      ],
      "source": [
        "df_e2['Target'].value_counts()\n",
        "# En este paso, podemos ver que la columna de Target tiene 8500 valores = 0 que son los que corresponden a Existing Customer, y los otros 1627 = 1 corresponden a los Attrited Customer"
      ]
    },
    {
      "cell_type": "markdown",
      "metadata": {
        "id": "WEpdZGwjVXsT"
      },
      "source": [
        "Dividimos nuestros datos en X e y."
      ]
    },
    {
      "cell_type": "code",
      "execution_count": 51,
      "metadata": {
        "id": "tOQDNyZZVU2P"
      },
      "outputs": [],
      "source": [
        "X = df_e2.drop(columns=['Target'])\n",
        "y = df_e2['Target']    "
      ]
    },
    {
      "cell_type": "code",
      "execution_count": 52,
      "metadata": {
        "id": "JG5199KsVNp-"
      },
      "outputs": [],
      "source": [
        "from sklearn.model_selection import train_test_split\n",
        "#se carga la libreria para poder dividir la información en entrenamiento(es la mayor parte del dataset) y prueba (sobre esto vamos a testear el módelo)\n",
        "X_train, X_test, y_train, y_test = train_test_split(X, y, test_size=.25, random_state = 42)"
      ]
    },
    {
      "cell_type": "markdown",
      "metadata": {
        "id": "VcgYDpBRUNKS"
      },
      "source": [
        "### Prueba 1: AgglomerativeClustering\n",
        "\n"
      ]
    },
    {
      "cell_type": "markdown",
      "metadata": {
        "id": "jwXp0XmZVuBI"
      },
      "source": [
        "Prueba de modelo AgglomerativeClustering para cluster\n",
        "\n",
        "Faltaria hacer un train & test. (recordar armar los conjuntos de train y test por separado). Ver metricas para analizar efectividad del modelo.\n",
        "\n",
        "La ejecucion con solo 2 columnas demora como 5 minutos si no quitamos el grafico\n",
        "\n",
        "Sin el grafico, se ejecuta en 2 segundos"
      ]
    },
    {
      "cell_type": "code",
      "execution_count": 53,
      "metadata": {
        "id": "OUYVNz9oU5x8"
      },
      "outputs": [],
      "source": [
        "from sklearn.cluster import AgglomerativeClustering\n",
        "import scipy.cluster.hierarchy as sch\n",
        "# plt.figure(figsize=(10,6))\n",
        "# dendrogram = sch.dendrogram(sch.linkage(X_train, method='ward'))\n",
        "model = AgglomerativeClustering(n_clusters=5, affinity='euclidean', linkage='ward')\n",
        "model.fit(X_train)\n",
        "y_pred_AC = model.fit_predict(X_test)\n",
        "# labels = model.labels_\n",
        "# plt.scatter(X_train[labels==0, 0], X_train[labels==0, 1], s=50, marker='o', color='red')\n",
        "# plt.scatter(X_train[labels==1, 0], X_train[labels==1, 1], s=50, marker='o', color='blue')\n",
        "# plt.scatter(X_train[labels==2, 0], X_train[labels==2, 1], s=50, marker='o', color='green')\n",
        "# plt.scatter(X_train[labels==3, 0], X_train[labels==3, 1], s=50, marker='o', color='purple')\n",
        "# plt.scatter(X_train[labels==4, 0], X_train[labels==4, 1], s=50, marker='o', color='orange')\n",
        "# plt.show()"
      ]
    },
    {
      "cell_type": "code",
      "execution_count": 54,
      "metadata": {
        "colab": {
          "base_uri": "https://localhost:8080/"
        },
        "id": "oaReo3lwD7Ys",
        "outputId": "86355968-2e69-41d0-ecf6-799b1b7437b1"
      },
      "outputs": [
        {
          "ename": "NameError",
          "evalue": "name 'classification_report' is not defined",
          "output_type": "error",
          "traceback": [
            "\u001b[1;31m---------------------------------------------------------------------------\u001b[0m",
            "\u001b[1;31mNameError\u001b[0m                                 Traceback (most recent call last)",
            "\u001b[1;32m~\\AppData\\Local\\Temp/ipykernel_17952/865685964.py\u001b[0m in \u001b[0;36m<module>\u001b[1;34m\u001b[0m\n\u001b[1;32m----> 1\u001b[1;33m \u001b[0mprint\u001b[0m\u001b[1;33m(\u001b[0m\u001b[1;34m'\\n\\nclassification_report\\n\\n'\u001b[0m\u001b[1;33m,\u001b[0m\u001b[0mclassification_report\u001b[0m\u001b[1;33m(\u001b[0m\u001b[0my_test\u001b[0m\u001b[1;33m,\u001b[0m \u001b[0my_pred_AC\u001b[0m\u001b[1;33m)\u001b[0m\u001b[1;33m)\u001b[0m\u001b[1;33m\u001b[0m\u001b[1;33m\u001b[0m\u001b[0m\n\u001b[0m",
            "\u001b[1;31mNameError\u001b[0m: name 'classification_report' is not defined"
          ]
        }
      ],
      "source": [
        "print('\\n\\nclassification_report\\n\\n',classification_report(y_test, y_pred_AC))"
      ]
    },
    {
      "cell_type": "markdown",
      "metadata": {
        "id": "LxcyyzPgVGRR"
      },
      "source": [
        "### Prueba 2: Regresion logistica\n"
      ]
    },
    {
      "cell_type": "code",
      "execution_count": null,
      "metadata": {
        "id": "mvDoO_a4VN5_"
      },
      "outputs": [],
      "source": [
        "from sklearn.linear_model import LogisticRegression\n",
        "from sklearn.metrics import accuracy_score\n",
        "from sklearn.metrics import recall_score\n",
        "from sklearn.metrics import precision_score\n",
        "from sklearn.metrics import f1_score\n",
        "from sklearn.metrics import classification_report\n",
        "from sklearn.model_selection import train_test_split"
      ]
    },
    {
      "cell_type": "code",
      "execution_count": null,
      "metadata": {
        "id": "mIhrp9CkVeX-"
      },
      "outputs": [],
      "source": [
        "model = LogisticRegression(max_iter=800, n_jobs=-1) \n",
        "# Ajustar modelo\n",
        "model.fit(X_train, y_train) \n",
        "#Predicciones\n",
        "predicciones = model.predict(X_test)"
      ]
    },
    {
      "cell_type": "code",
      "execution_count": null,
      "metadata": {
        "colab": {
          "base_uri": "https://localhost:8080/"
        },
        "id": "wBYOaEQBVi3r",
        "outputId": "8ff137c6-f4ba-499d-8f8a-938e62bfc004"
      },
      "outputs": [
        {
          "name": "stdout",
          "output_type": "stream",
          "text": [
            "accuracy_score\n",
            " 0.8906003159557662\n",
            "recall_score\n",
            " 0.49403341288782815\n",
            "precision_score\n",
            " 0.7610294117647058\n",
            "f1_score\n",
            " 0.5991316931982634\n",
            "\n",
            "\n",
            "classification_report\n",
            "\n",
            "               precision    recall  f1-score   support\n",
            "\n",
            "           0       0.91      0.97      0.94      2113\n",
            "           1       0.76      0.49      0.60       419\n",
            "\n",
            "    accuracy                           0.89      2532\n",
            "   macro avg       0.83      0.73      0.77      2532\n",
            "weighted avg       0.88      0.89      0.88      2532\n",
            "\n"
          ]
        }
      ],
      "source": [
        "print('accuracy_score\\n',accuracy_score(y_test, predicciones))\n",
        "print('recall_score\\n',recall_score(y_test, predicciones))\n",
        "print('precision_score\\n',precision_score(y_test, predicciones))\n",
        "print('f1_score\\n',f1_score(y_test, predicciones))\n",
        "print('\\n\\nclassification_report\\n\\n',classification_report(y_test, predicciones))"
      ]
    },
    {
      "cell_type": "code",
      "execution_count": null,
      "metadata": {
        "colab": {
          "base_uri": "https://localhost:8080/",
          "height": 337
        },
        "id": "j9qp_DpMVmXQ",
        "outputId": "87f951ed-6118-4682-a922-fab5b11c41bc"
      },
      "outputs": [
        {
          "data": {
            "image/png": "[encoded data removed]",
            "text/plain": [
              "<Figure size 432x288 with 2 Axes>"
            ]
          },
          "metadata": {
            "needs_background": "light"
          },
          "output_type": "display_data"
        }
      ],
      "source": [
        "from sklearn.metrics import confusion_matrix\n",
        "#Matriz de confusion\n",
        "cf_matrix = confusion_matrix(y_test, predicciones)\n",
        "import seaborn as sns\n",
        "ax = sns.heatmap(cf_matrix, annot=True, cmap='Blues',fmt='.1f')\n",
        "ax.set_title('Matriz de confusion con labels\\n\\n');\n",
        "ax.set_xlabel('\\nValores predichos')\n",
        "ax.set_ylabel('Valores reales ');\n",
        "## Ticket labels - En orden alfabetico\n",
        "ax.xaxis.set_ticklabels(['False','True'])\n",
        "ax.yaxis.set_ticklabels(['False','True'])\n",
        "plt.show()"
      ]
    },
    {
      "cell_type": "markdown",
      "metadata": {
        "id": "RGoQwH4q3qqO"
      },
      "source": [
        "Haremos una validaion cruzada para determinar si el modelo esta balanceado o no "
      ]
    },
    {
      "cell_type": "code",
      "execution_count": null,
      "metadata": {
        "id": "NFN3ImXa3xcR"
      },
      "outputs": [],
      "source": [
        "from sklearn.model_selection import KFold, cross_validate\n",
        "from sklearn.model_selection import StratifiedKFold\n",
        "\n",
        "skf = StratifiedKFold(n_splits=5,\n",
        "                      shuffle=True, \n",
        "                      random_state=4)\n",
        "\n",
        "kfcv_precision =  cross_validate(model,                   # Indicamos el modelo\n",
        "                                 X_train,                  # Le pasamos los features de entrenamiento \n",
        "                                 y_train,                  # Le pasamos la columna target de entrenamiento\n",
        "                                 scoring='precision',      # Declaramos que metrica deseamos darle seguimiento\n",
        "                                 return_train_score=True,  # Indicamos que también queremos ver el comportamiento de la metrica en Train \n",
        "                                 cv=skf                    # Le pasamos la cantidad de Folds definidos (tambien puede recibir números directamente)           \n",
        "                                 )"
      ]
    },
    {
      "cell_type": "code",
      "execution_count": null,
      "metadata": {
        "colab": {
          "base_uri": "https://localhost:8080/"
        },
        "id": "KJ2L92WL4JRw",
        "outputId": "061e5f6b-cd7c-4df4-e2e7-2821989aa743"
      },
      "outputs": [
        {
          "name": "stdout",
          "output_type": "stream",
          "text": [
            "0.7421618706465372\n",
            "0.7509501698216342\n"
          ]
        }
      ],
      "source": [
        "print(kfcv_precision['train_score'].mean())\n",
        "print(kfcv_precision['test_score'].mean())"
      ]
    },
    {
      "cell_type": "markdown",
      "metadata": {
        "id": "5txqenr14O4z"
      },
      "source": [
        "En cuanto a la precision el modelo pareceria estar balanceado. Ya que la media de la precision de cada uno de los modelos analizados es muy parecida a la media de la precision de las predicciones. "
      ]
    },
    {
      "cell_type": "code",
      "execution_count": null,
      "metadata": {
        "colab": {
          "base_uri": "https://localhost:8080/"
        },
        "id": "I3z-zWdc4OhT",
        "outputId": "860f1245-c3ff-47d4-fd83-46f175b0bd0f"
      },
      "outputs": [
        {
          "name": "stdout",
          "output_type": "stream",
          "text": [
            "0.5264961107863855\n",
            "0.5322622680978017\n"
          ]
        }
      ],
      "source": [
        "kfcv_recall =  cross_validate(model,                  # Indicamos el modelo\n",
        "                              X_train,                 # Le pasamos los features de entrenamiento \n",
        "                              y_train,                 # Le pasamos la columna target de entrenamiento\n",
        "                              scoring='recall',        # Declaramos que metrica deseamos darle seguimiento\n",
        "                              return_train_score=True, # Indicamos que también queremos ver el comportamiento de la metrica en Train \n",
        "                              cv=skf                   # Le pasamos la cantidad de Folds definidos (tambien puede recibir números directamente)           \n",
        "                              )\n",
        "print(kfcv_recall['train_score'].mean())\n",
        "print(kfcv_recall['test_score'].mean())"
      ]
    },
    {
      "cell_type": "markdown",
      "metadata": {
        "id": "R_ydN6De4ilu"
      },
      "source": [
        "Para el recall tambien obtenemos resultados balanceados."
      ]
    },
    {
      "cell_type": "markdown",
      "metadata": {
        "id": "HDkdHAqU3dIm"
      },
      "source": [
        "Sin embargo, el modelo ofrece valores un tanto bajos para el recall y presicion de la variable target. Por lo que se procedera a hacer un tuneo de hiperparametros con el fin de ajustar un poco mas el modelo. "
      ]
    },
    {
      "cell_type": "markdown",
      "metadata": {
        "id": "kdi9Tjby44zj"
      },
      "source": [
        "#### Tuneo de hiperparametros"
      ]
    },
    {
      "cell_type": "markdown",
      "metadata": {
        "id": "glkAZt0H5xdu"
      },
      "source": [
        "Probamos una penalizacion L1"
      ]
    },
    {
      "cell_type": "code",
      "execution_count": null,
      "metadata": {
        "colab": {
          "base_uri": "https://localhost:8080/",
          "height": 206
        },
        "id": "MjxkMpxM5Bli",
        "outputId": "dbec59ee-4ec0-4165-f1ed-3a9810c34201"
      },
      "outputs": [
        {
          "data": {
            "text/html": [
              "\n",
              "  <div id=\"df-225a21fa-0083-4499-93d5-3c888a299694\">\n",
              "    <div class=\"colab-df-container\">\n",
              "      <div>\n",
              "<style scoped>\n",
              "    .dataframe tbody tr th:only-of-type {\n",
              "        vertical-align: middle;\n",
              "    }\n",
              "\n",
              "    .dataframe tbody tr th {\n",
              "        vertical-align: top;\n",
              "    }\n",
              "\n",
              "    .dataframe thead th {\n",
              "        text-align: right;\n",
              "    }\n",
              "</style>\n",
              "<table border=\"1\" class=\"dataframe\">\n",
              "  <thead>\n",
              "    <tr style=\"text-align: right;\">\n",
              "      <th></th>\n",
              "      <th>valor_penalización</th>\n",
              "      <th>train_presicion_mean</th>\n",
              "      <th>test_presicion_mean</th>\n",
              "    </tr>\n",
              "  </thead>\n",
              "  <tbody>\n",
              "    <tr>\n",
              "      <th>2</th>\n",
              "      <td>0.10</td>\n",
              "      <td>0.771615</td>\n",
              "      <td>0.769052</td>\n",
              "    </tr>\n",
              "    <tr>\n",
              "      <th>3</th>\n",
              "      <td>0.25</td>\n",
              "      <td>0.770326</td>\n",
              "      <td>0.768825</td>\n",
              "    </tr>\n",
              "    <tr>\n",
              "      <th>4</th>\n",
              "      <td>0.50</td>\n",
              "      <td>0.766008</td>\n",
              "      <td>0.764448</td>\n",
              "    </tr>\n",
              "    <tr>\n",
              "      <th>1</th>\n",
              "      <td>0.05</td>\n",
              "      <td>0.764573</td>\n",
              "      <td>0.758739</td>\n",
              "    </tr>\n",
              "    <tr>\n",
              "      <th>0</th>\n",
              "      <td>0.01</td>\n",
              "      <td>0.741222</td>\n",
              "      <td>0.745750</td>\n",
              "    </tr>\n",
              "  </tbody>\n",
              "</table>\n",
              "</div>\n",
              "      <button class=\"colab-df-convert\" onclick=\"convertToInteractive('df-225a21fa-0083-4499-93d5-3c888a299694')\"\n",
              "              title=\"Convert this dataframe to an interactive table.\"\n",
              "              style=\"display:none;\">\n",
              "        \n",
              "  <svg xmlns=\"http://www.w3.org/2000/svg\" height=\"24px\"viewBox=\"0 0 24 24\"\n",
              "       width=\"24px\">\n",
              "    <path d=\"M0 0h24v24H0V0z\" fill=\"none\"/>\n",
              "    <path d=\"M18.56 5.44l.94 2.06.94-2.06 2.06-.94-2.06-.94-.94-2.06-.94 2.06-2.06.94zm-11 1L8.5 8.5l.94-2.06 2.06-.94-2.06-.94L8.5 2.5l-.94 2.06-2.06.94zm10 10l.94 2.06.94-2.06 2.06-.94-2.06-.94-.94-2.06-.94 2.06-2.06.94z\"/><path d=\"M17.41 7.96l-1.37-1.37c-.4-.4-.92-.59-1.43-.59-.52 0-1.04.2-1.43.59L10.3 9.45l-7.72 7.72c-.78.78-.78 2.05 0 2.83L4 21.41c.39.39.9.59 1.41.59.51 0 1.02-.2 1.41-.59l7.78-7.78 2.81-2.81c.8-.78.8-2.07 0-2.86zM5.41 20L4 18.59l7.72-7.72 1.47 1.35L5.41 20z\"/>\n",
              "  </svg>\n",
              "      </button>\n",
              "      \n",
              "  <style>\n",
              "    .colab-df-container {\n",
              "      display:flex;\n",
              "      flex-wrap:wrap;\n",
              "      gap: 12px;\n",
              "    }\n",
              "\n",
              "    .colab-df-convert {\n",
              "      background-color: #E8F0FE;\n",
              "      border: none;\n",
              "      border-radius: 50%;\n",
              "      cursor: pointer;\n",
              "      display: none;\n",
              "      fill: #1967D2;\n",
              "      height: 32px;\n",
              "      padding: 0 0 0 0;\n",
              "      width: 32px;\n",
              "    }\n",
              "\n",
              "    .colab-df-convert:hover {\n",
              "      background-color: #E2EBFA;\n",
              "      box-shadow: 0px 1px 2px rgba(60, 64, 67, 0.3), 0px 1px 3px 1px rgba(60, 64, 67, 0.15);\n",
              "      fill: #174EA6;\n",
              "    }\n",
              "\n",
              "    [theme=dark] .colab-df-convert {\n",
              "      background-color: #3B4455;\n",
              "      fill: #D2E3FC;\n",
              "    }\n",
              "\n",
              "    [theme=dark] .colab-df-convert:hover {\n",
              "      background-color: #434B5C;\n",
              "      box-shadow: 0px 1px 3px 1px rgba(0, 0, 0, 0.15);\n",
              "      filter: drop-shadow(0px 1px 2px rgba(0, 0, 0, 0.3));\n",
              "      fill: #FFFFFF;\n",
              "    }\n",
              "  </style>\n",
              "\n",
              "      <script>\n",
              "        const buttonEl =\n",
              "          document.querySelector('#df-225a21fa-0083-4499-93d5-3c888a299694 button.colab-df-convert');\n",
              "        buttonEl.style.display =\n",
              "          google.colab.kernel.accessAllowed ? 'block' : 'none';\n",
              "\n",
              "        async function convertToInteractive(key) {\n",
              "          const element = document.querySelector('#df-225a21fa-0083-4499-93d5-3c888a299694');\n",
              "          const dataTable =\n",
              "            await google.colab.kernel.invokeFunction('convertToInteractive',\n",
              "                                                     [key], {});\n",
              "          if (!dataTable) return;\n",
              "\n",
              "          const docLinkHtml = 'Like what you see? Visit the ' +\n",
              "            '<a target=\"_blank\" href=https://colab.research.google.com/notebooks/data_table.ipynb>data table notebook</a>'\n",
              "            + ' to learn more about interactive tables.';\n",
              "          element.innerHTML = '';\n",
              "          dataTable['output_type'] = 'display_data';\n",
              "          await google.colab.output.renderOutput(dataTable, element);\n",
              "          const docLink = document.createElement('div');\n",
              "          docLink.innerHTML = docLinkHtml;\n",
              "          element.appendChild(docLink);\n",
              "        }\n",
              "      </script>\n",
              "    </div>\n",
              "  </div>\n",
              "  "
            ],
            "text/plain": [
              "   valor_penalización  train_presicion_mean  test_presicion_mean\n",
              "2                0.10              0.771615             0.769052\n",
              "3                0.25              0.770326             0.768825\n",
              "4                0.50              0.766008             0.764448\n",
              "1                0.05              0.764573             0.758739\n",
              "0                0.01              0.741222             0.745750"
            ]
          },
          "execution_count": 24,
          "metadata": {},
          "output_type": "execute_result"
        }
      ],
      "source": [
        "l1_values = [0.01, 0.05, 0.1, 0.25, 0.5]\n",
        "resultados_l1 = []\n",
        "\n",
        "for valor in l1_values:\n",
        "    logreg_l1 = LogisticRegression(C=valor, penalty=\"l1\", max_iter = 500, solver = 'liblinear') \n",
        "\n",
        "    kfcv_precision =  cross_validate(logreg_l1,              \n",
        "                                     X_train,\n",
        "                                     y_train,\n",
        "                                     scoring='precision',\n",
        "                                     return_train_score=True,\n",
        "                                     cv=skf)\n",
        "    \n",
        "    resultados_l1.append((valor, kfcv_precision['train_score'].mean(), kfcv_precision['test_score'].mean()))\n",
        "\n",
        "(pd.DataFrame(resultados_l1, columns= ['valor_penalización', 'train_presicion_mean', 'test_presicion_mean'])\n",
        ".sort_values(by='test_presicion_mean', ascending = False)\n",
        ")"
      ]
    },
    {
      "cell_type": "markdown",
      "metadata": {
        "id": "T-WX0rHQ5l6k"
      },
      "source": [
        "Por lo tanto concluimos que el mejor valor de penalización es 0,1 para mi modelo de test"
      ]
    },
    {
      "cell_type": "markdown",
      "metadata": {
        "id": "q0yr2HNH51N0"
      },
      "source": [
        "Probamos una penlaizacion L2"
      ]
    },
    {
      "cell_type": "code",
      "execution_count": null,
      "metadata": {
        "colab": {
          "base_uri": "https://localhost:8080/",
          "height": 206
        },
        "id": "zwPvRS1e54n2",
        "outputId": "ee160b44-130c-4b9e-84bd-4c9cb96d7480"
      },
      "outputs": [
        {
          "data": {
            "text/html": [
              "\n",
              "  <div id=\"df-a65b8b64-99c1-49bd-a3dd-ab4602784a29\">\n",
              "    <div class=\"colab-df-container\">\n",
              "      <div>\n",
              "<style scoped>\n",
              "    .dataframe tbody tr th:only-of-type {\n",
              "        vertical-align: middle;\n",
              "    }\n",
              "\n",
              "    .dataframe tbody tr th {\n",
              "        vertical-align: top;\n",
              "    }\n",
              "\n",
              "    .dataframe thead th {\n",
              "        text-align: right;\n",
              "    }\n",
              "</style>\n",
              "<table border=\"1\" class=\"dataframe\">\n",
              "  <thead>\n",
              "    <tr style=\"text-align: right;\">\n",
              "      <th></th>\n",
              "      <th>valor_penalización</th>\n",
              "      <th>train_presicion_mean</th>\n",
              "      <th>test_presicion_mean</th>\n",
              "    </tr>\n",
              "  </thead>\n",
              "  <tbody>\n",
              "    <tr>\n",
              "      <th>0</th>\n",
              "      <td>0.01</td>\n",
              "      <td>0.747256</td>\n",
              "      <td>0.746256</td>\n",
              "    </tr>\n",
              "    <tr>\n",
              "      <th>1</th>\n",
              "      <td>0.05</td>\n",
              "      <td>0.739168</td>\n",
              "      <td>0.741864</td>\n",
              "    </tr>\n",
              "    <tr>\n",
              "      <th>4</th>\n",
              "      <td>0.50</td>\n",
              "      <td>0.736509</td>\n",
              "      <td>0.738893</td>\n",
              "    </tr>\n",
              "    <tr>\n",
              "      <th>2</th>\n",
              "      <td>0.10</td>\n",
              "      <td>0.738013</td>\n",
              "      <td>0.738801</td>\n",
              "    </tr>\n",
              "    <tr>\n",
              "      <th>3</th>\n",
              "      <td>0.25</td>\n",
              "      <td>0.736735</td>\n",
              "      <td>0.738634</td>\n",
              "    </tr>\n",
              "  </tbody>\n",
              "</table>\n",
              "</div>\n",
              "      <button class=\"colab-df-convert\" onclick=\"convertToInteractive('df-a65b8b64-99c1-49bd-a3dd-ab4602784a29')\"\n",
              "              title=\"Convert this dataframe to an interactive table.\"\n",
              "              style=\"display:none;\">\n",
              "        \n",
              "  <svg xmlns=\"http://www.w3.org/2000/svg\" height=\"24px\"viewBox=\"0 0 24 24\"\n",
              "       width=\"24px\">\n",
              "    <path d=\"M0 0h24v24H0V0z\" fill=\"none\"/>\n",
              "    <path d=\"M18.56 5.44l.94 2.06.94-2.06 2.06-.94-2.06-.94-.94-2.06-.94 2.06-2.06.94zm-11 1L8.5 8.5l.94-2.06 2.06-.94-2.06-.94L8.5 2.5l-.94 2.06-2.06.94zm10 10l.94 2.06.94-2.06 2.06-.94-2.06-.94-.94-2.06-.94 2.06-2.06.94z\"/><path d=\"M17.41 7.96l-1.37-1.37c-.4-.4-.92-.59-1.43-.59-.52 0-1.04.2-1.43.59L10.3 9.45l-7.72 7.72c-.78.78-.78 2.05 0 2.83L4 21.41c.39.39.9.59 1.41.59.51 0 1.02-.2 1.41-.59l7.78-7.78 2.81-2.81c.8-.78.8-2.07 0-2.86zM5.41 20L4 18.59l7.72-7.72 1.47 1.35L5.41 20z\"/>\n",
              "  </svg>\n",
              "      </button>\n",
              "      \n",
              "  <style>\n",
              "    .colab-df-container {\n",
              "      display:flex;\n",
              "      flex-wrap:wrap;\n",
              "      gap: 12px;\n",
              "    }\n",
              "\n",
              "    .colab-df-convert {\n",
              "      background-color: #E8F0FE;\n",
              "      border: none;\n",
              "      border-radius: 50%;\n",
              "      cursor: pointer;\n",
              "      display: none;\n",
              "      fill: #1967D2;\n",
              "      height: 32px;\n",
              "      padding: 0 0 0 0;\n",
              "      width: 32px;\n",
              "    }\n",
              "\n",
              "    .colab-df-convert:hover {\n",
              "      background-color: #E2EBFA;\n",
              "      box-shadow: 0px 1px 2px rgba(60, 64, 67, 0.3), 0px 1px 3px 1px rgba(60, 64, 67, 0.15);\n",
              "      fill: #174EA6;\n",
              "    }\n",
              "\n",
              "    [theme=dark] .colab-df-convert {\n",
              "      background-color: #3B4455;\n",
              "      fill: #D2E3FC;\n",
              "    }\n",
              "\n",
              "    [theme=dark] .colab-df-convert:hover {\n",
              "      background-color: #434B5C;\n",
              "      box-shadow: 0px 1px 3px 1px rgba(0, 0, 0, 0.15);\n",
              "      filter: drop-shadow(0px 1px 2px rgba(0, 0, 0, 0.3));\n",
              "      fill: #FFFFFF;\n",
              "    }\n",
              "  </style>\n",
              "\n",
              "      <script>\n",
              "        const buttonEl =\n",
              "          document.querySelector('#df-a65b8b64-99c1-49bd-a3dd-ab4602784a29 button.colab-df-convert');\n",
              "        buttonEl.style.display =\n",
              "          google.colab.kernel.accessAllowed ? 'block' : 'none';\n",
              "\n",
              "        async function convertToInteractive(key) {\n",
              "          const element = document.querySelector('#df-a65b8b64-99c1-49bd-a3dd-ab4602784a29');\n",
              "          const dataTable =\n",
              "            await google.colab.kernel.invokeFunction('convertToInteractive',\n",
              "                                                     [key], {});\n",
              "          if (!dataTable) return;\n",
              "\n",
              "          const docLinkHtml = 'Like what you see? Visit the ' +\n",
              "            '<a target=\"_blank\" href=https://colab.research.google.com/notebooks/data_table.ipynb>data table notebook</a>'\n",
              "            + ' to learn more about interactive tables.';\n",
              "          element.innerHTML = '';\n",
              "          dataTable['output_type'] = 'display_data';\n",
              "          await google.colab.output.renderOutput(dataTable, element);\n",
              "          const docLink = document.createElement('div');\n",
              "          docLink.innerHTML = docLinkHtml;\n",
              "          element.appendChild(docLink);\n",
              "        }\n",
              "      </script>\n",
              "    </div>\n",
              "  </div>\n",
              "  "
            ],
            "text/plain": [
              "   valor_penalización  train_presicion_mean  test_presicion_mean\n",
              "0                0.01              0.747256             0.746256\n",
              "1                0.05              0.739168             0.741864\n",
              "4                0.50              0.736509             0.738893\n",
              "2                0.10              0.738013             0.738801\n",
              "3                0.25              0.736735             0.738634"
            ]
          },
          "execution_count": 25,
          "metadata": {},
          "output_type": "execute_result"
        }
      ],
      "source": [
        "l2_values = [0.01, 0.05, 0.1, 0.25, 0.5]\n",
        "resultados_l2 = []\n",
        "\n",
        "for valor in l2_values:\n",
        "    logreg_l2 = LogisticRegression(C=valor, penalty=\"l2\", max_iter = 500, solver = 'liblinear') \n",
        "\n",
        "    kfcv_precision =  cross_validate(logreg_l2,              \n",
        "                                     X_train,\n",
        "                                     y_train,\n",
        "                                     scoring='precision',\n",
        "                                     return_train_score=True,\n",
        "                                     cv=skf)\n",
        "    \n",
        "    resultados_l2.append((valor, kfcv_precision['train_score'].mean(), kfcv_precision['test_score'].mean()))\n",
        "\n",
        "(pd.DataFrame(resultados_l2, columns= ['valor_penalización', 'train_presicion_mean', 'test_presicion_mean'])\n",
        ".sort_values(by='test_presicion_mean', ascending = False)\n",
        ")"
      ]
    },
    {
      "cell_type": "markdown",
      "metadata": {
        "id": "wPC-kTWY6O49"
      },
      "source": [
        "La mejor penalizacion para el modelo evaluandolo segun su precision seria L1 con un valor de 0.1 "
      ]
    },
    {
      "cell_type": "markdown",
      "metadata": {
        "id": "BBt2hoK36nPx"
      },
      "source": [
        "Evaluamos ambos modelos a travez de un classification_report"
      ]
    },
    {
      "cell_type": "code",
      "execution_count": null,
      "metadata": {
        "id": "HHFJGado6sy3"
      },
      "outputs": [],
      "source": [
        "logreg_l1 = LogisticRegression(C=0.1, penalty=\"l1\", max_iter = 500, solver = 'liblinear')\n",
        "logreg_l2 = LogisticRegression(C=0.01, penalty=\"l2\", max_iter = 500, solver = 'liblinear')\n",
        "logreg_l1.fit(X_train, y_train)\n",
        "logreg_l2.fit(X_train, y_train)\n",
        "y_pred_l1 = logreg_l1.predict(X_test)\n",
        "y_pred_l2 = logreg_l2.predict(X_test)"
      ]
    },
    {
      "cell_type": "code",
      "execution_count": null,
      "metadata": {
        "colab": {
          "base_uri": "https://localhost:8080/"
        },
        "id": "bp-eDuiY65jq",
        "outputId": "f488a266-d279-4eb1-fb42-4a0d22617d43"
      },
      "outputs": [
        {
          "name": "stdout",
          "output_type": "stream",
          "text": [
            "              precision    recall  f1-score   support\n",
            "\n",
            "           0       0.91      0.97      0.94      2113\n",
            "           1       0.77      0.53      0.63       419\n",
            "\n",
            "    accuracy                           0.90      2532\n",
            "   macro avg       0.84      0.75      0.78      2532\n",
            "weighted avg       0.89      0.90      0.89      2532\n",
            "\n"
          ]
        }
      ],
      "source": [
        "#CREAMOS REPORTES L1\n",
        "print(classification_report(y_test, y_pred_l1))"
      ]
    },
    {
      "cell_type": "code",
      "execution_count": null,
      "metadata": {
        "colab": {
          "base_uri": "https://localhost:8080/"
        },
        "id": "N_dCnGOK68lW",
        "outputId": "aecf87fb-a88c-4e49-b896-561bb0037f26"
      },
      "outputs": [
        {
          "name": "stdout",
          "output_type": "stream",
          "text": [
            "              precision    recall  f1-score   support\n",
            "\n",
            "           0       0.90      0.97      0.93      2113\n",
            "           1       0.73      0.43      0.54       419\n",
            "\n",
            "    accuracy                           0.88      2532\n",
            "   macro avg       0.81      0.70      0.74      2532\n",
            "weighted avg       0.87      0.88      0.87      2532\n",
            "\n"
          ]
        }
      ],
      "source": [
        "#CREAMOS REPORTES L2\n",
        "print(classification_report(y_test, y_pred_l2))"
      ]
    },
    {
      "cell_type": "markdown",
      "metadata": {
        "id": "pkj-8QsE7Dd0"
      },
      "source": [
        "-Desde el punto de vista del recall el L1(0,53) es mejor que el L2(0,43)\n",
        "\n",
        "-Desde el punto de vista de precisión el L1(0,77) es mejor que el L2(0,73)\n",
        "\n",
        "**Por lo que utilizaremos una penalizacion L1 con un valor de 0.1**"
      ]
    },
    {
      "cell_type": "code",
      "execution_count": null,
      "metadata": {
        "colab": {
          "base_uri": "https://localhost:8080/",
          "height": 337
        },
        "id": "pgT-JJSD7WHp",
        "outputId": "fec764b2-2caa-4e76-f1a4-fe09624f6482"
      },
      "outputs": [
        {
          "data": {
            "image/png": "[encoded data removed]",
            "text/plain": [
              "<Figure size 432x288 with 2 Axes>"
            ]
          },
          "metadata": {
            "needs_background": "light"
          },
          "output_type": "display_data"
        }
      ],
      "source": [
        "cf_matrix = confusion_matrix(y_test, y_pred_l1)\n",
        "ax = sns.heatmap(cf_matrix, annot=True, cmap='Blues',fmt='.1f')\n",
        "ax.set_title('Matriz de confusion con labels\\n\\n');\n",
        "ax.set_xlabel('\\nValores predichos')\n",
        "ax.set_ylabel('Valores reales ');\n",
        "ax.xaxis.set_ticklabels(['False','True'])\n",
        "ax.yaxis.set_ticklabels(['False','True'])\n",
        "plt.show()"
      ]
    },
    {
      "cell_type": "markdown",
      "metadata": {
        "id": "ntwtcgj748mr"
      },
      "source": [
        "#### Optimizacion de hiperparametros "
      ]
    },
    {
      "cell_type": "code",
      "execution_count": null,
      "metadata": {
        "id": "F1hvM4x85GgO"
      },
      "outputs": [],
      "source": [
        "import numpy as np\n",
        "import pandas as pd\n",
        "import matplotlib.pyplot as plt\n",
        "from scipy import stats\n",
        "\n",
        "from sklearn.ensemble import (RandomForestClassifier, \n",
        "                              GradientBoostingClassifier, \n",
        "                              GradientBoostingRegressor)\n",
        "\n",
        "from sklearn.linear_model import LogisticRegression\n",
        "\n",
        "from sklearn.metrics import ( \n",
        "    accuracy_score, \n",
        "    precision_score, \n",
        "    recall_score, \n",
        "    f1_score, \n",
        "    classification_report, \n",
        "    roc_auc_score,\n",
        "    mean_squared_error)\n",
        "\n",
        "from sklearn.model_selection import (\n",
        "    KFold,\n",
        "    cross_validate,\n",
        "    train_test_split,\n",
        "    GridSearchCV,\n",
        "    RandomizedSearchCV\n",
        ")"
      ]
    },
    {
      "cell_type": "code",
      "execution_count": null,
      "metadata": {
        "id": "m_SAsvPv5iZB"
      },
      "outputs": [],
      "source": [
        "# # instanciamos un gbm\n",
        "gbm = GradientBoostingClassifier(random_state=0)\n",
        "lr = LogisticRegression(random_state=0,solver = 'liblinear')"
      ]
    },
    {
      "cell_type": "code",
      "execution_count": null,
      "metadata": {
        "id": "TMF_fAcH6Ab5"
      },
      "outputs": [],
      "source": [
        "# Creamos el espacio de hiperparametros\n",
        "param_grid = dict(\n",
        "    n_estimators=stats.randint(50, 150),\n",
        "    min_samples_split=stats.uniform(.1, .7),\n",
        "    max_depth=stats.randint(2, 15)\n",
        "    )\n",
        "param_grid_2 = dict(\n",
        "    C=stats.randint(100,1000),\n",
        "    penalty=(\"l1\",\"l2\"), \n",
        "    max_iter = stats.randint(50,500)\n",
        "    )"
      ]
    },
    {
      "cell_type": "code",
      "execution_count": null,
      "metadata": {
        "id": "lFLXSYnI6ELe"
      },
      "outputs": [],
      "source": [
        "# Create el objeto RandomizedSearchCV\n",
        "rand_gbm_search = RandomizedSearchCV(gbm,\n",
        "                                     param_grid,\n",
        "                                     scoring='precision',\n",
        "                                     cv=3,\n",
        "                                     n_iter = 40, # Con este argumento indicamos cuantas muestras queremos que sean tomadas (arriba de 40 es un bune numero)\n",
        "                                     random_state=10,\n",
        "                                     n_jobs=-1,\n",
        "                                     refit=True)"
      ]
    },
    {
      "cell_type": "code",
      "execution_count": null,
      "metadata": {
        "id": "va875etcJEDJ"
      },
      "outputs": [],
      "source": [
        "# Create el objeto RandomizedSearchCV\n",
        "rand_lr_search = RandomizedSearchCV(lr,\n",
        "                                    param_grid_2,\n",
        "                                    scoring='precision',\n",
        "                                    cv=3,\n",
        "                                    n_iter = 40, # Con este argumento indicamos cuantas muestras queremos que sean tomadas (arriba de 40 es un bune numero)\n",
        "                                    random_state=10,\n",
        "                                    n_jobs=-1,\n",
        "                                    return_train_score = True,\n",
        "                                    refit=True)"
      ]
    },
    {
      "cell_type": "code",
      "execution_count": null,
      "metadata": {
        "colab": {
          "base_uri": "https://localhost:8080/"
        },
        "id": "2N6bjth46Kqi",
        "outputId": "843c40ac-909f-4d55-aeaf-376ce0b841bc"
      },
      "outputs": [
        {
          "name": "stdout",
          "output_type": "stream",
          "text": [
            "CPU times: user 1.97 s, sys: 176 ms, total: 2.15 s\n",
            "Wall time: 1min 1s\n"
          ]
        },
        {
          "data": {
            "text/plain": [
              "RandomizedSearchCV(cv=3, estimator=GradientBoostingClassifier(random_state=0),\n",
              "                   n_iter=40, n_jobs=-1,\n",
              "                   param_distributions={'max_depth': <scipy.stats._distn_infrastructure.rv_frozen object at 0x7f32c9e27c90>,\n",
              "                                        'min_samples_split': <scipy.stats._distn_infrastructure.rv_frozen object at 0x7f32c9e27b90>,\n",
              "                                        'n_estimators': <scipy.stats._distn_infrastructure.rv_frozen object at 0x7f32c9e27950>},\n",
              "                   random_state=10, scoring='precision')"
            ]
          },
          "execution_count": 19,
          "metadata": {},
          "output_type": "execute_result"
        }
      ],
      "source": [
        "%%time\n",
        "rand_gbm_search.fit(X_train, y_train)"
      ]
    },
    {
      "cell_type": "code",
      "execution_count": null,
      "metadata": {
        "colab": {
          "base_uri": "https://localhost:8080/"
        },
        "id": "pwdHXGIQJPZ9",
        "outputId": "105090f7-87c7-4433-c406-b90f71ad4927"
      },
      "outputs": [
        {
          "name": "stdout",
          "output_type": "stream",
          "text": [
            "CPU times: user 680 ms, sys: 103 ms, total: 783 ms\n",
            "Wall time: 7.33 s\n"
          ]
        },
        {
          "data": {
            "text/plain": [
              "RandomizedSearchCV(cv=3,\n",
              "                   estimator=LogisticRegression(random_state=0,\n",
              "                                                solver='liblinear'),\n",
              "                   n_iter=40, n_jobs=-1,\n",
              "                   param_distributions={'C': <scipy.stats._distn_infrastructure.rv_frozen object at 0x7f32c7ef1c90>,\n",
              "                                        'max_iter': <scipy.stats._distn_infrastructure.rv_frozen object at 0x7f32c7ef1b90>,\n",
              "                                        'penalty': ('l1', 'l2')},\n",
              "                   random_state=10, return_train_score=True,\n",
              "                   scoring='precision')"
            ]
          },
          "execution_count": 40,
          "metadata": {},
          "output_type": "execute_result"
        }
      ],
      "source": [
        "%%time\n",
        "rand_lr_search.fit(X_train, y_train)"
      ]
    },
    {
      "cell_type": "code",
      "execution_count": null,
      "metadata": {
        "id": "yZI7PO2m6nyg"
      },
      "outputs": [],
      "source": [
        "# Usamos random_rf para generar predicciones\n",
        "y_pred = rand_gbm_search.predict(X_test)"
      ]
    },
    {
      "cell_type": "code",
      "execution_count": null,
      "metadata": {
        "id": "p4vrUcs4J2W8"
      },
      "outputs": [],
      "source": [
        "# Usamos random_rf para generar predicciones\n",
        "y_pred_2 = rand_lr_search.predict(X_test)"
      ]
    },
    {
      "cell_type": "code",
      "execution_count": null,
      "metadata": {
        "colab": {
          "base_uri": "https://localhost:8080/",
          "height": 1000
        },
        "id": "zXeC4ntlKgL-",
        "outputId": "6795375e-667c-4957-9d7b-b7728287c388"
      },
      "outputs": [
        {
          "data": {
            "text/html": [
              "\n",
              "  <div id=\"df-3a3c54f4-c088-41d1-8c43-1cf577de9299\">\n",
              "    <div class=\"colab-df-container\">\n",
              "      <div>\n",
              "<style scoped>\n",
              "    .dataframe tbody tr th:only-of-type {\n",
              "        vertical-align: middle;\n",
              "    }\n",
              "\n",
              "    .dataframe tbody tr th {\n",
              "        vertical-align: top;\n",
              "    }\n",
              "\n",
              "    .dataframe thead th {\n",
              "        text-align: right;\n",
              "    }\n",
              "</style>\n",
              "<table border=\"1\" class=\"dataframe\">\n",
              "  <thead>\n",
              "    <tr style=\"text-align: right;\">\n",
              "      <th></th>\n",
              "      <th>mean_fit_time</th>\n",
              "      <th>std_fit_time</th>\n",
              "      <th>mean_score_time</th>\n",
              "      <th>std_score_time</th>\n",
              "      <th>param_C</th>\n",
              "      <th>param_max_iter</th>\n",
              "      <th>param_penalty</th>\n",
              "      <th>params</th>\n",
              "      <th>split0_test_score</th>\n",
              "      <th>split1_test_score</th>\n",
              "      <th>split2_test_score</th>\n",
              "      <th>mean_test_score</th>\n",
              "      <th>std_test_score</th>\n",
              "      <th>rank_test_score</th>\n",
              "      <th>split0_train_score</th>\n",
              "      <th>split1_train_score</th>\n",
              "      <th>split2_train_score</th>\n",
              "      <th>mean_train_score</th>\n",
              "      <th>std_train_score</th>\n",
              "    </tr>\n",
              "  </thead>\n",
              "  <tbody>\n",
              "    <tr>\n",
              "      <th>0</th>\n",
              "      <td>0.027911</td>\n",
              "      <td>0.000138</td>\n",
              "      <td>0.005740</td>\n",
              "      <td>0.000069</td>\n",
              "      <td>365</td>\n",
              "      <td>175</td>\n",
              "      <td>l1</td>\n",
              "      <td>{'C': 365, 'max_iter': 175, 'penalty': 'l1'}</td>\n",
              "      <td>1.0</td>\n",
              "      <td>1.0</td>\n",
              "      <td>1.000000</td>\n",
              "      <td>1.000000</td>\n",
              "      <td>0.000000</td>\n",
              "      <td>1</td>\n",
              "      <td>1.0</td>\n",
              "      <td>1.0</td>\n",
              "      <td>1.000000</td>\n",
              "      <td>1.000000</td>\n",
              "      <td>0.000000</td>\n",
              "    </tr>\n",
              "    <tr>\n",
              "      <th>1</th>\n",
              "      <td>0.142982</td>\n",
              "      <td>0.003946</td>\n",
              "      <td>0.007124</td>\n",
              "      <td>0.001007</td>\n",
              "      <td>627</td>\n",
              "      <td>370</td>\n",
              "      <td>l2</td>\n",
              "      <td>{'C': 627, 'max_iter': 370, 'penalty': 'l2'}</td>\n",
              "      <td>1.0</td>\n",
              "      <td>1.0</td>\n",
              "      <td>1.000000</td>\n",
              "      <td>1.000000</td>\n",
              "      <td>0.000000</td>\n",
              "      <td>1</td>\n",
              "      <td>1.0</td>\n",
              "      <td>1.0</td>\n",
              "      <td>1.000000</td>\n",
              "      <td>1.000000</td>\n",
              "      <td>0.000000</td>\n",
              "    </tr>\n",
              "    <tr>\n",
              "      <th>2</th>\n",
              "      <td>0.136192</td>\n",
              "      <td>0.004049</td>\n",
              "      <td>0.008384</td>\n",
              "      <td>0.001723</td>\n",
              "      <td>223</td>\n",
              "      <td>206</td>\n",
              "      <td>l2</td>\n",
              "      <td>{'C': 223, 'max_iter': 206, 'penalty': 'l2'}</td>\n",
              "      <td>1.0</td>\n",
              "      <td>1.0</td>\n",
              "      <td>1.000000</td>\n",
              "      <td>1.000000</td>\n",
              "      <td>0.000000</td>\n",
              "      <td>1</td>\n",
              "      <td>1.0</td>\n",
              "      <td>1.0</td>\n",
              "      <td>1.000000</td>\n",
              "      <td>1.000000</td>\n",
              "      <td>0.000000</td>\n",
              "    </tr>\n",
              "    <tr>\n",
              "      <th>3</th>\n",
              "      <td>0.137691</td>\n",
              "      <td>0.010823</td>\n",
              "      <td>0.008195</td>\n",
              "      <td>0.003625</td>\n",
              "      <td>833</td>\n",
              "      <td>463</td>\n",
              "      <td>l2</td>\n",
              "      <td>{'C': 833, 'max_iter': 463, 'penalty': 'l2'}</td>\n",
              "      <td>1.0</td>\n",
              "      <td>1.0</td>\n",
              "      <td>1.000000</td>\n",
              "      <td>1.000000</td>\n",
              "      <td>0.000000</td>\n",
              "      <td>1</td>\n",
              "      <td>1.0</td>\n",
              "      <td>1.0</td>\n",
              "      <td>1.000000</td>\n",
              "      <td>1.000000</td>\n",
              "      <td>0.000000</td>\n",
              "    </tr>\n",
              "    <tr>\n",
              "      <th>4</th>\n",
              "      <td>0.032254</td>\n",
              "      <td>0.004622</td>\n",
              "      <td>0.005954</td>\n",
              "      <td>0.000323</td>\n",
              "      <td>108</td>\n",
              "      <td>123</td>\n",
              "      <td>l1</td>\n",
              "      <td>{'C': 108, 'max_iter': 123, 'penalty': 'l1'}</td>\n",
              "      <td>1.0</td>\n",
              "      <td>1.0</td>\n",
              "      <td>1.000000</td>\n",
              "      <td>1.000000</td>\n",
              "      <td>0.000000</td>\n",
              "      <td>1</td>\n",
              "      <td>1.0</td>\n",
              "      <td>1.0</td>\n",
              "      <td>1.000000</td>\n",
              "      <td>1.000000</td>\n",
              "      <td>0.000000</td>\n",
              "    </tr>\n",
              "    <tr>\n",
              "      <th>5</th>\n",
              "      <td>0.029243</td>\n",
              "      <td>0.002917</td>\n",
              "      <td>0.006638</td>\n",
              "      <td>0.000986</td>\n",
              "      <td>590</td>\n",
              "      <td>90</td>\n",
              "      <td>l1</td>\n",
              "      <td>{'C': 590, 'max_iter': 90, 'penalty': 'l1'}</td>\n",
              "      <td>1.0</td>\n",
              "      <td>1.0</td>\n",
              "      <td>1.000000</td>\n",
              "      <td>1.000000</td>\n",
              "      <td>0.000000</td>\n",
              "      <td>1</td>\n",
              "      <td>1.0</td>\n",
              "      <td>1.0</td>\n",
              "      <td>1.000000</td>\n",
              "      <td>1.000000</td>\n",
              "      <td>0.000000</td>\n",
              "    </tr>\n",
              "    <tr>\n",
              "      <th>6</th>\n",
              "      <td>0.027962</td>\n",
              "      <td>0.003847</td>\n",
              "      <td>0.005860</td>\n",
              "      <td>0.000240</td>\n",
              "      <td>520</td>\n",
              "      <td>421</td>\n",
              "      <td>l1</td>\n",
              "      <td>{'C': 520, 'max_iter': 421, 'penalty': 'l1'}</td>\n",
              "      <td>1.0</td>\n",
              "      <td>1.0</td>\n",
              "      <td>1.000000</td>\n",
              "      <td>1.000000</td>\n",
              "      <td>0.000000</td>\n",
              "      <td>1</td>\n",
              "      <td>1.0</td>\n",
              "      <td>1.0</td>\n",
              "      <td>1.000000</td>\n",
              "      <td>1.000000</td>\n",
              "      <td>0.000000</td>\n",
              "    </tr>\n",
              "    <tr>\n",
              "      <th>7</th>\n",
              "      <td>0.144279</td>\n",
              "      <td>0.002452</td>\n",
              "      <td>0.008818</td>\n",
              "      <td>0.003917</td>\n",
              "      <td>456</td>\n",
              "      <td>289</td>\n",
              "      <td>l2</td>\n",
              "      <td>{'C': 456, 'max_iter': 289, 'penalty': 'l2'}</td>\n",
              "      <td>1.0</td>\n",
              "      <td>1.0</td>\n",
              "      <td>1.000000</td>\n",
              "      <td>1.000000</td>\n",
              "      <td>0.000000</td>\n",
              "      <td>1</td>\n",
              "      <td>1.0</td>\n",
              "      <td>1.0</td>\n",
              "      <td>1.000000</td>\n",
              "      <td>1.000000</td>\n",
              "      <td>0.000000</td>\n",
              "    </tr>\n",
              "    <tr>\n",
              "      <th>8</th>\n",
              "      <td>0.150227</td>\n",
              "      <td>0.000896</td>\n",
              "      <td>0.005967</td>\n",
              "      <td>0.000157</td>\n",
              "      <td>154</td>\n",
              "      <td>394</td>\n",
              "      <td>l2</td>\n",
              "      <td>{'C': 154, 'max_iter': 394, 'penalty': 'l2'}</td>\n",
              "      <td>1.0</td>\n",
              "      <td>1.0</td>\n",
              "      <td>1.000000</td>\n",
              "      <td>1.000000</td>\n",
              "      <td>0.000000</td>\n",
              "      <td>1</td>\n",
              "      <td>1.0</td>\n",
              "      <td>1.0</td>\n",
              "      <td>1.000000</td>\n",
              "      <td>1.000000</td>\n",
              "      <td>0.000000</td>\n",
              "    </tr>\n",
              "    <tr>\n",
              "      <th>9</th>\n",
              "      <td>0.134731</td>\n",
              "      <td>0.016583</td>\n",
              "      <td>0.005939</td>\n",
              "      <td>0.000147</td>\n",
              "      <td>222</td>\n",
              "      <td>112</td>\n",
              "      <td>l2</td>\n",
              "      <td>{'C': 222, 'max_iter': 112, 'penalty': 'l2'}</td>\n",
              "      <td>1.0</td>\n",
              "      <td>1.0</td>\n",
              "      <td>0.956522</td>\n",
              "      <td>0.985507</td>\n",
              "      <td>0.020496</td>\n",
              "      <td>40</td>\n",
              "      <td>1.0</td>\n",
              "      <td>1.0</td>\n",
              "      <td>0.966715</td>\n",
              "      <td>0.988905</td>\n",
              "      <td>0.015691</td>\n",
              "    </tr>\n",
              "    <tr>\n",
              "      <th>10</th>\n",
              "      <td>0.027577</td>\n",
              "      <td>0.001516</td>\n",
              "      <td>0.005606</td>\n",
              "      <td>0.000362</td>\n",
              "      <td>300</td>\n",
              "      <td>406</td>\n",
              "      <td>l1</td>\n",
              "      <td>{'C': 300, 'max_iter': 406, 'penalty': 'l1'}</td>\n",
              "      <td>1.0</td>\n",
              "      <td>1.0</td>\n",
              "      <td>1.000000</td>\n",
              "      <td>1.000000</td>\n",
              "      <td>0.000000</td>\n",
              "      <td>1</td>\n",
              "      <td>1.0</td>\n",
              "      <td>1.0</td>\n",
              "      <td>1.000000</td>\n",
              "      <td>1.000000</td>\n",
              "      <td>0.000000</td>\n",
              "    </tr>\n",
              "    <tr>\n",
              "      <th>11</th>\n",
              "      <td>0.024300</td>\n",
              "      <td>0.000304</td>\n",
              "      <td>0.005536</td>\n",
              "      <td>0.000180</td>\n",
              "      <td>789</td>\n",
              "      <td>229</td>\n",
              "      <td>l1</td>\n",
              "      <td>{'C': 789, 'max_iter': 229, 'penalty': 'l1'}</td>\n",
              "      <td>1.0</td>\n",
              "      <td>1.0</td>\n",
              "      <td>1.000000</td>\n",
              "      <td>1.000000</td>\n",
              "      <td>0.000000</td>\n",
              "      <td>1</td>\n",
              "      <td>1.0</td>\n",
              "      <td>1.0</td>\n",
              "      <td>1.000000</td>\n",
              "      <td>1.000000</td>\n",
              "      <td>0.000000</td>\n",
              "    </tr>\n",
              "    <tr>\n",
              "      <th>12</th>\n",
              "      <td>0.145932</td>\n",
              "      <td>0.008981</td>\n",
              "      <td>0.005915</td>\n",
              "      <td>0.000096</td>\n",
              "      <td>177</td>\n",
              "      <td>63</td>\n",
              "      <td>l2</td>\n",
              "      <td>{'C': 177, 'max_iter': 63, 'penalty': 'l2'}</td>\n",
              "      <td>1.0</td>\n",
              "      <td>1.0</td>\n",
              "      <td>1.000000</td>\n",
              "      <td>1.000000</td>\n",
              "      <td>0.000000</td>\n",
              "      <td>1</td>\n",
              "      <td>1.0</td>\n",
              "      <td>1.0</td>\n",
              "      <td>1.000000</td>\n",
              "      <td>1.000000</td>\n",
              "      <td>0.000000</td>\n",
              "    </tr>\n",
              "    <tr>\n",
              "      <th>13</th>\n",
              "      <td>0.145605</td>\n",
              "      <td>0.003365</td>\n",
              "      <td>0.005855</td>\n",
              "      <td>0.000167</td>\n",
              "      <td>509</td>\n",
              "      <td>432</td>\n",
              "      <td>l2</td>\n",
              "      <td>{'C': 509, 'max_iter': 432, 'penalty': 'l2'}</td>\n",
              "      <td>1.0</td>\n",
              "      <td>1.0</td>\n",
              "      <td>1.000000</td>\n",
              "      <td>1.000000</td>\n",
              "      <td>0.000000</td>\n",
              "      <td>1</td>\n",
              "      <td>1.0</td>\n",
              "      <td>1.0</td>\n",
              "      <td>1.000000</td>\n",
              "      <td>1.000000</td>\n",
              "      <td>0.000000</td>\n",
              "    </tr>\n",
              "    <tr>\n",
              "      <th>14</th>\n",
              "      <td>0.026380</td>\n",
              "      <td>0.000652</td>\n",
              "      <td>0.005157</td>\n",
              "      <td>0.000009</td>\n",
              "      <td>960</td>\n",
              "      <td>392</td>\n",
              "      <td>l1</td>\n",
              "      <td>{'C': 960, 'max_iter': 392, 'penalty': 'l1'}</td>\n",
              "      <td>1.0</td>\n",
              "      <td>1.0</td>\n",
              "      <td>1.000000</td>\n",
              "      <td>1.000000</td>\n",
              "      <td>0.000000</td>\n",
              "      <td>1</td>\n",
              "      <td>1.0</td>\n",
              "      <td>1.0</td>\n",
              "      <td>1.000000</td>\n",
              "      <td>1.000000</td>\n",
              "      <td>0.000000</td>\n",
              "    </tr>\n",
              "    <tr>\n",
              "      <th>15</th>\n",
              "      <td>0.026877</td>\n",
              "      <td>0.001272</td>\n",
              "      <td>0.007350</td>\n",
              "      <td>0.002348</td>\n",
              "      <td>770</td>\n",
              "      <td>139</td>\n",
              "      <td>l1</td>\n",
              "      <td>{'C': 770, 'max_iter': 139, 'penalty': 'l1'}</td>\n",
              "      <td>1.0</td>\n",
              "      <td>1.0</td>\n",
              "      <td>1.000000</td>\n",
              "      <td>1.000000</td>\n",
              "      <td>0.000000</td>\n",
              "      <td>1</td>\n",
              "      <td>1.0</td>\n",
              "      <td>1.0</td>\n",
              "      <td>1.000000</td>\n",
              "      <td>1.000000</td>\n",
              "      <td>0.000000</td>\n",
              "    </tr>\n",
              "    <tr>\n",
              "      <th>16</th>\n",
              "      <td>0.128008</td>\n",
              "      <td>0.007105</td>\n",
              "      <td>0.005449</td>\n",
              "      <td>0.000120</td>\n",
              "      <td>421</td>\n",
              "      <td>81</td>\n",
              "      <td>l2</td>\n",
              "      <td>{'C': 421, 'max_iter': 81, 'penalty': 'l2'}</td>\n",
              "      <td>1.0</td>\n",
              "      <td>1.0</td>\n",
              "      <td>1.000000</td>\n",
              "      <td>1.000000</td>\n",
              "      <td>0.000000</td>\n",
              "      <td>1</td>\n",
              "      <td>1.0</td>\n",
              "      <td>1.0</td>\n",
              "      <td>1.000000</td>\n",
              "      <td>1.000000</td>\n",
              "      <td>0.000000</td>\n",
              "    </tr>\n",
              "    <tr>\n",
              "      <th>17</th>\n",
              "      <td>0.024894</td>\n",
              "      <td>0.000175</td>\n",
              "      <td>0.005592</td>\n",
              "      <td>0.000225</td>\n",
              "      <td>904</td>\n",
              "      <td>333</td>\n",
              "      <td>l1</td>\n",
              "      <td>{'C': 904, 'max_iter': 333, 'penalty': 'l1'}</td>\n",
              "      <td>1.0</td>\n",
              "      <td>1.0</td>\n",
              "      <td>1.000000</td>\n",
              "      <td>1.000000</td>\n",
              "      <td>0.000000</td>\n",
              "      <td>1</td>\n",
              "      <td>1.0</td>\n",
              "      <td>1.0</td>\n",
              "      <td>1.000000</td>\n",
              "      <td>1.000000</td>\n",
              "      <td>0.000000</td>\n",
              "    </tr>\n",
              "    <tr>\n",
              "      <th>18</th>\n",
              "      <td>0.024930</td>\n",
              "      <td>0.001218</td>\n",
              "      <td>0.005518</td>\n",
              "      <td>0.000104</td>\n",
              "      <td>193</td>\n",
              "      <td>127</td>\n",
              "      <td>l1</td>\n",
              "      <td>{'C': 193, 'max_iter': 127, 'penalty': 'l1'}</td>\n",
              "      <td>1.0</td>\n",
              "      <td>1.0</td>\n",
              "      <td>1.000000</td>\n",
              "      <td>1.000000</td>\n",
              "      <td>0.000000</td>\n",
              "      <td>1</td>\n",
              "      <td>1.0</td>\n",
              "      <td>1.0</td>\n",
              "      <td>1.000000</td>\n",
              "      <td>1.000000</td>\n",
              "      <td>0.000000</td>\n",
              "    </tr>\n",
              "    <tr>\n",
              "      <th>19</th>\n",
              "      <td>0.144461</td>\n",
              "      <td>0.005419</td>\n",
              "      <td>0.006533</td>\n",
              "      <td>0.000872</td>\n",
              "      <td>706</td>\n",
              "      <td>298</td>\n",
              "      <td>l2</td>\n",
              "      <td>{'C': 706, 'max_iter': 298, 'penalty': 'l2'}</td>\n",
              "      <td>1.0</td>\n",
              "      <td>1.0</td>\n",
              "      <td>1.000000</td>\n",
              "      <td>1.000000</td>\n",
              "      <td>0.000000</td>\n",
              "      <td>1</td>\n",
              "      <td>1.0</td>\n",
              "      <td>1.0</td>\n",
              "      <td>1.000000</td>\n",
              "      <td>1.000000</td>\n",
              "      <td>0.000000</td>\n",
              "    </tr>\n",
              "    <tr>\n",
              "      <th>20</th>\n",
              "      <td>0.024456</td>\n",
              "      <td>0.000752</td>\n",
              "      <td>0.005376</td>\n",
              "      <td>0.000033</td>\n",
              "      <td>768</td>\n",
              "      <td>124</td>\n",
              "      <td>l1</td>\n",
              "      <td>{'C': 768, 'max_iter': 124, 'penalty': 'l1'}</td>\n",
              "      <td>1.0</td>\n",
              "      <td>1.0</td>\n",
              "      <td>1.000000</td>\n",
              "      <td>1.000000</td>\n",
              "      <td>0.000000</td>\n",
              "      <td>1</td>\n",
              "      <td>1.0</td>\n",
              "      <td>1.0</td>\n",
              "      <td>1.000000</td>\n",
              "      <td>1.000000</td>\n",
              "      <td>0.000000</td>\n",
              "    </tr>\n",
              "    <tr>\n",
              "      <th>21</th>\n",
              "      <td>0.026249</td>\n",
              "      <td>0.001503</td>\n",
              "      <td>0.010290</td>\n",
              "      <td>0.004901</td>\n",
              "      <td>493</td>\n",
              "      <td>65</td>\n",
              "      <td>l1</td>\n",
              "      <td>{'C': 493, 'max_iter': 65, 'penalty': 'l1'}</td>\n",
              "      <td>1.0</td>\n",
              "      <td>1.0</td>\n",
              "      <td>1.000000</td>\n",
              "      <td>1.000000</td>\n",
              "      <td>0.000000</td>\n",
              "      <td>1</td>\n",
              "      <td>1.0</td>\n",
              "      <td>1.0</td>\n",
              "      <td>1.000000</td>\n",
              "      <td>1.000000</td>\n",
              "      <td>0.000000</td>\n",
              "    </tr>\n",
              "    <tr>\n",
              "      <th>22</th>\n",
              "      <td>0.141170</td>\n",
              "      <td>0.003267</td>\n",
              "      <td>0.009273</td>\n",
              "      <td>0.005133</td>\n",
              "      <td>564</td>\n",
              "      <td>168</td>\n",
              "      <td>l2</td>\n",
              "      <td>{'C': 564, 'max_iter': 168, 'penalty': 'l2'}</td>\n",
              "      <td>1.0</td>\n",
              "      <td>1.0</td>\n",
              "      <td>1.000000</td>\n",
              "      <td>1.000000</td>\n",
              "      <td>0.000000</td>\n",
              "      <td>1</td>\n",
              "      <td>1.0</td>\n",
              "      <td>1.0</td>\n",
              "      <td>1.000000</td>\n",
              "      <td>1.000000</td>\n",
              "      <td>0.000000</td>\n",
              "    </tr>\n",
              "    <tr>\n",
              "      <th>23</th>\n",
              "      <td>0.141546</td>\n",
              "      <td>0.005505</td>\n",
              "      <td>0.006092</td>\n",
              "      <td>0.000286</td>\n",
              "      <td>444</td>\n",
              "      <td>445</td>\n",
              "      <td>l2</td>\n",
              "      <td>{'C': 444, 'max_iter': 445, 'penalty': 'l2'}</td>\n",
              "      <td>1.0</td>\n",
              "      <td>1.0</td>\n",
              "      <td>1.000000</td>\n",
              "      <td>1.000000</td>\n",
              "      <td>0.000000</td>\n",
              "      <td>1</td>\n",
              "      <td>1.0</td>\n",
              "      <td>1.0</td>\n",
              "      <td>1.000000</td>\n",
              "      <td>1.000000</td>\n",
              "      <td>0.000000</td>\n",
              "    </tr>\n",
              "    <tr>\n",
              "      <th>24</th>\n",
              "      <td>0.137285</td>\n",
              "      <td>0.008971</td>\n",
              "      <td>0.005574</td>\n",
              "      <td>0.000039</td>\n",
              "      <td>530</td>\n",
              "      <td>185</td>\n",
              "      <td>l2</td>\n",
              "      <td>{'C': 530, 'max_iter': 185, 'penalty': 'l2'}</td>\n",
              "      <td>1.0</td>\n",
              "      <td>1.0</td>\n",
              "      <td>0.956647</td>\n",
              "      <td>0.985549</td>\n",
              "      <td>0.020437</td>\n",
              "      <td>39</td>\n",
              "      <td>1.0</td>\n",
              "      <td>1.0</td>\n",
              "      <td>0.969741</td>\n",
              "      <td>0.989914</td>\n",
              "      <td>0.014264</td>\n",
              "    </tr>\n",
              "    <tr>\n",
              "      <th>25</th>\n",
              "      <td>0.026035</td>\n",
              "      <td>0.001187</td>\n",
              "      <td>0.005498</td>\n",
              "      <td>0.000217</td>\n",
              "      <td>896</td>\n",
              "      <td>339</td>\n",
              "      <td>l1</td>\n",
              "      <td>{'C': 896, 'max_iter': 339, 'penalty': 'l1'}</td>\n",
              "      <td>1.0</td>\n",
              "      <td>1.0</td>\n",
              "      <td>1.000000</td>\n",
              "      <td>1.000000</td>\n",
              "      <td>0.000000</td>\n",
              "      <td>1</td>\n",
              "      <td>1.0</td>\n",
              "      <td>1.0</td>\n",
              "      <td>1.000000</td>\n",
              "      <td>1.000000</td>\n",
              "      <td>0.000000</td>\n",
              "    </tr>\n",
              "    <tr>\n",
              "      <th>26</th>\n",
              "      <td>0.030563</td>\n",
              "      <td>0.005975</td>\n",
              "      <td>0.005774</td>\n",
              "      <td>0.000247</td>\n",
              "      <td>862</td>\n",
              "      <td>402</td>\n",
              "      <td>l1</td>\n",
              "      <td>{'C': 862, 'max_iter': 402, 'penalty': 'l1'}</td>\n",
              "      <td>1.0</td>\n",
              "      <td>1.0</td>\n",
              "      <td>1.000000</td>\n",
              "      <td>1.000000</td>\n",
              "      <td>0.000000</td>\n",
              "      <td>1</td>\n",
              "      <td>1.0</td>\n",
              "      <td>1.0</td>\n",
              "      <td>1.000000</td>\n",
              "      <td>1.000000</td>\n",
              "      <td>0.000000</td>\n",
              "    </tr>\n",
              "    <tr>\n",
              "      <th>27</th>\n",
              "      <td>0.024097</td>\n",
              "      <td>0.000160</td>\n",
              "      <td>0.005420</td>\n",
              "      <td>0.000232</td>\n",
              "      <td>144</td>\n",
              "      <td>183</td>\n",
              "      <td>l1</td>\n",
              "      <td>{'C': 144, 'max_iter': 183, 'penalty': 'l1'}</td>\n",
              "      <td>1.0</td>\n",
              "      <td>1.0</td>\n",
              "      <td>1.000000</td>\n",
              "      <td>1.000000</td>\n",
              "      <td>0.000000</td>\n",
              "      <td>1</td>\n",
              "      <td>1.0</td>\n",
              "      <td>1.0</td>\n",
              "      <td>1.000000</td>\n",
              "      <td>1.000000</td>\n",
              "      <td>0.000000</td>\n",
              "    </tr>\n",
              "    <tr>\n",
              "      <th>28</th>\n",
              "      <td>0.026781</td>\n",
              "      <td>0.002433</td>\n",
              "      <td>0.005399</td>\n",
              "      <td>0.000204</td>\n",
              "      <td>171</td>\n",
              "      <td>394</td>\n",
              "      <td>l1</td>\n",
              "      <td>{'C': 171, 'max_iter': 394, 'penalty': 'l1'}</td>\n",
              "      <td>1.0</td>\n",
              "      <td>1.0</td>\n",
              "      <td>1.000000</td>\n",
              "      <td>1.000000</td>\n",
              "      <td>0.000000</td>\n",
              "      <td>1</td>\n",
              "      <td>1.0</td>\n",
              "      <td>1.0</td>\n",
              "      <td>1.000000</td>\n",
              "      <td>1.000000</td>\n",
              "      <td>0.000000</td>\n",
              "    </tr>\n",
              "    <tr>\n",
              "      <th>29</th>\n",
              "      <td>0.023332</td>\n",
              "      <td>0.000812</td>\n",
              "      <td>0.005352</td>\n",
              "      <td>0.000369</td>\n",
              "      <td>918</td>\n",
              "      <td>414</td>\n",
              "      <td>l1</td>\n",
              "      <td>{'C': 918, 'max_iter': 414, 'penalty': 'l1'}</td>\n",
              "      <td>1.0</td>\n",
              "      <td>1.0</td>\n",
              "      <td>1.000000</td>\n",
              "      <td>1.000000</td>\n",
              "      <td>0.000000</td>\n",
              "      <td>1</td>\n",
              "      <td>1.0</td>\n",
              "      <td>1.0</td>\n",
              "      <td>1.000000</td>\n",
              "      <td>1.000000</td>\n",
              "      <td>0.000000</td>\n",
              "    </tr>\n",
              "    <tr>\n",
              "      <th>30</th>\n",
              "      <td>0.147053</td>\n",
              "      <td>0.001386</td>\n",
              "      <td>0.006280</td>\n",
              "      <td>0.000315</td>\n",
              "      <td>390</td>\n",
              "      <td>410</td>\n",
              "      <td>l2</td>\n",
              "      <td>{'C': 390, 'max_iter': 410, 'penalty': 'l2'}</td>\n",
              "      <td>1.0</td>\n",
              "      <td>1.0</td>\n",
              "      <td>1.000000</td>\n",
              "      <td>1.000000</td>\n",
              "      <td>0.000000</td>\n",
              "      <td>1</td>\n",
              "      <td>1.0</td>\n",
              "      <td>1.0</td>\n",
              "      <td>1.000000</td>\n",
              "      <td>1.000000</td>\n",
              "      <td>0.000000</td>\n",
              "    </tr>\n",
              "    <tr>\n",
              "      <th>31</th>\n",
              "      <td>0.146939</td>\n",
              "      <td>0.010571</td>\n",
              "      <td>0.005914</td>\n",
              "      <td>0.000057</td>\n",
              "      <td>561</td>\n",
              "      <td>394</td>\n",
              "      <td>l2</td>\n",
              "      <td>{'C': 561, 'max_iter': 394, 'penalty': 'l2'}</td>\n",
              "      <td>1.0</td>\n",
              "      <td>1.0</td>\n",
              "      <td>1.000000</td>\n",
              "      <td>1.000000</td>\n",
              "      <td>0.000000</td>\n",
              "      <td>1</td>\n",
              "      <td>1.0</td>\n",
              "      <td>1.0</td>\n",
              "      <td>1.000000</td>\n",
              "      <td>1.000000</td>\n",
              "      <td>0.000000</td>\n",
              "    </tr>\n",
              "    <tr>\n",
              "      <th>32</th>\n",
              "      <td>0.141957</td>\n",
              "      <td>0.005452</td>\n",
              "      <td>0.005602</td>\n",
              "      <td>0.000248</td>\n",
              "      <td>234</td>\n",
              "      <td>296</td>\n",
              "      <td>l2</td>\n",
              "      <td>{'C': 234, 'max_iter': 296, 'penalty': 'l2'}</td>\n",
              "      <td>1.0</td>\n",
              "      <td>1.0</td>\n",
              "      <td>1.000000</td>\n",
              "      <td>1.000000</td>\n",
              "      <td>0.000000</td>\n",
              "      <td>1</td>\n",
              "      <td>1.0</td>\n",
              "      <td>1.0</td>\n",
              "      <td>1.000000</td>\n",
              "      <td>1.000000</td>\n",
              "      <td>0.000000</td>\n",
              "    </tr>\n",
              "    <tr>\n",
              "      <th>33</th>\n",
              "      <td>0.136806</td>\n",
              "      <td>0.007321</td>\n",
              "      <td>0.005625</td>\n",
              "      <td>0.000152</td>\n",
              "      <td>846</td>\n",
              "      <td>200</td>\n",
              "      <td>l2</td>\n",
              "      <td>{'C': 846, 'max_iter': 200, 'penalty': 'l2'}</td>\n",
              "      <td>1.0</td>\n",
              "      <td>1.0</td>\n",
              "      <td>1.000000</td>\n",
              "      <td>1.000000</td>\n",
              "      <td>0.000000</td>\n",
              "      <td>1</td>\n",
              "      <td>1.0</td>\n",
              "      <td>1.0</td>\n",
              "      <td>1.000000</td>\n",
              "      <td>1.000000</td>\n",
              "      <td>0.000000</td>\n",
              "    </tr>\n",
              "    <tr>\n",
              "      <th>34</th>\n",
              "      <td>0.026595</td>\n",
              "      <td>0.003323</td>\n",
              "      <td>0.004841</td>\n",
              "      <td>0.000057</td>\n",
              "      <td>724</td>\n",
              "      <td>318</td>\n",
              "      <td>l1</td>\n",
              "      <td>{'C': 724, 'max_iter': 318, 'penalty': 'l1'}</td>\n",
              "      <td>1.0</td>\n",
              "      <td>1.0</td>\n",
              "      <td>1.000000</td>\n",
              "      <td>1.000000</td>\n",
              "      <td>0.000000</td>\n",
              "      <td>1</td>\n",
              "      <td>1.0</td>\n",
              "      <td>1.0</td>\n",
              "      <td>1.000000</td>\n",
              "      <td>1.000000</td>\n",
              "      <td>0.000000</td>\n",
              "    </tr>\n",
              "    <tr>\n",
              "      <th>35</th>\n",
              "      <td>0.027883</td>\n",
              "      <td>0.003575</td>\n",
              "      <td>0.005669</td>\n",
              "      <td>0.000644</td>\n",
              "      <td>580</td>\n",
              "      <td>112</td>\n",
              "      <td>l1</td>\n",
              "      <td>{'C': 580, 'max_iter': 112, 'penalty': 'l1'}</td>\n",
              "      <td>1.0</td>\n",
              "      <td>1.0</td>\n",
              "      <td>1.000000</td>\n",
              "      <td>1.000000</td>\n",
              "      <td>0.000000</td>\n",
              "      <td>1</td>\n",
              "      <td>1.0</td>\n",
              "      <td>1.0</td>\n",
              "      <td>1.000000</td>\n",
              "      <td>1.000000</td>\n",
              "      <td>0.000000</td>\n",
              "    </tr>\n",
              "    <tr>\n",
              "      <th>36</th>\n",
              "      <td>0.027484</td>\n",
              "      <td>0.003523</td>\n",
              "      <td>0.005410</td>\n",
              "      <td>0.000278</td>\n",
              "      <td>285</td>\n",
              "      <td>129</td>\n",
              "      <td>l1</td>\n",
              "      <td>{'C': 285, 'max_iter': 129, 'penalty': 'l1'}</td>\n",
              "      <td>1.0</td>\n",
              "      <td>1.0</td>\n",
              "      <td>1.000000</td>\n",
              "      <td>1.000000</td>\n",
              "      <td>0.000000</td>\n",
              "      <td>1</td>\n",
              "      <td>1.0</td>\n",
              "      <td>1.0</td>\n",
              "      <td>1.000000</td>\n",
              "      <td>1.000000</td>\n",
              "      <td>0.000000</td>\n",
              "    </tr>\n",
              "    <tr>\n",
              "      <th>37</th>\n",
              "      <td>0.147332</td>\n",
              "      <td>0.005557</td>\n",
              "      <td>0.005810</td>\n",
              "      <td>0.000061</td>\n",
              "      <td>332</td>\n",
              "      <td>92</td>\n",
              "      <td>l2</td>\n",
              "      <td>{'C': 332, 'max_iter': 92, 'penalty': 'l2'}</td>\n",
              "      <td>1.0</td>\n",
              "      <td>1.0</td>\n",
              "      <td>1.000000</td>\n",
              "      <td>1.000000</td>\n",
              "      <td>0.000000</td>\n",
              "      <td>1</td>\n",
              "      <td>1.0</td>\n",
              "      <td>1.0</td>\n",
              "      <td>1.000000</td>\n",
              "      <td>1.000000</td>\n",
              "      <td>0.000000</td>\n",
              "    </tr>\n",
              "    <tr>\n",
              "      <th>38</th>\n",
              "      <td>0.144483</td>\n",
              "      <td>0.010764</td>\n",
              "      <td>0.005612</td>\n",
              "      <td>0.000201</td>\n",
              "      <td>413</td>\n",
              "      <td>285</td>\n",
              "      <td>l2</td>\n",
              "      <td>{'C': 413, 'max_iter': 285, 'penalty': 'l2'}</td>\n",
              "      <td>1.0</td>\n",
              "      <td>1.0</td>\n",
              "      <td>1.000000</td>\n",
              "      <td>1.000000</td>\n",
              "      <td>0.000000</td>\n",
              "      <td>1</td>\n",
              "      <td>1.0</td>\n",
              "      <td>1.0</td>\n",
              "      <td>1.000000</td>\n",
              "      <td>1.000000</td>\n",
              "      <td>0.000000</td>\n",
              "    </tr>\n",
              "    <tr>\n",
              "      <th>39</th>\n",
              "      <td>0.021149</td>\n",
              "      <td>0.004026</td>\n",
              "      <td>0.003996</td>\n",
              "      <td>0.000777</td>\n",
              "      <td>918</td>\n",
              "      <td>95</td>\n",
              "      <td>l1</td>\n",
              "      <td>{'C': 918, 'max_iter': 95, 'penalty': 'l1'}</td>\n",
              "      <td>1.0</td>\n",
              "      <td>1.0</td>\n",
              "      <td>1.000000</td>\n",
              "      <td>1.000000</td>\n",
              "      <td>0.000000</td>\n",
              "      <td>1</td>\n",
              "      <td>1.0</td>\n",
              "      <td>1.0</td>\n",
              "      <td>1.000000</td>\n",
              "      <td>1.000000</td>\n",
              "      <td>0.000000</td>\n",
              "    </tr>\n",
              "  </tbody>\n",
              "</table>\n",
              "</div>\n",
              "      <button class=\"colab-df-convert\" onclick=\"convertToInteractive('df-3a3c54f4-c088-41d1-8c43-1cf577de9299')\"\n",
              "              title=\"Convert this dataframe to an interactive table.\"\n",
              "              style=\"display:none;\">\n",
              "        \n",
              "  <svg xmlns=\"http://www.w3.org/2000/svg\" height=\"24px\"viewBox=\"0 0 24 24\"\n",
              "       width=\"24px\">\n",
              "    <path d=\"M0 0h24v24H0V0z\" fill=\"none\"/>\n",
              "    <path d=\"M18.56 5.44l.94 2.06.94-2.06 2.06-.94-2.06-.94-.94-2.06-.94 2.06-2.06.94zm-11 1L8.5 8.5l.94-2.06 2.06-.94-2.06-.94L8.5 2.5l-.94 2.06-2.06.94zm10 10l.94 2.06.94-2.06 2.06-.94-2.06-.94-.94-2.06-.94 2.06-2.06.94z\"/><path d=\"M17.41 7.96l-1.37-1.37c-.4-.4-.92-.59-1.43-.59-.52 0-1.04.2-1.43.59L10.3 9.45l-7.72 7.72c-.78.78-.78 2.05 0 2.83L4 21.41c.39.39.9.59 1.41.59.51 0 1.02-.2 1.41-.59l7.78-7.78 2.81-2.81c.8-.78.8-2.07 0-2.86zM5.41 20L4 18.59l7.72-7.72 1.47 1.35L5.41 20z\"/>\n",
              "  </svg>\n",
              "      </button>\n",
              "      \n",
              "  <style>\n",
              "    .colab-df-container {\n",
              "      display:flex;\n",
              "      flex-wrap:wrap;\n",
              "      gap: 12px;\n",
              "    }\n",
              "\n",
              "    .colab-df-convert {\n",
              "      background-color: #E8F0FE;\n",
              "      border: none;\n",
              "      border-radius: 50%;\n",
              "      cursor: pointer;\n",
              "      display: none;\n",
              "      fill: #1967D2;\n",
              "      height: 32px;\n",
              "      padding: 0 0 0 0;\n",
              "      width: 32px;\n",
              "    }\n",
              "\n",
              "    .colab-df-convert:hover {\n",
              "      background-color: #E2EBFA;\n",
              "      box-shadow: 0px 1px 2px rgba(60, 64, 67, 0.3), 0px 1px 3px 1px rgba(60, 64, 67, 0.15);\n",
              "      fill: #174EA6;\n",
              "    }\n",
              "\n",
              "    [theme=dark] .colab-df-convert {\n",
              "      background-color: #3B4455;\n",
              "      fill: #D2E3FC;\n",
              "    }\n",
              "\n",
              "    [theme=dark] .colab-df-convert:hover {\n",
              "      background-color: #434B5C;\n",
              "      box-shadow: 0px 1px 3px 1px rgba(0, 0, 0, 0.15);\n",
              "      filter: drop-shadow(0px 1px 2px rgba(0, 0, 0, 0.3));\n",
              "      fill: #FFFFFF;\n",
              "    }\n",
              "  </style>\n",
              "\n",
              "      <script>\n",
              "        const buttonEl =\n",
              "          document.querySelector('#df-3a3c54f4-c088-41d1-8c43-1cf577de9299 button.colab-df-convert');\n",
              "        buttonEl.style.display =\n",
              "          google.colab.kernel.accessAllowed ? 'block' : 'none';\n",
              "\n",
              "        async function convertToInteractive(key) {\n",
              "          const element = document.querySelector('#df-3a3c54f4-c088-41d1-8c43-1cf577de9299');\n",
              "          const dataTable =\n",
              "            await google.colab.kernel.invokeFunction('convertToInteractive',\n",
              "                                                     [key], {});\n",
              "          if (!dataTable) return;\n",
              "\n",
              "          const docLinkHtml = 'Like what you see? Visit the ' +\n",
              "            '<a target=\"_blank\" href=https://colab.research.google.com/notebooks/data_table.ipynb>data table notebook</a>'\n",
              "            + ' to learn more about interactive tables.';\n",
              "          element.innerHTML = '';\n",
              "          dataTable['output_type'] = 'display_data';\n",
              "          await google.colab.output.renderOutput(dataTable, element);\n",
              "          const docLink = document.createElement('div');\n",
              "          docLink.innerHTML = docLinkHtml;\n",
              "          element.appendChild(docLink);\n",
              "        }\n",
              "      </script>\n",
              "    </div>\n",
              "  </div>\n",
              "  "
            ],
            "text/plain": [
              "    mean_fit_time  std_fit_time  mean_score_time  std_score_time param_C  \\\n",
              "0        0.027911      0.000138         0.005740        0.000069     365   \n",
              "1        0.142982      0.003946         0.007124        0.001007     627   \n",
              "2        0.136192      0.004049         0.008384        0.001723     223   \n",
              "3        0.137691      0.010823         0.008195        0.003625     833   \n",
              "4        0.032254      0.004622         0.005954        0.000323     108   \n",
              "5        0.029243      0.002917         0.006638        0.000986     590   \n",
              "6        0.027962      0.003847         0.005860        0.000240     520   \n",
              "7        0.144279      0.002452         0.008818        0.003917     456   \n",
              "8        0.150227      0.000896         0.005967        0.000157     154   \n",
              "9        0.134731      0.016583         0.005939        0.000147     222   \n",
              "10       0.027577      0.001516         0.005606        0.000362     300   \n",
              "11       0.024300      0.000304         0.005536        0.000180     789   \n",
              "12       0.145932      0.008981         0.005915        0.000096     177   \n",
              "13       0.145605      0.003365         0.005855        0.000167     509   \n",
              "14       0.026380      0.000652         0.005157        0.000009     960   \n",
              "15       0.026877      0.001272         0.007350        0.002348     770   \n",
              "16       0.128008      0.007105         0.005449        0.000120     421   \n",
              "17       0.024894      0.000175         0.005592        0.000225     904   \n",
              "18       0.024930      0.001218         0.005518        0.000104     193   \n",
              "19       0.144461      0.005419         0.006533        0.000872     706   \n",
              "20       0.024456      0.000752         0.005376        0.000033     768   \n",
              "21       0.026249      0.001503         0.010290        0.004901     493   \n",
              "22       0.141170      0.003267         0.009273        0.005133     564   \n",
              "23       0.141546      0.005505         0.006092        0.000286     444   \n",
              "24       0.137285      0.008971         0.005574        0.000039     530   \n",
              "25       0.026035      0.001187         0.005498        0.000217     896   \n",
              "26       0.030563      0.005975         0.005774        0.000247     862   \n",
              "27       0.024097      0.000160         0.005420        0.000232     144   \n",
              "28       0.026781      0.002433         0.005399        0.000204     171   \n",
              "29       0.023332      0.000812         0.005352        0.000369     918   \n",
              "30       0.147053      0.001386         0.006280        0.000315     390   \n",
              "31       0.146939      0.010571         0.005914        0.000057     561   \n",
              "32       0.141957      0.005452         0.005602        0.000248     234   \n",
              "33       0.136806      0.007321         0.005625        0.000152     846   \n",
              "34       0.026595      0.003323         0.004841        0.000057     724   \n",
              "35       0.027883      0.003575         0.005669        0.000644     580   \n",
              "36       0.027484      0.003523         0.005410        0.000278     285   \n",
              "37       0.147332      0.005557         0.005810        0.000061     332   \n",
              "38       0.144483      0.010764         0.005612        0.000201     413   \n",
              "39       0.021149      0.004026         0.003996        0.000777     918   \n",
              "\n",
              "   param_max_iter param_penalty                                        params  \\\n",
              "0             175            l1  {'C': 365, 'max_iter': 175, 'penalty': 'l1'}   \n",
              "1             370            l2  {'C': 627, 'max_iter': 370, 'penalty': 'l2'}   \n",
              "2             206            l2  {'C': 223, 'max_iter': 206, 'penalty': 'l2'}   \n",
              "3             463            l2  {'C': 833, 'max_iter': 463, 'penalty': 'l2'}   \n",
              "4             123            l1  {'C': 108, 'max_iter': 123, 'penalty': 'l1'}   \n",
              "5              90            l1   {'C': 590, 'max_iter': 90, 'penalty': 'l1'}   \n",
              "6             421            l1  {'C': 520, 'max_iter': 421, 'penalty': 'l1'}   \n",
              "7             289            l2  {'C': 456, 'max_iter': 289, 'penalty': 'l2'}   \n",
              "8             394            l2  {'C': 154, 'max_iter': 394, 'penalty': 'l2'}   \n",
              "9             112            l2  {'C': 222, 'max_iter': 112, 'penalty': 'l2'}   \n",
              "10            406            l1  {'C': 300, 'max_iter': 406, 'penalty': 'l1'}   \n",
              "11            229            l1  {'C': 789, 'max_iter': 229, 'penalty': 'l1'}   \n",
              "12             63            l2   {'C': 177, 'max_iter': 63, 'penalty': 'l2'}   \n",
              "13            432            l2  {'C': 509, 'max_iter': 432, 'penalty': 'l2'}   \n",
              "14            392            l1  {'C': 960, 'max_iter': 392, 'penalty': 'l1'}   \n",
              "15            139            l1  {'C': 770, 'max_iter': 139, 'penalty': 'l1'}   \n",
              "16             81            l2   {'C': 421, 'max_iter': 81, 'penalty': 'l2'}   \n",
              "17            333            l1  {'C': 904, 'max_iter': 333, 'penalty': 'l1'}   \n",
              "18            127            l1  {'C': 193, 'max_iter': 127, 'penalty': 'l1'}   \n",
              "19            298            l2  {'C': 706, 'max_iter': 298, 'penalty': 'l2'}   \n",
              "20            124            l1  {'C': 768, 'max_iter': 124, 'penalty': 'l1'}   \n",
              "21             65            l1   {'C': 493, 'max_iter': 65, 'penalty': 'l1'}   \n",
              "22            168            l2  {'C': 564, 'max_iter': 168, 'penalty': 'l2'}   \n",
              "23            445            l2  {'C': 444, 'max_iter': 445, 'penalty': 'l2'}   \n",
              "24            185            l2  {'C': 530, 'max_iter': 185, 'penalty': 'l2'}   \n",
              "25            339            l1  {'C': 896, 'max_iter': 339, 'penalty': 'l1'}   \n",
              "26            402            l1  {'C': 862, 'max_iter': 402, 'penalty': 'l1'}   \n",
              "27            183            l1  {'C': 144, 'max_iter': 183, 'penalty': 'l1'}   \n",
              "28            394            l1  {'C': 171, 'max_iter': 394, 'penalty': 'l1'}   \n",
              "29            414            l1  {'C': 918, 'max_iter': 414, 'penalty': 'l1'}   \n",
              "30            410            l2  {'C': 390, 'max_iter': 410, 'penalty': 'l2'}   \n",
              "31            394            l2  {'C': 561, 'max_iter': 394, 'penalty': 'l2'}   \n",
              "32            296            l2  {'C': 234, 'max_iter': 296, 'penalty': 'l2'}   \n",
              "33            200            l2  {'C': 846, 'max_iter': 200, 'penalty': 'l2'}   \n",
              "34            318            l1  {'C': 724, 'max_iter': 318, 'penalty': 'l1'}   \n",
              "35            112            l1  {'C': 580, 'max_iter': 112, 'penalty': 'l1'}   \n",
              "36            129            l1  {'C': 285, 'max_iter': 129, 'penalty': 'l1'}   \n",
              "37             92            l2   {'C': 332, 'max_iter': 92, 'penalty': 'l2'}   \n",
              "38            285            l2  {'C': 413, 'max_iter': 285, 'penalty': 'l2'}   \n",
              "39             95            l1   {'C': 918, 'max_iter': 95, 'penalty': 'l1'}   \n",
              "\n",
              "    split0_test_score  split1_test_score  split2_test_score  mean_test_score  \\\n",
              "0                 1.0                1.0           1.000000         1.000000   \n",
              "1                 1.0                1.0           1.000000         1.000000   \n",
              "2                 1.0                1.0           1.000000         1.000000   \n",
              "3                 1.0                1.0           1.000000         1.000000   \n",
              "4                 1.0                1.0           1.000000         1.000000   \n",
              "5                 1.0                1.0           1.000000         1.000000   \n",
              "6                 1.0                1.0           1.000000         1.000000   \n",
              "7                 1.0                1.0           1.000000         1.000000   \n",
              "8                 1.0                1.0           1.000000         1.000000   \n",
              "9                 1.0                1.0           0.956522         0.985507   \n",
              "10                1.0                1.0           1.000000         1.000000   \n",
              "11                1.0                1.0           1.000000         1.000000   \n",
              "12                1.0                1.0           1.000000         1.000000   \n",
              "13                1.0                1.0           1.000000         1.000000   \n",
              "14                1.0                1.0           1.000000         1.000000   \n",
              "15                1.0                1.0           1.000000         1.000000   \n",
              "16                1.0                1.0           1.000000         1.000000   \n",
              "17                1.0                1.0           1.000000         1.000000   \n",
              "18                1.0                1.0           1.000000         1.000000   \n",
              "19                1.0                1.0           1.000000         1.000000   \n",
              "20                1.0                1.0           1.000000         1.000000   \n",
              "21                1.0                1.0           1.000000         1.000000   \n",
              "22                1.0                1.0           1.000000         1.000000   \n",
              "23                1.0                1.0           1.000000         1.000000   \n",
              "24                1.0                1.0           0.956647         0.985549   \n",
              "25                1.0                1.0           1.000000         1.000000   \n",
              "26                1.0                1.0           1.000000         1.000000   \n",
              "27                1.0                1.0           1.000000         1.000000   \n",
              "28                1.0                1.0           1.000000         1.000000   \n",
              "29                1.0                1.0           1.000000         1.000000   \n",
              "30                1.0                1.0           1.000000         1.000000   \n",
              "31                1.0                1.0           1.000000         1.000000   \n",
              "32                1.0                1.0           1.000000         1.000000   \n",
              "33                1.0                1.0           1.000000         1.000000   \n",
              "34                1.0                1.0           1.000000         1.000000   \n",
              "35                1.0                1.0           1.000000         1.000000   \n",
              "36                1.0                1.0           1.000000         1.000000   \n",
              "37                1.0                1.0           1.000000         1.000000   \n",
              "38                1.0                1.0           1.000000         1.000000   \n",
              "39                1.0                1.0           1.000000         1.000000   \n",
              "\n",
              "    std_test_score  rank_test_score  split0_train_score  split1_train_score  \\\n",
              "0         0.000000                1                 1.0                 1.0   \n",
              "1         0.000000                1                 1.0                 1.0   \n",
              "2         0.000000                1                 1.0                 1.0   \n",
              "3         0.000000                1                 1.0                 1.0   \n",
              "4         0.000000                1                 1.0                 1.0   \n",
              "5         0.000000                1                 1.0                 1.0   \n",
              "6         0.000000                1                 1.0                 1.0   \n",
              "7         0.000000                1                 1.0                 1.0   \n",
              "8         0.000000                1                 1.0                 1.0   \n",
              "9         0.020496               40                 1.0                 1.0   \n",
              "10        0.000000                1                 1.0                 1.0   \n",
              "11        0.000000                1                 1.0                 1.0   \n",
              "12        0.000000                1                 1.0                 1.0   \n",
              "13        0.000000                1                 1.0                 1.0   \n",
              "14        0.000000                1                 1.0                 1.0   \n",
              "15        0.000000                1                 1.0                 1.0   \n",
              "16        0.000000                1                 1.0                 1.0   \n",
              "17        0.000000                1                 1.0                 1.0   \n",
              "18        0.000000                1                 1.0                 1.0   \n",
              "19        0.000000                1                 1.0                 1.0   \n",
              "20        0.000000                1                 1.0                 1.0   \n",
              "21        0.000000                1                 1.0                 1.0   \n",
              "22        0.000000                1                 1.0                 1.0   \n",
              "23        0.000000                1                 1.0                 1.0   \n",
              "24        0.020437               39                 1.0                 1.0   \n",
              "25        0.000000                1                 1.0                 1.0   \n",
              "26        0.000000                1                 1.0                 1.0   \n",
              "27        0.000000                1                 1.0                 1.0   \n",
              "28        0.000000                1                 1.0                 1.0   \n",
              "29        0.000000                1                 1.0                 1.0   \n",
              "30        0.000000                1                 1.0                 1.0   \n",
              "31        0.000000                1                 1.0                 1.0   \n",
              "32        0.000000                1                 1.0                 1.0   \n",
              "33        0.000000                1                 1.0                 1.0   \n",
              "34        0.000000                1                 1.0                 1.0   \n",
              "35        0.000000                1                 1.0                 1.0   \n",
              "36        0.000000                1                 1.0                 1.0   \n",
              "37        0.000000                1                 1.0                 1.0   \n",
              "38        0.000000                1                 1.0                 1.0   \n",
              "39        0.000000                1                 1.0                 1.0   \n",
              "\n",
              "    split2_train_score  mean_train_score  std_train_score  \n",
              "0             1.000000          1.000000         0.000000  \n",
              "1             1.000000          1.000000         0.000000  \n",
              "2             1.000000          1.000000         0.000000  \n",
              "3             1.000000          1.000000         0.000000  \n",
              "4             1.000000          1.000000         0.000000  \n",
              "5             1.000000          1.000000         0.000000  \n",
              "6             1.000000          1.000000         0.000000  \n",
              "7             1.000000          1.000000         0.000000  \n",
              "8             1.000000          1.000000         0.000000  \n",
              "9             0.966715          0.988905         0.015691  \n",
              "10            1.000000          1.000000         0.000000  \n",
              "11            1.000000          1.000000         0.000000  \n",
              "12            1.000000          1.000000         0.000000  \n",
              "13            1.000000          1.000000         0.000000  \n",
              "14            1.000000          1.000000         0.000000  \n",
              "15            1.000000          1.000000         0.000000  \n",
              "16            1.000000          1.000000         0.000000  \n",
              "17            1.000000          1.000000         0.000000  \n",
              "18            1.000000          1.000000         0.000000  \n",
              "19            1.000000          1.000000         0.000000  \n",
              "20            1.000000          1.000000         0.000000  \n",
              "21            1.000000          1.000000         0.000000  \n",
              "22            1.000000          1.000000         0.000000  \n",
              "23            1.000000          1.000000         0.000000  \n",
              "24            0.969741          0.989914         0.014264  \n",
              "25            1.000000          1.000000         0.000000  \n",
              "26            1.000000          1.000000         0.000000  \n",
              "27            1.000000          1.000000         0.000000  \n",
              "28            1.000000          1.000000         0.000000  \n",
              "29            1.000000          1.000000         0.000000  \n",
              "30            1.000000          1.000000         0.000000  \n",
              "31            1.000000          1.000000         0.000000  \n",
              "32            1.000000          1.000000         0.000000  \n",
              "33            1.000000          1.000000         0.000000  \n",
              "34            1.000000          1.000000         0.000000  \n",
              "35            1.000000          1.000000         0.000000  \n",
              "36            1.000000          1.000000         0.000000  \n",
              "37            1.000000          1.000000         0.000000  \n",
              "38            1.000000          1.000000         0.000000  \n",
              "39            1.000000          1.000000         0.000000  "
            ]
          },
          "execution_count": 52,
          "metadata": {},
          "output_type": "execute_result"
        }
      ],
      "source": [
        "pd.DataFrame(rand_lr_search.cv_results_)"
      ]
    },
    {
      "cell_type": "code",
      "execution_count": null,
      "metadata": {
        "colab": {
          "base_uri": "https://localhost:8080/"
        },
        "id": "1FXkkUC76p5H",
        "outputId": "eeaf2871-0421-48bf-9fca-cbdfc01e0436"
      },
      "outputs": [
        {
          "name": "stdout",
          "output_type": "stream",
          "text": [
            "              precision    recall  f1-score   support\n",
            "\n",
            "           0       1.00      1.00      1.00      2113\n",
            "           1       1.00      1.00      1.00       419\n",
            "\n",
            "    accuracy                           1.00      2532\n",
            "   macro avg       1.00      1.00      1.00      2532\n",
            "weighted avg       1.00      1.00      1.00      2532\n",
            "\n",
            "------------------------------\n",
            "1.0\n"
          ]
        }
      ],
      "source": [
        "print(classification_report(y_test, y_pred))\n",
        "print('-'*30)\n",
        "print(roc_auc_score(y_test, y_pred))"
      ]
    },
    {
      "cell_type": "code",
      "execution_count": null,
      "metadata": {
        "colab": {
          "base_uri": "https://localhost:8080/"
        },
        "id": "lOXcbQlNJ8fU",
        "outputId": "8af45967-899a-48a9-ad80-8d64d6e998b7"
      },
      "outputs": [
        {
          "name": "stdout",
          "output_type": "stream",
          "text": [
            "              precision    recall  f1-score   support\n",
            "\n",
            "           0       1.00      1.00      1.00      2113\n",
            "           1       1.00      1.00      1.00       419\n",
            "\n",
            "    accuracy                           1.00      2532\n",
            "   macro avg       1.00      1.00      1.00      2532\n",
            "weighted avg       1.00      1.00      1.00      2532\n",
            "\n",
            "------------------------------\n",
            "1.0\n"
          ]
        }
      ],
      "source": [
        "print(classification_report(y_test, y_pred_2))\n",
        "print('-'*30)\n",
        "print(roc_auc_score(y_test, y_pred_2))"
      ]
    },
    {
      "cell_type": "code",
      "execution_count": null,
      "metadata": {
        "colab": {
          "base_uri": "https://localhost:8080/"
        },
        "id": "uO-WA-dS6vBE",
        "outputId": "df8da18d-c3a3-468a-9a1f-c5fb69915e68"
      },
      "outputs": [
        {
          "name": "stdout",
          "output_type": "stream",
          "text": [
            "{'max_depth': 11, 'min_samples_split': 0.3091328063199398, 'n_estimators': 65}\n"
          ]
        }
      ],
      "source": [
        "print(rand_gbm_search.best_params_)"
      ]
    },
    {
      "cell_type": "code",
      "execution_count": null,
      "metadata": {
        "colab": {
          "base_uri": "https://localhost:8080/"
        },
        "id": "fTFmeBwvKBRN",
        "outputId": "77e94fca-18ea-406f-fce1-e039edb26a99"
      },
      "outputs": [
        {
          "name": "stdout",
          "output_type": "stream",
          "text": [
            "{'C': 365, 'max_iter': 175, 'penalty': 'l1'}\n"
          ]
        }
      ],
      "source": [
        "print(rand_lr_search.best_params_)"
      ]
    },
    {
      "cell_type": "markdown",
      "metadata": {
        "id": "YWJqWPxYVp73"
      },
      "source": [
        "### Prueba 3: KNN\n",
        "\n",
        "Se aplica modelo KNN sobre los datos anteriores"
      ]
    },
    {
      "cell_type": "code",
      "execution_count": null,
      "metadata": {
        "colab": {
          "base_uri": "https://localhost:8080/"
        },
        "id": "HUh1L-PvVxqe",
        "outputId": "d51dea73-1019-400b-d6dc-e311a1f10c26"
      },
      "outputs": [
        {
          "name": "stdout",
          "output_type": "stream",
          "text": [
            "0.8811216429699842\n"
          ]
        }
      ],
      "source": [
        "from sklearn.neighbors import KNeighborsClassifier\n",
        "knn = KNeighborsClassifier(n_neighbors=9) # Instanciamos el clasificador k veces es decir k vecinos cercanos\n",
        "knn.fit(X_train, y_train)\n",
        "predicciones_knn = knn.predict(X_test)\n",
        "print(accuracy_score(y_test, predicciones_knn))"
      ]
    },
    {
      "cell_type": "code",
      "execution_count": null,
      "metadata": {
        "colab": {
          "base_uri": "https://localhost:8080/",
          "height": 337
        },
        "id": "tNJE45aDVz-Q",
        "outputId": "81b742ef-37a3-481d-abf2-9638c1e1d26d"
      },
      "outputs": [
        {
          "data": {
            "image/png": "[encoded data removed]",
            "text/plain": [
              "<Figure size 432x288 with 2 Axes>"
            ]
          },
          "metadata": {
            "needs_background": "light"
          },
          "output_type": "display_data"
        }
      ],
      "source": [
        "#Matriz de confusion\n",
        "cf_matrix = confusion_matrix(y_test, predicciones_knn)\n",
        "import seaborn as sns\n",
        "ax = sns.heatmap(cf_matrix, annot=True,cmap='Blues',fmt='.1f')\n",
        "ax.set_title('Matriz de confusion con labels\\n\\n');\n",
        "ax.set_xlabel('\\nValores predichos')\n",
        "ax.set_ylabel('Valores reales ');\n",
        "## Ticket labels - En orden alfabetico\n",
        "ax.xaxis.set_ticklabels(['False','True'])\n",
        "ax.yaxis.set_ticklabels(['False','True'])\n",
        "plt.show()"
      ]
    },
    {
      "cell_type": "code",
      "execution_count": null,
      "metadata": {
        "colab": {
          "base_uri": "https://localhost:8080/"
        },
        "id": "K_G-vbYhV5lA",
        "outputId": "58a0b14a-eb74-4773-db34-aab99c42d081"
      },
      "outputs": [
        {
          "name": "stdout",
          "output_type": "stream",
          "text": [
            "accuracy_score\n",
            " 0.8906003159557662\n",
            "recall_score\n",
            " 0.49403341288782815\n",
            "precision_score\n",
            " 0.7610294117647058\n",
            "f1_score\n",
            " 0.5991316931982634\n",
            "\n",
            "\n",
            "classification_report\n",
            "\n",
            "               precision    recall  f1-score   support\n",
            "\n",
            "           0       0.91      0.97      0.94      2113\n",
            "           1       0.76      0.49      0.60       419\n",
            "\n",
            "    accuracy                           0.89      2532\n",
            "   macro avg       0.83      0.73      0.77      2532\n",
            "weighted avg       0.88      0.89      0.88      2532\n",
            "\n"
          ]
        }
      ],
      "source": [
        "print('accuracy_score\\n',accuracy_score(y_test, predicciones))\n",
        "print('recall_score\\n',recall_score(y_test, predicciones))\n",
        "print('precision_score\\n',precision_score(y_test, predicciones))\n",
        "print('f1_score\\n',f1_score(y_test, predicciones))\n",
        "print('\\n\\nclassification_report\\n\\n',classification_report(y_test, predicciones))"
      ]
    },
    {
      "cell_type": "markdown",
      "metadata": {
        "id": "iGpvxsVd7pBD"
      },
      "source": [
        "### Prueba4: RandomForestClassifier"
      ]
    },
    {
      "cell_type": "markdown",
      "metadata": {
        "id": "KaXDmclz76Js"
      },
      "source": [
        "Info consultada para usar RandomForestClassifier\n",
        "\n",
        "https://scikit-learn.org/stable/modules/generated/sklearn.ensemble.RandomForestClassifier.html\n",
        "\n",
        "https://scikit-learn.org/stable/modules/generated/sklearn.model_selection.HalvingRandomSearchCV.html#sklearn.model_selection.HalvingRandomSearchCV\n",
        "\n",
        "https://scikit-learn.org/stable/modules/generated/sklearn.model_selection.HalvingGridSearchCV.html#sklearn.model_selection.HalvingGridSearchCV"
      ]
    },
    {
      "cell_type": "code",
      "execution_count": null,
      "metadata": {
        "id": "R59m6lyT7ubA"
      },
      "outputs": [],
      "source": [
        "from sklearn.ensemble import RandomForestClassifier\n",
        "\n",
        "clf = RandomForestClassifier(n_estimators = 100,\n",
        "                             max_depth=5, \n",
        "                             random_state=0,\n",
        "                             criterion = 'gini')\n",
        "clf.fit(X_train, y_train)\n",
        "y_pred_RFC = clf.predict(X_test)"
      ]
    },
    {
      "cell_type": "code",
      "execution_count": null,
      "metadata": {
        "colab": {
          "base_uri": "https://localhost:8080/"
        },
        "id": "EbR3VD0r8Zk1",
        "outputId": "1426b0f6-1654-4278-ac96-3f71c4b88675"
      },
      "outputs": [
        {
          "name": "stdout",
          "output_type": "stream",
          "text": [
            "accuracy_score\n",
            " 0.9036334913112164\n",
            "recall_score\n",
            " 0.45584725536992843\n",
            "precision_score\n",
            " 0.9227053140096618\n",
            "f1_score\n",
            " 0.610223642172524\n"
          ]
        }
      ],
      "source": [
        "print('accuracy_score\\n',accuracy_score(y_test, y_pred_RFC))\n",
        "print('recall_score\\n',recall_score(y_test, y_pred_RFC))\n",
        "print('precision_score\\n',precision_score(y_test, y_pred_RFC))\n",
        "print('f1_score\\n',f1_score(y_test, y_pred_RFC))"
      ]
    },
    {
      "cell_type": "markdown",
      "metadata": {
        "id": "LIgm2eBc80Pd"
      },
      "source": [
        "Las metricas observadas son bastante buenas comparadas con la regresion logistica. Se procedera a hacer una validacion cruzada para corroborar el ajuste del modelo"
      ]
    },
    {
      "cell_type": "code",
      "execution_count": null,
      "metadata": {
        "colab": {
          "base_uri": "https://localhost:8080/"
        },
        "id": "5GJz6bYg8cub",
        "outputId": "3b912bb5-48fe-4b94-8b54-15aedfd23b7d"
      },
      "outputs": [
        {
          "name": "stdout",
          "output_type": "stream",
          "text": [
            "0.9202755102570819\n",
            "0.8849056514531795\n"
          ]
        }
      ],
      "source": [
        "skf = StratifiedKFold(n_splits=5,\n",
        "                      shuffle=True, \n",
        "                      random_state=4)\n",
        "\n",
        "kfcv_precision =  cross_validate(clf,                   # Indicamos el modelo\n",
        "                                 X_train,                  # Le pasamos los features de entrenamiento \n",
        "                                 y_train,                  # Le pasamos la columna target de entrenamiento\n",
        "                                 scoring='precision',      # Declaramos que metrica deseamos darle seguimiento\n",
        "                                 return_train_score=True,  # Indicamos que también queremos ver el comportamiento de la metrica en Train \n",
        "                                 cv=skf                    # Le pasamos la cantidad de Folds definidos (tambien puede recibir números directamente)           \n",
        "                                 )\n",
        "\n",
        "print(kfcv_precision['train_score'].mean())\n",
        "print(kfcv_precision['test_score'].mean())"
      ]
    },
    {
      "cell_type": "code",
      "execution_count": null,
      "metadata": {
        "colab": {
          "base_uri": "https://localhost:8080/"
        },
        "id": "tyXdyCPz9D44",
        "outputId": "3a9f7fe5-00ec-48c9-d1c3-074aa452c475"
      },
      "outputs": [
        {
          "name": "stdout",
          "output_type": "stream",
          "text": [
            "0.5575335983950704\n",
            "0.5148760330578511\n"
          ]
        }
      ],
      "source": [
        "skf = StratifiedKFold(n_splits=5,\n",
        "                      shuffle=True, \n",
        "                      random_state=4)\n",
        "\n",
        "kfcv_precision =  cross_validate(clf,                   # Indicamos el modelo\n",
        "                                 X_train,                  # Le pasamos los features de entrenamiento \n",
        "                                 y_train,                  # Le pasamos la columna target de entrenamiento\n",
        "                                 scoring='recall',      # Declaramos que metrica deseamos darle seguimiento\n",
        "                                 return_train_score=True,  # Indicamos que también queremos ver el comportamiento de la metrica en Train \n",
        "                                 cv=skf                    # Le pasamos la cantidad de Folds definidos (tambien puede recibir números directamente)           \n",
        "                                 )\n",
        "\n",
        "print(kfcv_precision['train_score'].mean())\n",
        "print(kfcv_precision['test_score'].mean())"
      ]
    },
    {
      "cell_type": "markdown",
      "metadata": {
        "id": "MYiYBhRL9bFX"
      },
      "source": [
        "#### Tuneo de hiperparametros"
      ]
    },
    {
      "cell_type": "markdown",
      "metadata": {
        "id": "u2QvmBIH9cXF"
      },
      "source": [
        "Leyendo la bibliografica de sklearn encontramos diferentes metodos para encontrar los mejores hiperparametos para un modelo RandomForestClasifier"
      ]
    },
    {
      "cell_type": "markdown",
      "metadata": {
        "id": "AJ_0N3kg9qwY"
      },
      "source": [
        "**HalvingGridSearchCV**"
      ]
    },
    {
      "cell_type": "code",
      "execution_count": null,
      "metadata": {
        "id": "qlQfHbAb9wZb"
      },
      "outputs": [],
      "source": [
        "from sklearn.experimental import enable_halving_search_cv  # noqa\n",
        "from sklearn.model_selection import HalvingGridSearchCV"
      ]
    },
    {
      "cell_type": "markdown",
      "metadata": {
        "id": "NQkNfM-R-Ubp"
      },
      "source": [
        "Este metodo es intensivo en recursos, Lo que hace en el caso planteado a continuacion es hacer una validacion cruzada, probando con todos los parametros ubicados en la param_grid. min_samples_split 5 o 10 y max_depth 3, 10 o 20.\n",
        "\n",
        "Ademas el valor que modificara para intentar maximizar el scoring seleccionado sera el n_estimators, cuyo valor maximo podria llegar a 800 segun se establecio en max_resources."
      ]
    },
    {
      "cell_type": "code",
      "execution_count": null,
      "metadata": {
        "colab": {
          "base_uri": "https://localhost:8080/"
        },
        "id": "YqVVX5vS9y3K",
        "outputId": "bb8747b1-197d-45d6-cfe1-8524609328d4"
      },
      "outputs": [
        {
          "data": {
            "text/plain": [
              "{'max_depth': 20, 'min_samples_split': 5, 'n_estimators': 798}"
            ]
          },
          "execution_count": 38,
          "metadata": {},
          "output_type": "execute_result"
        }
      ],
      "source": [
        "clf = RandomForestClassifier(random_state=0,\n",
        "                             criterion = 'gini')\n",
        "\n",
        "param_grid = {\"min_samples_split\": [5, 10],\n",
        "              'max_depth':[3,10,20]}\n",
        "search = HalvingGridSearchCV(clf, param_grid, \n",
        "                             resource='n_estimators',  # Este es el recurso que modificara para maximizar el scoring del modelo \n",
        "                             max_resources=800,      # Este es el valor maximo que puede tomar este recurso\n",
        "                             random_state=0,\n",
        "                             cv = 3,                # Usa CrossValidation con (Stratified)KFold\n",
        "                             scoring = 'precision').fit(X_train, y_train)\n",
        "search.best_params_ "
      ]
    },
    {
      "cell_type": "markdown",
      "metadata": {
        "id": "p57YInnw-1LS"
      },
      "source": [
        "el resultado arrojado fue el siguiente\n",
        "\n",
        "{'max_depth': 20, 'min_samples_split': 5, 'n_estimators': 798} \n",
        "\n",
        "Es decir que tomo el valor maximo en max_depth, tomo el minimo en min_samples_split y escogio un valor de n_estimators = 798.\n",
        "\n",
        "Estos valores los cargaremos en nuestro nuevo modelo de RFC para observar los resultados.\n"
      ]
    },
    {
      "cell_type": "code",
      "execution_count": null,
      "metadata": {
        "id": "S5TzG-_b-SLm"
      },
      "outputs": [],
      "source": [
        "clf_2 = RandomForestClassifier(n_estimators = 798,\n",
        "                             max_depth=20 , \n",
        "                             random_state=0,\n",
        "                             min_samples_split = 5,\n",
        "                             criterion = 'gini')\n",
        "clf_2.fit(X_train, y_train)\n",
        "y_pred_RFC_2 = clf_2.predict(X_test)"
      ]
    },
    {
      "cell_type": "code",
      "execution_count": null,
      "metadata": {
        "colab": {
          "base_uri": "https://localhost:8080/"
        },
        "id": "QeSQUbuL_dVw",
        "outputId": "2cf58124-cb87-44c6-acb9-ce6e83d94eb6"
      },
      "outputs": [
        {
          "name": "stdout",
          "output_type": "stream",
          "text": [
            "accuracy_score new       accuracy_score old\n",
            " 0.9518167456556083      0.9036334913112164\n",
            "recall_score new         recall_score old\n",
            " 0.7589498806682577      0.45584725536992843\n",
            "precision_score new      precision_score old\n",
            " 0.9380530973451328      0.9227053140096618\n",
            "f1_score new             f1_score old\n",
            " 0.8390501319261213      0.610223642172524\n"
          ]
        }
      ],
      "source": [
        "print('accuracy_score new       accuracy_score old\\n',accuracy_score(y_test, y_pred_RFC_2) ,'    ', accuracy_score(y_test, y_pred_RFC))\n",
        "print('recall_score new         recall_score old\\n',recall_score(y_test, y_pred_RFC_2),'    ',recall_score(y_test, y_pred_RFC))\n",
        "print('precision_score new      precision_score old\\n',precision_score(y_test, y_pred_RFC_2),'    ',precision_score(y_test, y_pred_RFC))\n",
        "print('f1_score new             f1_score old\\n',f1_score(y_test, y_pred_RFC_2),'    ',f1_score(y_test, y_pred_RFC))"
      ]
    },
    {
      "cell_type": "markdown",
      "metadata": {
        "id": "AAPLIZtOAhbC"
      },
      "source": [
        "Como podemos observar todas las metricas mejoran notablemente en el modelo ajustado. \n",
        "\n",
        "Por lo que se tomara como base para hacer un analisis los siguientes hiperparametros \n",
        "\n",
        "n_estimators = 798,\n",
        "                             max_depth=20 , \n",
        "                             random_state=0,\n",
        "                             min_samples_split = 5,\n",
        "                             criterion = 'gini'"
      ]
    },
    {
      "cell_type": "code",
      "execution_count": null,
      "metadata": {
        "colab": {
          "base_uri": "https://localhost:8080/",
          "height": 337
        },
        "id": "VsVLFk2QA-Wf",
        "outputId": "0f735b11-56ea-456c-d976-5a1080f1526e"
      },
      "outputs": [
        {
          "data": {
            "image/png": "[encoded data removed]",
            "text/plain": [
              "<Figure size 432x288 with 2 Axes>"
            ]
          },
          "metadata": {
            "needs_background": "light"
          },
          "output_type": "display_data"
        }
      ],
      "source": [
        "cf_matrix = confusion_matrix(y_test, y_pred_RFC_2)\n",
        "ax = sns.heatmap(cf_matrix, annot=True, cmap='Blues',fmt='.1f')\n",
        "ax.set_title('Matriz de confusion con labels\\n\\n');\n",
        "ax.set_xlabel('\\nValores predichos')\n",
        "ax.set_ylabel('Valores reales ');\n",
        "ax.xaxis.set_ticklabels(['False','True'])\n",
        "ax.yaxis.set_ticklabels(['False','True'])\n",
        "plt.show()"
      ]
    },
    {
      "cell_type": "markdown",
      "metadata": {
        "id": "WKsiOsctJf4b"
      },
      "source": [
        "### Comparacion de los mejores modelos"
      ]
    },
    {
      "cell_type": "markdown",
      "metadata": {
        "id": "QP0_cgn2JkX8"
      },
      "source": [
        "Comparamos las metricas de los dos mejores modelos analizados. LogisticRegression y RandomForestClassifier"
      ]
    },
    {
      "cell_type": "code",
      "execution_count": null,
      "metadata": {
        "colab": {
          "base_uri": "https://localhost:8080/"
        },
        "id": "rDvU54YgJu6Q",
        "outputId": "07d9531f-ba9f-49ea-8e58-4eba23719448"
      },
      "outputs": [
        {
          "name": "stdout",
          "output_type": "stream",
          "text": [
            " RandomForestClassifier    LogisticRegression\n",
            "\n",
            "accuracy_score RFC         accuracy_score LR\n",
            " 0.9518167456556083        0.8961295418641391\n",
            "recall_score RFC           recall_score LR\n",
            " 0.7589498806682577        0.5250596658711217\n",
            "precision_score RFC        precision_score LR\n",
            " 0.9380530973451328        0.7746478873239436\n",
            "f1_score RFC               f1_score LR\n",
            " 0.8390501319261213        0.6258890469416785\n"
          ]
        }
      ],
      "source": [
        "print(' RandomForestClassifier    LogisticRegression\\n')\n",
        "print('accuracy_score RFC         accuracy_score LR\\n',accuracy_score(y_test, y_pred_RFC_2) ,'      ', accuracy_score(y_test, y_pred_l1))\n",
        "print('recall_score RFC           recall_score LR\\n',recall_score(y_test, y_pred_RFC_2),'      ',recall_score(y_test, y_pred_l1))\n",
        "print('precision_score RFC        precision_score LR\\n',precision_score(y_test, y_pred_RFC_2),'      ',precision_score(y_test, y_pred_l1))\n",
        "print('f1_score RFC               f1_score LR\\n',f1_score(y_test, y_pred_RFC_2),'      ',f1_score(y_test, y_pred_l1))"
      ]
    },
    {
      "cell_type": "markdown",
      "metadata": {
        "id": "sTGj0QeRKpeF"
      },
      "source": [
        "Comparamos las dos matrices de confusion de los dos mejores modelos analizados. LogisticRegression y RandomForestClassifier"
      ]
    },
    {
      "cell_type": "code",
      "execution_count": null,
      "metadata": {
        "colab": {
          "base_uri": "https://localhost:8080/",
          "height": 391
        },
        "id": "8ugazNS-HAI-",
        "outputId": "a36a5625-2335-4b7a-f23c-e3cfefb0f87c"
      },
      "outputs": [
        {
          "data": {
            "image/png": "[encoded data removed]",
            "text/plain": [
              "<Figure size 1008x360 with 4 Axes>"
            ]
          },
          "metadata": {
            "needs_background": "light"
          },
          "output_type": "display_data"
        }
      ],
      "source": [
        "f, axes = plt.subplots(1, 2,figsize=(14, 5))\n",
        "cf_matrix = confusion_matrix(y_test, y_pred_l1)\n",
        "ax = sns.heatmap(cf_matrix, annot=True, cmap='Blues',fmt='.1f',ax=axes[0])\n",
        "ax.set_title('Matriz de confusion LogisticRegression\\n\\n');\n",
        "ax.set_xlabel('\\nValores predichos')\n",
        "ax.set_ylabel('Valores reales ');\n",
        "ax.xaxis.set_ticklabels(['False','True'])\n",
        "ax.yaxis.set_ticklabels(['False','True'])\n",
        "\n",
        "cf_matrix = confusion_matrix(y_test, y_pred_RFC_2)\n",
        "ax = sns.heatmap(cf_matrix, annot=True, cmap='Blues',fmt='.1f',ax=axes[1])\n",
        "ax.set_title('Matriz de confusion RandomForestClassifier\\n\\n');\n",
        "ax.set_xlabel('\\nValores predichos')\n",
        "ax.set_ylabel('Valores reales ');\n",
        "ax.xaxis.set_ticklabels(['False','True'])\n",
        "ax.yaxis.set_ticklabels(['False','True'])\n",
        "plt.show()"
      ]
    },
    {
      "cell_type": "markdown",
      "metadata": {
        "id": "LubYUzdGK4OY"
      },
      "source": [
        "Como conclusion, seleccionaremos el modelo de RandomForestClassifier ajustando los hiperparametros como se establece en dicho modelo. \n",
        "\n",
        "Esto arrojo los mejores resultados en todas las metricas."
      ]
    },
    {
      "cell_type": "code",
      "execution_count": null,
      "metadata": {
        "id": "nuTtKIYvH8X5"
      },
      "outputs": [],
      "source": []
    }
  ],
  "metadata": {
    "colab": {
      "collapsed_sections": [
        "VcgYDpBRUNKS"
      ],
      "provenance": [],
      "toc_visible": true
    },
    "kernelspec": {
      "display_name": "Python 3",
      "language": "python",
      "name": "python3"
    },
    "language_info": {
      "codemirror_mode": {
        "name": "ipython",
        "version": 3
      },
      "file_extension": ".py",
      "mimetype": "text/x-python",
      "name": "python",
      "nbconvert_exporter": "python",
      "pygments_lexer": "ipython3",
      "version": "3.10.4"
    },
    "vscode": {
      "interpreter": {
        "hash": "645966150e57e798b3084661e29cf6db5d8e2ae3a92aa0154571396595b6f056"
      }
    }
  },
  "nbformat": 4,
  "nbformat_minor": 0
}
